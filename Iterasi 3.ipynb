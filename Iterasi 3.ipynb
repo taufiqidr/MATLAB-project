{
  "nbformat": 4,
  "nbformat_minor": 0,
  "metadata": {
    "accelerator": "GPU",
    "colab": {
      "name": "Kodingan Skripsi 3",
      "provenance": [],
      "collapsed_sections": [],
      "include_colab_link": true
    },
    "kernelspec": {
      "display_name": "Python 3",
      "language": "python",
      "name": "python3"
    },
    "language_info": {
      "codemirror_mode": {
        "name": "ipython",
        "version": 3
      },
      "file_extension": ".py",
      "mimetype": "text/x-python",
      "name": "python",
      "nbconvert_exporter": "python",
      "pygments_lexer": "ipython3",
      "version": "3.6.6"
    }
  },
  "cells": [
    {
      "cell_type": "markdown",
      "metadata": {
        "id": "view-in-github",
        "colab_type": "text"
      },
      "source": [
        "<a href=\"https://colab.research.google.com/github/TaufiqIdrus/MATLAB-project/blob/master/Iterasi%203.ipynb\" target=\"_parent\"><img src=\"https://colab.research.google.com/assets/colab-badge.svg\" alt=\"Open In Colab\"/></a>"
      ]
    },
    {
      "cell_type": "markdown",
      "metadata": {
        "id": "yJT_kQA2lITS"
      },
      "source": [
        "**Identifikasi Penyakit Pada Tanaman Apel menggunakan Convolutional Neural Network**"
      ]
    },
    {
      "cell_type": "code",
      "metadata": {
        "id": "xXeOaYTUzmgT"
      },
      "source": [
        "import numpy as np\n",
        "import pickle\n",
        "import os\n",
        "import cv2\n",
        "import tensorflow as tf\n",
        "import keras\n",
        "from os import listdir\n",
        "from sklearn.preprocessing import LabelBinarizer\n",
        "from sklearn.model_selection import KFold\n",
        "from keras.models import Sequential\n",
        "from keras.layers.normalization import batch_normalization\n",
        "from keras.layers.convolutional import Conv2D\n",
        "from keras.layers.convolutional import MaxPooling2D\n",
        "from keras.layers.core import Activation, Flatten, Dropout, Dense\n",
        "from keras import backend as K\n",
        "from tensorflow.keras.optimizers import Adam\n",
        "from keras.preprocessing import image\n",
        "from sklearn.preprocessing import MultiLabelBinarizer\n",
        "from sklearn.model_selection import train_test_split\n",
        "import matplotlib.pyplot as plt\n",
        "from sklearn.datasets import make_classification\n",
        "from numpy import mean\n",
        "from sklearn.metrics import confusion_matrix, ConfusionMatrixDisplay, accuracy_score, classification_report, recall_score\n"
      ],
      "execution_count": 1,
      "outputs": []
    },
    {
      "cell_type": "markdown",
      "metadata": {
        "id": "fp8C0d28lQok"
      },
      "source": [
        "Importing and Preparing Dataset"
      ]
    },
    {
      "cell_type": "code",
      "metadata": {
        "id": "_0xehllADlUs",
        "colab": {
          "base_uri": "https://localhost:8080/"
        },
        "outputId": "4670d523-aab5-433c-a064-d2cbd714a301"
      },
      "source": [
        "!pip install pyunpack\n",
        "!pip install patool\n",
        "from pyunpack import Archive\n",
        "Archive('/content/Fold 3.rar').extractall('/content/Datasets/')\n",
        "iterasi = 3\n",
        "width=256\n",
        "height=256\n",
        "default_image_size = tuple((height, width))\n",
        "directory_root_train = '/content/Datasets/Fold 3/Train'\n",
        "directory_root_validation = '/content/Datasets/Fold 3/Validation'\n",
        "directory_root_test = '/content/Datasets/Fold 3/Test'\n",
        "image_size = 0\n",
        "depth=3"
      ],
      "execution_count": 2,
      "outputs": [
        {
          "output_type": "stream",
          "name": "stdout",
          "text": [
            "Collecting pyunpack\n",
            "  Downloading pyunpack-0.2.2-py2.py3-none-any.whl (3.8 kB)\n",
            "Collecting entrypoint2\n",
            "  Downloading entrypoint2-1.0-py3-none-any.whl (9.8 kB)\n",
            "Collecting easyprocess\n",
            "  Downloading EasyProcess-1.1-py3-none-any.whl (8.7 kB)\n",
            "Installing collected packages: entrypoint2, easyprocess, pyunpack\n",
            "Successfully installed easyprocess-1.1 entrypoint2-1.0 pyunpack-0.2.2\n",
            "Collecting patool\n",
            "  Downloading patool-1.12-py2.py3-none-any.whl (77 kB)\n",
            "\u001b[K     |████████████████████████████████| 77 kB 4.9 MB/s \n",
            "\u001b[?25hInstalling collected packages: patool\n",
            "Successfully installed patool-1.12\n"
          ]
        }
      ]
    },
    {
      "cell_type": "code",
      "metadata": {
        "id": "KbAwJJTpzmge"
      },
      "source": [
        "def convert_image_to_array(image_dir):\n",
        "    try:\n",
        "        image = cv2.imread(image_dir)\n",
        "        if image is not None :\n",
        "            image = cv2.resize(image, default_image_size)   \n",
        "            return keras.preprocessing.image.img_to_array(image)\n",
        "        else :\n",
        "            return np.array([])\n",
        "    except Exception as e:\n",
        "        print(f\"Error : {e}\")\n",
        "        return None"
      ],
      "execution_count": 3,
      "outputs": []
    },
    {
      "cell_type": "markdown",
      "source": [
        "Converting **Training** Data to Array"
      ],
      "metadata": {
        "id": "bgXxUMO2cI_D"
      }
    },
    {
      "cell_type": "code",
      "metadata": {
        "id": "Erz6IjKXzmgg",
        "colab": {
          "base_uri": "https://localhost:8080/"
        },
        "outputId": "f223d435-3e72-47a0-da76-06a736f45c30"
      },
      "source": [
        "image_list_train, label_list_train = [], []\n",
        "try:\n",
        "    print(\"[INFO] Loading images ...\")\n",
        "    root_dir = listdir(directory_root_train)\n",
        "\n",
        "    for plant_disease_folder in root_dir:\n",
        "        print(f\"[INFO] Processing {plant_disease_folder} ...\")\n",
        "        plant_disease_image_list = listdir(f\"{directory_root_train}/{plant_disease_folder}/\")\n",
        "      \n",
        "        for image in plant_disease_image_list:\n",
        "            image_directory = f\"{directory_root_train}/{plant_disease_folder}/{image}\"\n",
        "\n",
        "            if image_directory.endswith(\".jpg\") == True or image_directory.endswith(\".JPG\") == True:\n",
        "                image_list_train.append(convert_image_to_array(image_directory))\n",
        "                label_list_train.append(plant_disease_folder)\n",
        "    print(\"[INFO] Image loading completed\")\n",
        "\n",
        "except Exception as e:\n",
        "    print(f\"Error : {e}\")\n",
        "\n",
        "#image labeling\n",
        "image_size = len(image_list_train)\n",
        "label_binarizer = LabelBinarizer()\n",
        "image_labels_train = label_binarizer.fit_transform(label_list_train)\n",
        "pickle.dump(label_binarizer,open('label_transform_train.pkl', 'wb'))\n",
        "n_classes = len(label_binarizer.classes_)\n",
        "np_image_list_train = np.array(image_list_train, dtype=np.float16) / 255.0"
      ],
      "execution_count": 4,
      "outputs": [
        {
          "output_type": "stream",
          "name": "stdout",
          "text": [
            "[INFO] Loading images ...\n",
            "[INFO] Processing Apple___Black_rot ...\n",
            "[INFO] Processing Apple___Apple_scab ...\n",
            "[INFO] Processing Apple___healthy ...\n",
            "[INFO] Processing Apple___Cedar_apple_rust ...\n",
            "[INFO] Image loading completed\n"
          ]
        }
      ]
    },
    {
      "cell_type": "markdown",
      "source": [
        "Converting **Validation** Data to Array"
      ],
      "metadata": {
        "id": "7eEMGiqRd_E4"
      }
    },
    {
      "cell_type": "code",
      "source": [
        "image_list_validation, label_list_validation = [], []\n",
        "try:\n",
        "    print(\"[INFO] Loading images ...\")\n",
        "    root_dir = listdir(directory_root_validation)\n",
        "\n",
        "    for plant_disease_folder in root_dir:\n",
        "        print(f\"[INFO] Processing {plant_disease_folder} ...\")\n",
        "        plant_disease_image_list = listdir(f\"{directory_root_validation}/{plant_disease_folder}/\")\n",
        "      \n",
        "        for image in plant_disease_image_list:\n",
        "            image_directory = f\"{directory_root_validation}/{plant_disease_folder}/{image}\"\n",
        "\n",
        "            if image_directory.endswith(\".jpg\") == True or image_directory.endswith(\".JPG\") == True:\n",
        "                image_list_validation.append(convert_image_to_array(image_directory))\n",
        "                label_list_validation.append(plant_disease_folder)\n",
        "    print(\"[INFO] Image loading completed\")\n",
        "\n",
        "except Exception as e:\n",
        "    print(f\"Error : {e}\")\n",
        "\n",
        "#image labeling\n",
        "image_size = len(image_list_validation)\n",
        "label_binarizer = LabelBinarizer()\n",
        "image_labels_validation = label_binarizer.fit_transform(label_list_validation)\n",
        "pickle.dump(label_binarizer,open('label_transform_validation.pkl', 'wb'))\n",
        "n_classes = len(label_binarizer.classes_)\n",
        "np_image_list_validation = np.array(image_list_validation, dtype=np.float16) / 255.0"
      ],
      "metadata": {
        "id": "wfHDdR0ZeEuU",
        "colab": {
          "base_uri": "https://localhost:8080/"
        },
        "outputId": "dda19763-821e-491a-c177-de15347f0fef"
      },
      "execution_count": 5,
      "outputs": [
        {
          "output_type": "stream",
          "name": "stdout",
          "text": [
            "[INFO] Loading images ...\n",
            "[INFO] Processing Apple___Black_rot ...\n",
            "[INFO] Processing Apple___Apple_scab ...\n",
            "[INFO] Processing Apple___healthy ...\n",
            "[INFO] Processing Apple___Cedar_apple_rust ...\n",
            "[INFO] Image loading completed\n"
          ]
        }
      ]
    },
    {
      "cell_type": "markdown",
      "source": [
        "Converting **Testing** Data to Array"
      ],
      "metadata": {
        "id": "brwWyZVncTdg"
      }
    },
    {
      "cell_type": "code",
      "metadata": {
        "id": "uNPby5UMcaWY",
        "colab": {
          "base_uri": "https://localhost:8080/"
        },
        "outputId": "02636b3b-0951-4ecb-8853-b1470e7e6589"
      },
      "source": [
        "image_list_test, label_list_test = [], []\n",
        "try:\n",
        "    print(\"[INFO] Loading images ...\")\n",
        "    root_dir = listdir(directory_root_test)\n",
        "\n",
        "    for plant_disease_folder in root_dir:\n",
        "        print(f\"[INFO] Processing {plant_disease_folder} ...\")\n",
        "        plant_disease_image_list = listdir(f\"{directory_root_test}/{plant_disease_folder}/\")\n",
        "      \n",
        "        for image in plant_disease_image_list:\n",
        "            image_directory = f\"{directory_root_test}/{plant_disease_folder}/{image}\"\n",
        "\n",
        "            if image_directory.endswith(\".jpg\") == True or image_directory.endswith(\".JPG\") == True:\n",
        "                image_list_test.append(convert_image_to_array(image_directory))\n",
        "                label_list_test.append(plant_disease_folder)\n",
        "    print(\"[INFO] Image loading completed\")\n",
        "\n",
        "except Exception as e:\n",
        "    print(f\"Error : {e}\")\n",
        "\n",
        "#image labeling\n",
        "image_size = len(image_list_test)\n",
        "label_binarizer = LabelBinarizer()\n",
        "image_labels_test = label_binarizer.fit_transform(label_list_test)\n",
        "pickle.dump(label_binarizer,open('label_transform_test.pkl', 'wb'))\n",
        "n_classes = len(label_binarizer.classes_)\n",
        "np_image_list_test = np.array(image_list_test, dtype=np.float16) / 255.0"
      ],
      "execution_count": 6,
      "outputs": [
        {
          "output_type": "stream",
          "name": "stdout",
          "text": [
            "[INFO] Loading images ...\n",
            "[INFO] Processing Apple___Black_rot ...\n",
            "[INFO] Processing Apple___Apple_scab ...\n",
            "[INFO] Processing Apple___healthy ...\n",
            "[INFO] Processing Apple___Cedar_apple_rust ...\n",
            "[INFO] Image loading completed\n"
          ]
        }
      ]
    },
    {
      "cell_type": "markdown",
      "metadata": {
        "id": "jYBTFN0CnAi7"
      },
      "source": [
        "Data Augmenting Initialization"
      ]
    },
    {
      "cell_type": "code",
      "metadata": {
        "id": "TLMxMK2Tzmgr"
      },
      "source": [
        "aug = keras.preprocessing.image.ImageDataGenerator(\n",
        "    rotation_range=25, \n",
        "    width_shift_range=0.1,\n",
        "    height_shift_range=0.1, \n",
        "    shear_range=0.2, \n",
        "    zoom_range=0.2,\n",
        "    horizontal_flip=True, \n",
        "    fill_mode=\"nearest\")"
      ],
      "execution_count": 7,
      "outputs": []
    },
    {
      "cell_type": "markdown",
      "metadata": {
        "id": "H1BfRyYNnGv_"
      },
      "source": [
        "Creating CNN Model"
      ]
    },
    {
      "cell_type": "code",
      "metadata": {
        "id": "WmLX4wm8zmgs"
      },
      "source": [
        "model = keras.models.Sequential()\n",
        "inputShape = (height, width, depth)\n",
        "\n",
        "model.add(Conv2D(32, (3, 3), padding=\"same\",input_shape=inputShape))\n",
        "model.add(Activation(\"relu\"))\n",
        "\n",
        "model.add(MaxPooling2D(pool_size=(3, 3)))\n",
        "\n",
        "model.add(Conv2D(64, (3, 3), padding=\"same\"))\n",
        "model.add(Activation(\"relu\"))\n",
        "\n",
        "model.add(MaxPooling2D(pool_size=(3, 3)))\n",
        "\n",
        "model.add(Conv2D(128, (3, 3), padding=\"same\"))\n",
        "model.add(Activation(\"relu\"))\n",
        "\n",
        "model.add(MaxPooling2D(pool_size=(2, 2)))\n",
        "\n",
        "model.add(Conv2D(256, (3, 3), padding=\"same\"))\n",
        "model.add(Activation(\"relu\"))\n",
        "\n",
        "model.add(MaxPooling2D(pool_size=(2, 2)))\n",
        "\n",
        "model.add(Flatten())\n",
        "\n",
        "model.add(Dense(1024))\n",
        "model.add(Activation(\"relu\"))\n",
        "\n",
        "model.add(Dense(n_classes))\n",
        "model.add(Activation(\"softmax\"))"
      ],
      "execution_count": 8,
      "outputs": []
    },
    {
      "cell_type": "code",
      "source": [
        "#callback = tf.keras.callbacks.EarlyStopping(monitor='loss', patience=3)"
      ],
      "metadata": {
        "id": "9Dv-xrGBgeRq"
      },
      "execution_count": 9,
      "outputs": []
    },
    {
      "cell_type": "markdown",
      "metadata": {
        "id": "Zfsu3lVfnXFG"
      },
      "source": [
        "**Training** Network"
      ]
    },
    {
      "cell_type": "code",
      "metadata": {
        "id": "rvwKwe3Lzmgv",
        "colab": {
          "base_uri": "https://localhost:8080/"
        },
        "outputId": "f3ad2fd9-c182-41bf-9c1c-abe578b50725"
      },
      "source": [
        "EPOCHS = 50\n",
        "INIT_LR = 1e-3\n",
        "BS = 32\n",
        "\n",
        "with tf.device('/GPU:0'):\n",
        "  opt = Adam(learning_rate=INIT_LR, decay=INIT_LR / EPOCHS)\n",
        "  model.compile(loss=\"binary_crossentropy\", optimizer=opt,metrics=[\"Accuracy\", \"FalseNegatives\", \"FalsePositives\", \"TrueNegatives\", \"TruePositives\"])\n",
        "  \n",
        "  history = model.fit(\n",
        "      aug.flow(np_image_list_train, image_labels_train, batch_size=BS),\n",
        "      validation_data=(np_image_list_validation, image_labels_validation),\n",
        "      steps_per_epoch=len(np_image_list_train) // BS,\n",
        "      epochs=EPOCHS, \n",
        "      verbose=1,\n",
        "      )\n"
      ],
      "execution_count": 10,
      "outputs": [
        {
          "output_type": "stream",
          "name": "stdout",
          "text": [
            "Epoch 1/50\n",
            "63/63 [==============================] - 44s 516ms/step - loss: 0.3630 - Accuracy: 0.6680 - false_negatives: 799.0000 - false_positives: 445.0000 - true_negatives: 5546.0000 - true_positives: 1198.0000 - val_loss: 0.2769 - val_Accuracy: 0.7929 - val_false_negatives: 111.0000 - val_false_positives: 89.0000 - val_true_negatives: 1432.0000 - val_true_positives: 396.0000\n",
            "Epoch 2/50\n",
            "63/63 [==============================] - 31s 492ms/step - loss: 0.2137 - Accuracy: 0.8317 - false_negatives: 349.0000 - false_positives: 306.0000 - true_negatives: 5685.0000 - true_positives: 1648.0000 - val_loss: 0.1745 - val_Accuracy: 0.8481 - val_false_negatives: 83.0000 - val_false_positives: 71.0000 - val_true_negatives: 1450.0000 - val_true_positives: 424.0000\n",
            "Epoch 3/50\n",
            "63/63 [==============================] - 31s 488ms/step - loss: 0.1659 - Accuracy: 0.8663 - false_negatives: 284.0000 - false_positives: 248.0000 - true_negatives: 5743.0000 - true_positives: 1713.0000 - val_loss: 0.2363 - val_Accuracy: 0.8600 - val_false_negatives: 71.0000 - val_false_positives: 70.0000 - val_true_negatives: 1451.0000 - val_true_positives: 436.0000\n",
            "Epoch 4/50\n",
            "63/63 [==============================] - 32s 500ms/step - loss: 0.1351 - Accuracy: 0.8918 - false_negatives: 226.0000 - false_positives: 206.0000 - true_negatives: 5785.0000 - true_positives: 1771.0000 - val_loss: 0.1619 - val_Accuracy: 0.8876 - val_false_negatives: 57.0000 - val_false_positives: 55.0000 - val_true_negatives: 1466.0000 - val_true_positives: 450.0000\n",
            "Epoch 5/50\n",
            "63/63 [==============================] - 32s 504ms/step - loss: 0.1201 - Accuracy: 0.9019 - false_negatives: 202.0000 - false_positives: 193.0000 - true_negatives: 5798.0000 - true_positives: 1795.0000 - val_loss: 0.3383 - val_Accuracy: 0.8245 - val_false_negatives: 90.0000 - val_false_positives: 88.0000 - val_true_negatives: 1433.0000 - val_true_positives: 417.0000\n",
            "Epoch 6/50\n",
            "63/63 [==============================] - 31s 497ms/step - loss: 0.1381 - Accuracy: 0.8873 - false_negatives: 226.0000 - false_positives: 213.0000 - true_negatives: 5778.0000 - true_positives: 1771.0000 - val_loss: 0.1782 - val_Accuracy: 0.8876 - val_false_negatives: 59.0000 - val_false_positives: 53.0000 - val_true_negatives: 1468.0000 - val_true_positives: 448.0000\n",
            "Epoch 7/50\n",
            "63/63 [==============================] - 31s 494ms/step - loss: 0.1022 - Accuracy: 0.9169 - false_negatives: 173.0000 - false_positives: 158.0000 - true_negatives: 5833.0000 - true_positives: 1824.0000 - val_loss: 0.3994 - val_Accuracy: 0.8363 - val_false_negatives: 83.0000 - val_false_positives: 82.0000 - val_true_negatives: 1439.0000 - val_true_positives: 424.0000\n",
            "Epoch 8/50\n",
            "63/63 [==============================] - 31s 489ms/step - loss: 0.0899 - Accuracy: 0.9374 - false_negatives: 129.0000 - false_positives: 120.0000 - true_negatives: 5871.0000 - true_positives: 1868.0000 - val_loss: 0.2542 - val_Accuracy: 0.8718 - val_false_negatives: 66.0000 - val_false_positives: 65.0000 - val_true_negatives: 1456.0000 - val_true_positives: 441.0000\n",
            "Epoch 9/50\n",
            "63/63 [==============================] - 31s 495ms/step - loss: 0.1048 - Accuracy: 0.9154 - false_negatives: 172.0000 - false_positives: 165.0000 - true_negatives: 5826.0000 - true_positives: 1825.0000 - val_loss: 0.1037 - val_Accuracy: 0.9231 - val_false_negatives: 41.0000 - val_false_positives: 39.0000 - val_true_negatives: 1482.0000 - val_true_positives: 466.0000\n",
            "Epoch 10/50\n",
            "63/63 [==============================] - 31s 493ms/step - loss: 0.0825 - Accuracy: 0.9419 - false_negatives: 122.0000 - false_positives: 112.0000 - true_negatives: 5879.0000 - true_positives: 1875.0000 - val_loss: 0.1730 - val_Accuracy: 0.9034 - val_false_negatives: 50.0000 - val_false_positives: 49.0000 - val_true_negatives: 1472.0000 - val_true_positives: 457.0000\n",
            "Epoch 11/50\n",
            "63/63 [==============================] - 31s 493ms/step - loss: 0.0912 - Accuracy: 0.9284 - false_negatives: 152.0000 - false_positives: 138.0000 - true_negatives: 5853.0000 - true_positives: 1845.0000 - val_loss: 0.1166 - val_Accuracy: 0.9250 - val_false_negatives: 38.0000 - val_false_positives: 37.0000 - val_true_negatives: 1484.0000 - val_true_positives: 469.0000\n",
            "Epoch 12/50\n",
            "63/63 [==============================] - 31s 485ms/step - loss: 0.0812 - Accuracy: 0.9344 - false_negatives: 135.0000 - false_positives: 125.0000 - true_negatives: 5866.0000 - true_positives: 1862.0000 - val_loss: 0.0917 - val_Accuracy: 0.9310 - val_false_negatives: 37.0000 - val_false_positives: 33.0000 - val_true_negatives: 1488.0000 - val_true_positives: 470.0000\n",
            "Epoch 13/50\n",
            "63/63 [==============================] - 32s 502ms/step - loss: 0.0774 - Accuracy: 0.9439 - false_negatives: 113.0000 - false_positives: 109.0000 - true_negatives: 5939.0000 - true_positives: 1903.0000 - val_loss: 0.1449 - val_Accuracy: 0.8994 - val_false_negatives: 53.0000 - val_false_positives: 47.0000 - val_true_negatives: 1474.0000 - val_true_positives: 454.0000\n",
            "Epoch 14/50\n",
            "63/63 [==============================] - 31s 496ms/step - loss: 0.0804 - Accuracy: 0.9424 - false_negatives: 119.0000 - false_positives: 111.0000 - true_negatives: 5880.0000 - true_positives: 1878.0000 - val_loss: 0.0733 - val_Accuracy: 0.9448 - val_false_negatives: 28.0000 - val_false_positives: 28.0000 - val_true_negatives: 1493.0000 - val_true_positives: 479.0000\n",
            "Epoch 15/50\n",
            "63/63 [==============================] - 31s 495ms/step - loss: 0.0587 - Accuracy: 0.9544 - false_negatives: 96.0000 - false_positives: 89.0000 - true_negatives: 5902.0000 - true_positives: 1901.0000 - val_loss: 0.1177 - val_Accuracy: 0.9132 - val_false_negatives: 44.0000 - val_false_positives: 43.0000 - val_true_negatives: 1478.0000 - val_true_positives: 463.0000\n",
            "Epoch 16/50\n",
            "63/63 [==============================] - 31s 490ms/step - loss: 0.0576 - Accuracy: 0.9564 - false_negatives: 90.0000 - false_positives: 84.0000 - true_negatives: 5907.0000 - true_positives: 1907.0000 - val_loss: 0.1928 - val_Accuracy: 0.8540 - val_false_negatives: 77.0000 - val_false_positives: 71.0000 - val_true_negatives: 1450.0000 - val_true_positives: 430.0000\n",
            "Epoch 17/50\n",
            "63/63 [==============================] - 32s 501ms/step - loss: 0.0520 - Accuracy: 0.9609 - false_negatives: 82.0000 - false_positives: 78.0000 - true_negatives: 5913.0000 - true_positives: 1915.0000 - val_loss: 0.0859 - val_Accuracy: 0.9428 - val_false_negatives: 30.0000 - val_false_positives: 28.0000 - val_true_negatives: 1493.0000 - val_true_positives: 477.0000\n",
            "Epoch 18/50\n",
            "63/63 [==============================] - 31s 499ms/step - loss: 0.0350 - Accuracy: 0.9760 - false_negatives: 48.0000 - false_positives: 46.0000 - true_negatives: 5945.0000 - true_positives: 1949.0000 - val_loss: 0.0989 - val_Accuracy: 0.9487 - val_false_negatives: 27.0000 - val_false_positives: 26.0000 - val_true_negatives: 1495.0000 - val_true_positives: 480.0000\n",
            "Epoch 19/50\n",
            "63/63 [==============================] - 31s 501ms/step - loss: 0.0707 - Accuracy: 0.9489 - false_negatives: 105.0000 - false_positives: 102.0000 - true_negatives: 5889.0000 - true_positives: 1892.0000 - val_loss: 0.0674 - val_Accuracy: 0.9566 - val_false_negatives: 22.0000 - val_false_positives: 22.0000 - val_true_negatives: 1499.0000 - val_true_positives: 485.0000\n",
            "Epoch 20/50\n",
            "63/63 [==============================] - 31s 491ms/step - loss: 0.0365 - Accuracy: 0.9690 - false_negatives: 63.0000 - false_positives: 62.0000 - true_negatives: 5929.0000 - true_positives: 1934.0000 - val_loss: 0.1103 - val_Accuracy: 0.9270 - val_false_negatives: 37.0000 - val_false_positives: 36.0000 - val_true_negatives: 1485.0000 - val_true_positives: 470.0000\n",
            "Epoch 21/50\n",
            "63/63 [==============================] - 31s 499ms/step - loss: 0.0409 - Accuracy: 0.9705 - false_negatives: 59.0000 - false_positives: 59.0000 - true_negatives: 5932.0000 - true_positives: 1938.0000 - val_loss: 0.0412 - val_Accuracy: 0.9783 - val_false_negatives: 11.0000 - val_false_positives: 11.0000 - val_true_negatives: 1510.0000 - val_true_positives: 496.0000\n",
            "Epoch 22/50\n",
            "63/63 [==============================] - 31s 492ms/step - loss: 0.0383 - Accuracy: 0.9725 - false_negatives: 55.0000 - false_positives: 52.0000 - true_negatives: 5939.0000 - true_positives: 1942.0000 - val_loss: 0.1050 - val_Accuracy: 0.9408 - val_false_negatives: 30.0000 - val_false_positives: 29.0000 - val_true_negatives: 1492.0000 - val_true_positives: 477.0000\n",
            "Epoch 23/50\n",
            "63/63 [==============================] - 31s 491ms/step - loss: 0.0445 - Accuracy: 0.9680 - false_negatives: 66.0000 - false_positives: 64.0000 - true_negatives: 5927.0000 - true_positives: 1931.0000 - val_loss: 0.0784 - val_Accuracy: 0.9684 - val_false_negatives: 16.0000 - val_false_positives: 16.0000 - val_true_negatives: 1505.0000 - val_true_positives: 491.0000\n",
            "Epoch 24/50\n",
            "63/63 [==============================] - 31s 489ms/step - loss: 0.0227 - Accuracy: 0.9810 - false_negatives: 38.0000 - false_positives: 37.0000 - true_negatives: 5954.0000 - true_positives: 1959.0000 - val_loss: 0.1825 - val_Accuracy: 0.9014 - val_false_negatives: 50.0000 - val_false_positives: 50.0000 - val_true_negatives: 1471.0000 - val_true_positives: 457.0000\n",
            "Epoch 25/50\n",
            "63/63 [==============================] - 32s 504ms/step - loss: 0.0223 - Accuracy: 0.9795 - false_negatives: 41.0000 - false_positives: 41.0000 - true_negatives: 5950.0000 - true_positives: 1956.0000 - val_loss: 0.1868 - val_Accuracy: 0.9191 - val_false_negatives: 41.0000 - val_false_positives: 41.0000 - val_true_negatives: 1480.0000 - val_true_positives: 466.0000\n",
            "Epoch 26/50\n",
            "63/63 [==============================] - 32s 501ms/step - loss: 0.0334 - Accuracy: 0.9795 - false_negatives: 42.0000 - false_positives: 41.0000 - true_negatives: 5950.0000 - true_positives: 1955.0000 - val_loss: 0.0502 - val_Accuracy: 0.9704 - val_false_negatives: 15.0000 - val_false_positives: 15.0000 - val_true_negatives: 1506.0000 - val_true_positives: 492.0000\n",
            "Epoch 27/50\n",
            "63/63 [==============================] - 31s 495ms/step - loss: 0.0284 - Accuracy: 0.9780 - false_negatives: 44.0000 - false_positives: 44.0000 - true_negatives: 5947.0000 - true_positives: 1953.0000 - val_loss: 0.0402 - val_Accuracy: 0.9684 - val_false_negatives: 16.0000 - val_false_positives: 16.0000 - val_true_negatives: 1505.0000 - val_true_positives: 491.0000\n",
            "Epoch 28/50\n",
            "63/63 [==============================] - 31s 491ms/step - loss: 0.0546 - Accuracy: 0.9574 - false_negatives: 86.0000 - false_positives: 84.0000 - true_negatives: 5907.0000 - true_positives: 1911.0000 - val_loss: 0.1088 - val_Accuracy: 0.9250 - val_false_negatives: 38.0000 - val_false_positives: 37.0000 - val_true_negatives: 1484.0000 - val_true_positives: 469.0000\n",
            "Epoch 29/50\n",
            "63/63 [==============================] - 31s 484ms/step - loss: 0.0331 - Accuracy: 0.9800 - false_negatives: 41.0000 - false_positives: 38.0000 - true_negatives: 5953.0000 - true_positives: 1956.0000 - val_loss: 0.0369 - val_Accuracy: 0.9803 - val_false_negatives: 10.0000 - val_false_positives: 10.0000 - val_true_negatives: 1511.0000 - val_true_positives: 497.0000\n",
            "Epoch 30/50\n",
            "63/63 [==============================] - 31s 493ms/step - loss: 0.0202 - Accuracy: 0.9855 - false_negatives: 29.0000 - false_positives: 28.0000 - true_negatives: 5963.0000 - true_positives: 1968.0000 - val_loss: 0.0657 - val_Accuracy: 0.9684 - val_false_negatives: 16.0000 - val_false_positives: 16.0000 - val_true_negatives: 1505.0000 - val_true_positives: 491.0000\n",
            "Epoch 31/50\n",
            "63/63 [==============================] - 31s 493ms/step - loss: 0.0189 - Accuracy: 0.9845 - false_negatives: 31.0000 - false_positives: 31.0000 - true_negatives: 5960.0000 - true_positives: 1966.0000 - val_loss: 0.1968 - val_Accuracy: 0.8915 - val_false_negatives: 55.0000 - val_false_positives: 54.0000 - val_true_negatives: 1467.0000 - val_true_positives: 452.0000\n",
            "Epoch 32/50\n",
            "63/63 [==============================] - 31s 493ms/step - loss: 0.0268 - Accuracy: 0.9810 - false_negatives: 39.0000 - false_positives: 38.0000 - true_negatives: 5953.0000 - true_positives: 1958.0000 - val_loss: 0.0251 - val_Accuracy: 0.9862 - val_false_negatives: 7.0000 - val_false_positives: 7.0000 - val_true_negatives: 1514.0000 - val_true_positives: 500.0000\n",
            "Epoch 33/50\n",
            "63/63 [==============================] - 31s 491ms/step - loss: 0.0222 - Accuracy: 0.9850 - false_negatives: 31.0000 - false_positives: 30.0000 - true_negatives: 5961.0000 - true_positives: 1966.0000 - val_loss: 0.0668 - val_Accuracy: 0.9606 - val_false_negatives: 20.0000 - val_false_positives: 20.0000 - val_true_negatives: 1501.0000 - val_true_positives: 487.0000\n",
            "Epoch 34/50\n",
            "63/63 [==============================] - 31s 498ms/step - loss: 0.0153 - Accuracy: 0.9905 - false_negatives: 19.0000 - false_positives: 18.0000 - true_negatives: 5973.0000 - true_positives: 1978.0000 - val_loss: 0.1049 - val_Accuracy: 0.9507 - val_false_negatives: 25.0000 - val_false_positives: 25.0000 - val_true_negatives: 1496.0000 - val_true_positives: 482.0000\n",
            "Epoch 35/50\n",
            "63/63 [==============================] - 31s 493ms/step - loss: 0.0154 - Accuracy: 0.9900 - false_negatives: 20.0000 - false_positives: 20.0000 - true_negatives: 5971.0000 - true_positives: 1977.0000 - val_loss: 0.0643 - val_Accuracy: 0.9763 - val_false_negatives: 12.0000 - val_false_positives: 12.0000 - val_true_negatives: 1509.0000 - val_true_positives: 495.0000\n",
            "Epoch 36/50\n",
            "63/63 [==============================] - 31s 487ms/step - loss: 0.0093 - Accuracy: 0.9940 - false_negatives: 12.0000 - false_positives: 12.0000 - true_negatives: 5979.0000 - true_positives: 1985.0000 - val_loss: 0.0633 - val_Accuracy: 0.9645 - val_false_negatives: 18.0000 - val_false_positives: 18.0000 - val_true_negatives: 1503.0000 - val_true_positives: 489.0000\n",
            "Epoch 37/50\n",
            "63/63 [==============================] - 31s 492ms/step - loss: 0.0226 - Accuracy: 0.9855 - false_negatives: 29.0000 - false_positives: 29.0000 - true_negatives: 5962.0000 - true_positives: 1968.0000 - val_loss: 0.0469 - val_Accuracy: 0.9763 - val_false_negatives: 12.0000 - val_false_positives: 12.0000 - val_true_negatives: 1509.0000 - val_true_positives: 495.0000\n",
            "Epoch 38/50\n",
            "63/63 [==============================] - 31s 493ms/step - loss: 0.0100 - Accuracy: 0.9930 - false_negatives: 14.0000 - false_positives: 14.0000 - true_negatives: 5977.0000 - true_positives: 1983.0000 - val_loss: 0.0322 - val_Accuracy: 0.9842 - val_false_negatives: 8.0000 - val_false_positives: 8.0000 - val_true_negatives: 1513.0000 - val_true_positives: 499.0000\n",
            "Epoch 39/50\n",
            "63/63 [==============================] - 31s 491ms/step - loss: 0.0118 - Accuracy: 0.9905 - false_negatives: 19.0000 - false_positives: 19.0000 - true_negatives: 5972.0000 - true_positives: 1978.0000 - val_loss: 0.0602 - val_Accuracy: 0.9763 - val_false_negatives: 12.0000 - val_false_positives: 12.0000 - val_true_negatives: 1509.0000 - val_true_positives: 495.0000\n",
            "Epoch 40/50\n",
            "63/63 [==============================] - 31s 488ms/step - loss: 0.0359 - Accuracy: 0.9775 - false_negatives: 45.0000 - false_positives: 45.0000 - true_negatives: 5946.0000 - true_positives: 1952.0000 - val_loss: 0.1093 - val_Accuracy: 0.9487 - val_false_negatives: 27.0000 - val_false_positives: 26.0000 - val_true_negatives: 1495.0000 - val_true_positives: 480.0000\n",
            "Epoch 41/50\n",
            "63/63 [==============================] - 31s 486ms/step - loss: 0.0132 - Accuracy: 0.9900 - false_negatives: 20.0000 - false_positives: 20.0000 - true_negatives: 5971.0000 - true_positives: 1977.0000 - val_loss: 0.0513 - val_Accuracy: 0.9783 - val_false_negatives: 11.0000 - val_false_positives: 11.0000 - val_true_negatives: 1510.0000 - val_true_positives: 496.0000\n",
            "Epoch 42/50\n",
            "63/63 [==============================] - 32s 500ms/step - loss: 0.0079 - Accuracy: 0.9945 - false_negatives: 11.0000 - false_positives: 11.0000 - true_negatives: 5980.0000 - true_positives: 1986.0000 - val_loss: 0.0602 - val_Accuracy: 0.9704 - val_false_negatives: 15.0000 - val_false_positives: 15.0000 - val_true_negatives: 1506.0000 - val_true_positives: 492.0000\n",
            "Epoch 43/50\n",
            "63/63 [==============================] - 31s 492ms/step - loss: 0.0117 - Accuracy: 0.9920 - false_negatives: 16.0000 - false_positives: 16.0000 - true_negatives: 5975.0000 - true_positives: 1981.0000 - val_loss: 0.1397 - val_Accuracy: 0.9428 - val_false_negatives: 29.0000 - val_false_positives: 29.0000 - val_true_negatives: 1492.0000 - val_true_positives: 478.0000\n",
            "Epoch 44/50\n",
            "63/63 [==============================] - 31s 496ms/step - loss: 0.0075 - Accuracy: 0.9965 - false_negatives: 7.0000 - false_positives: 7.0000 - true_negatives: 5984.0000 - true_positives: 1990.0000 - val_loss: 0.0639 - val_Accuracy: 0.9704 - val_false_negatives: 15.0000 - val_false_positives: 14.0000 - val_true_negatives: 1507.0000 - val_true_positives: 492.0000\n",
            "Epoch 45/50\n",
            "63/63 [==============================] - 31s 486ms/step - loss: 0.0225 - Accuracy: 0.9885 - false_negatives: 23.0000 - false_positives: 23.0000 - true_negatives: 5968.0000 - true_positives: 1974.0000 - val_loss: 0.0595 - val_Accuracy: 0.9724 - val_false_negatives: 14.0000 - val_false_positives: 14.0000 - val_true_negatives: 1507.0000 - val_true_positives: 493.0000\n",
            "Epoch 46/50\n",
            "63/63 [==============================] - 30s 482ms/step - loss: 0.0244 - Accuracy: 0.9870 - false_negatives: 26.0000 - false_positives: 26.0000 - true_negatives: 5965.0000 - true_positives: 1971.0000 - val_loss: 0.0574 - val_Accuracy: 0.9704 - val_false_negatives: 15.0000 - val_false_positives: 15.0000 - val_true_negatives: 1506.0000 - val_true_positives: 492.0000\n",
            "Epoch 47/50\n",
            "63/63 [==============================] - 31s 495ms/step - loss: 0.0236 - Accuracy: 0.9850 - false_negatives: 30.0000 - false_positives: 30.0000 - true_negatives: 5961.0000 - true_positives: 1967.0000 - val_loss: 0.0292 - val_Accuracy: 0.9822 - val_false_negatives: 9.0000 - val_false_positives: 9.0000 - val_true_negatives: 1512.0000 - val_true_positives: 498.0000\n",
            "Epoch 48/50\n",
            "63/63 [==============================] - 31s 489ms/step - loss: 0.0236 - Accuracy: 0.9825 - false_negatives: 35.0000 - false_positives: 35.0000 - true_negatives: 5956.0000 - true_positives: 1962.0000 - val_loss: 0.0228 - val_Accuracy: 0.9901 - val_false_negatives: 5.0000 - val_false_positives: 5.0000 - val_true_negatives: 1516.0000 - val_true_positives: 502.0000\n",
            "Epoch 49/50\n",
            "63/63 [==============================] - 31s 485ms/step - loss: 0.0149 - Accuracy: 0.9920 - false_negatives: 16.0000 - false_positives: 16.0000 - true_negatives: 5975.0000 - true_positives: 1981.0000 - val_loss: 0.0348 - val_Accuracy: 0.9783 - val_false_negatives: 11.0000 - val_false_positives: 11.0000 - val_true_negatives: 1510.0000 - val_true_positives: 496.0000\n",
            "Epoch 50/50\n",
            "63/63 [==============================] - 31s 485ms/step - loss: 0.0048 - Accuracy: 0.9965 - false_negatives: 7.0000 - false_positives: 7.0000 - true_negatives: 5984.0000 - true_positives: 1990.0000 - val_loss: 0.0548 - val_Accuracy: 0.9645 - val_false_negatives: 18.0000 - val_false_positives: 18.0000 - val_true_negatives: 1503.0000 - val_true_positives: 489.0000\n"
          ]
        }
      ]
    },
    {
      "cell_type": "markdown",
      "source": [
        "Plotting Traning Result"
      ],
      "metadata": {
        "id": "XZSFG8fXqz7c"
      }
    },
    {
      "cell_type": "code",
      "source": [
        "  #plotting\n",
        "  epochs = range(1, len(history.history['loss'])+1)\n",
        "  plt.title(f\"Grafik loss training iterasi {iterasi}\")\n",
        "  plt.plot(epochs, history.history['loss'], 'r', label='Training Loss')\n",
        "  plt.plot(epochs, history.history['val_loss'], 'b', label='Validation Loss')    \n",
        "  plt.xlabel(\"Epoch\")\n",
        "  plt.ylabel(\"Loss\")\n",
        "  plt.legend()\n",
        "  plt.show()\n"
      ],
      "metadata": {
        "id": "3dXbDrJpY1NK",
        "colab": {
          "base_uri": "https://localhost:8080/",
          "height": 295
        },
        "outputId": "ee24e608-884c-4802-b08d-1c11e5bc0d26"
      },
      "execution_count": 11,
      "outputs": [
        {
          "output_type": "display_data",
          "data": {
            "image/png": "[encoded data removed]",
            "text/plain": [
              "<Figure size 432x288 with 1 Axes>"
            ]
          },
          "metadata": {
            "needs_background": "light"
          }
        }
      ]
    },
    {
      "cell_type": "code",
      "source": [
        "  #plotting\n",
        "  epochs = range(1, len(history.history['loss'])+1)\n",
        "  plt.title(f\"Grafik Akurasi training iterasi {iterasi}\")\n",
        "  plt.plot(epochs, history.history['Accuracy'], 'r', label='Training Accuracy')\n",
        "  plt.plot(epochs, history.history['val_Accuracy'], 'b', label='Validation Accuracy')    \n",
        "  plt.xlabel(\"Epoch\")\n",
        "  plt.ylabel(\"Accuracy\")\n",
        "  plt.legend()\n",
        "  plt.show()"
      ],
      "metadata": {
        "colab": {
          "base_uri": "https://localhost:8080/",
          "height": 295
        },
        "id": "j3xigprPwlSX",
        "outputId": "25a0186f-f578-4be2-ec6f-a3fe7dc6253a"
      },
      "execution_count": 12,
      "outputs": [
        {
          "output_type": "display_data",
          "data": {
            "image/png": "[encoded data removed]",
            "text/plain": [
              "<Figure size 432x288 with 1 Axes>"
            ]
          },
          "metadata": {
            "needs_background": "light"
          }
        }
      ]
    },
    {
      "cell_type": "markdown",
      "metadata": {
        "id": "bTgk1-sdzmgy"
      },
      "source": [
        "**Validating** Network"
      ]
    },
    {
      "cell_type": "code",
      "source": [
        "import matplotlib.pyplot as plt\n",
        "from sklearn.datasets import make_classification\n",
        "from numpy import mean\n",
        "from sklearn.metrics import confusion_matrix, ConfusionMatrixDisplay, accuracy_score, classification_report, recall_score\n",
        "\n",
        "validation = model.predict(np_image_list_validation)\n",
        "\n",
        "predicted_labels = []\n",
        "correct_labels = []\n",
        "for i in range (len(validation)):\n",
        "  predicted_labels.append(np.argmax(validation[i]))\n",
        "\n",
        "for i in range (len(image_labels_validation)):\n",
        "  correct_labels.append(np.argmax(image_labels_validation[i]))\n",
        "\n",
        "\n",
        "confusion_matrix = confusion_matrix(correct_labels, predicted_labels)\n",
        "disp = ConfusionMatrixDisplay(confusion_matrix=confusion_matrix)  \n",
        "disp.plot()\n",
        "plt.show()\n",
        "print('--------')\n",
        "FP = confusion_matrix.sum(axis=0) - np.diag(confusion_matrix)  \n",
        "FN = confusion_matrix.sum(axis=1) - np.diag(confusion_matrix)\n",
        "TP = np.diag(confusion_matrix)\n",
        "TN = confusion_matrix.sum() - (FP + FN + TP)\n",
        "\n",
        "# Sensitivity, hit rate, recall, or true positive rate\n",
        "TPR = TP/(TP+FN)\n",
        "# Specificity or true negative rate\n",
        "TNR = TN/(TN+FP) \n",
        "# Overall accuracy\n",
        "ACC = (TP+TN)/(TP+FP+FN+TN)\n",
        "\n",
        "print(TP)\n",
        "print(TN)\n",
        "print(FP)\n",
        "print(FN)\n",
        "print('--------')\n",
        "print(ACC)\n",
        "print(TPR)\n",
        "print(TNR)\n",
        "print('--------')\n",
        "\n",
        "TP = sum(TP)\n",
        "TN = sum(TN)\n",
        "FP = sum(FP)\n",
        "FN = sum(FN)\n",
        "\n",
        "# Sensitivity, hit rate, recall, or true positive rate\n",
        "TPR = TP/(TP+FN)\n",
        "# Specificity or true negative rate\n",
        "TNR = TN/(TN+FP) \n",
        "# Overall accuracy\n",
        "ACC = (TP+TN)/(TP+FP+FN+TN)\n",
        "\n",
        "print(TP)\n",
        "print(TN)\n",
        "print(FP)\n",
        "print(FN)\n",
        "print('--------')\n",
        "print(ACC)\n",
        "print(TPR)\n",
        "print(TNR)\n"
      ],
      "metadata": {
        "colab": {
          "base_uri": "https://localhost:8080/",
          "height": 591
        },
        "id": "z9NBaYvZ61d7",
        "outputId": "949790f9-02ef-486d-8f2a-2207796c7bbe"
      },
      "execution_count": 13,
      "outputs": [
        {
          "output_type": "display_data",
          "data": {
            "image/png": "[encoded data removed]",
            "text/plain": [
              "<Figure size 432x288 with 2 Axes>"
            ]
          },
          "metadata": {
            "needs_background": "light"
          }
        },
        {
          "output_type": "stream",
          "name": "stdout",
          "text": [
            "--------\n",
            "[ 97  99  44 249]\n",
            "[405 394 463 241]\n",
            "[ 1 14  0  3]\n",
            "[ 4  0  0 14]\n",
            "--------\n",
            "[0.99013807 0.97238659 1.         0.96646943]\n",
            "[0.96039604 1.         1.         0.94676806]\n",
            "[0.99753695 0.96568627 1.         0.98770492]\n",
            "--------\n",
            "489\n",
            "1503\n",
            "18\n",
            "18\n",
            "--------\n",
            "0.9822485207100592\n",
            "0.9644970414201184\n",
            "0.9881656804733728\n"
          ]
        }
      ]
    },
    {
      "cell_type": "markdown",
      "source": [
        "**Testing** Network"
      ],
      "metadata": {
        "id": "saJYjKqX9tRL"
      }
    },
    {
      "cell_type": "code",
      "source": [
        "import matplotlib.pyplot as plt\n",
        "from sklearn.datasets import make_classification\n",
        "from numpy import mean\n",
        "from sklearn.metrics import confusion_matrix, ConfusionMatrixDisplay, accuracy_score, classification_report, recall_score\n",
        "\n",
        "test = model.predict(np_image_list_test)\n",
        "\n",
        "predicted_labels = []\n",
        "correct_labels = []\n",
        "for i in range (len(test)):\n",
        "  predicted_labels.append(np.argmax(test[i]))\n",
        "\n",
        "for i in range (len(image_labels_test)):\n",
        "  correct_labels.append(np.argmax(image_labels_test[i]))\n",
        "\n",
        "\n",
        "confusion_matrix = confusion_matrix(correct_labels, predicted_labels)\n",
        "disp = ConfusionMatrixDisplay(confusion_matrix=confusion_matrix)  \n",
        "disp.plot()\n",
        "plt.show()\n",
        "print('--------')\n",
        "FP = confusion_matrix.sum(axis=0) - np.diag(confusion_matrix)  \n",
        "FN = confusion_matrix.sum(axis=1) - np.diag(confusion_matrix)\n",
        "TP = np.diag(confusion_matrix)\n",
        "TN = confusion_matrix.sum() - (FP + FN + TP)\n",
        "\n",
        "# Sensitivity, hit rate, recall, or true positive rate\n",
        "TPR = TP/(TP+FN)\n",
        "# Specificity or true negative rate\n",
        "TNR = TN/(TN+FP) \n",
        "# Overall accuracy\n",
        "ACC = (TP+TN)/(TP+FP+FN+TN)\n",
        "\n",
        "print(TP)\n",
        "print(TN)\n",
        "print(FP)\n",
        "print(FN)\n",
        "print('--------')\n",
        "print(ACC)\n",
        "print(TPR)\n",
        "print(TNR)\n",
        "print('--------')\n",
        "\n",
        "TP = sum(TP)\n",
        "TN = sum(TN)\n",
        "FP = sum(FP)\n",
        "FN = sum(FN)\n",
        "\n",
        "# Sensitivity, hit rate, recall, or true positive rate\n",
        "TPR = TP/(TP+FN)\n",
        "# Specificity or true negative rate\n",
        "TNR = TN/(TN+FP) \n",
        "# Overall accuracy\n",
        "ACC = (TP+TN)/(TP+FP+FN+TN)\n",
        "\n",
        "print(TP)\n",
        "print(TN)\n",
        "print(FP)\n",
        "print(FN)\n",
        "print('--------')\n",
        "print(ACC)\n",
        "print(TPR)\n",
        "print(TNR)"
      ],
      "metadata": {
        "colab": {
          "base_uri": "https://localhost:8080/",
          "height": 591
        },
        "id": "3a1AYdsF4FoY",
        "outputId": "c5ae84d0-cf71-4b93-aa52-09a713a3f094"
      },
      "execution_count": 14,
      "outputs": [
        {
          "output_type": "display_data",
          "data": {
            "image/png": "[encoded data removed]",
            "text/plain": [
              "<Figure size 432x288 with 2 Axes>"
            ]
          },
          "metadata": {
            "needs_background": "light"
          }
        },
        {
          "output_type": "stream",
          "name": "stdout",
          "text": [
            "--------\n",
            "[121 124  55 318]\n",
            "[508 498 579 301]\n",
            "[ 0 12  0  4]\n",
            "[ 5  0  0 11]\n",
            "--------\n",
            "[0.99211356 0.98107256 1.         0.97634069]\n",
            "[0.96031746 1.         1.         0.96656535]\n",
            "[1.         0.97647059 1.         0.98688525]\n",
            "--------\n",
            "618\n",
            "1886\n",
            "16\n",
            "16\n",
            "--------\n",
            "0.9873817034700315\n",
            "0.9747634069400631\n",
            "0.9915878023133544\n"
          ]
        }
      ]
    },
    {
      "cell_type": "code",
      "metadata": {
        "id": "AKd6Tu7mzmg2"
      },
      "source": [
        "# save the model to disk\n",
        "#print(\"[INFO] Saving model...\")\n",
        "# pickle.dump(model,open('cnn_model.pkl', 'wb'))\n",
        "model.save('/content/fold3.h5')    "
      ],
      "execution_count": 15,
      "outputs": []
    },
    {
      "cell_type": "code",
      "metadata": {
        "id": "O6iIKa7Jzmg7"
      },
      "source": [
        "#test_img = cv2.imread('/content/datasets/Apple/Apple___Black_rot/0139bc6d-391c-4fd1-bcae-cc74dabfddd7___JR_FrgE.S 2734.JPG')\n",
        "\n",
        "#plt.imshow(test_img)\n",
        "#test_img = test_img / 255\n",
        "#test_img = np.expand_dims(test_img, axis=0)\n",
        "#pr=model.predict(test_img)\n",
        "\n",
        "#print(pr)\n",
        "#output = label_binarizer.inverse_transform(pr)\n",
        "#print(output)\n"
      ],
      "execution_count": 16,
      "outputs": []
    }
  ]
}