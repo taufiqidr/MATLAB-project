{
  "nbformat": 4,
  "nbformat_minor": 0,
  "metadata": {
    "accelerator": "GPU",
    "colab": {
      "name": "Kodingan Skripsi 3",
      "provenance": [],
      "collapsed_sections": [],
      "include_colab_link": true
    },
    "kernelspec": {
      "display_name": "Python 3",
      "language": "python",
      "name": "python3"
    },
    "language_info": {
      "codemirror_mode": {
        "name": "ipython",
        "version": 3
      },
      "file_extension": ".py",
      "mimetype": "text/x-python",
      "name": "python",
      "nbconvert_exporter": "python",
      "pygments_lexer": "ipython3",
      "version": "3.6.6"
    }
  },
  "cells": [
    {
      "cell_type": "markdown",
      "metadata": {
        "id": "view-in-github",
        "colab_type": "text"
      },
      "source": [
        "<a href=\"https://colab.research.google.com/github/TaufiqIdrus/MATLAB-project/blob/master/Iterasi%202.ipynb\" target=\"_parent\"><img src=\"https://colab.research.google.com/assets/colab-badge.svg\" alt=\"Open In Colab\"/></a>"
      ]
    },
    {
      "cell_type": "markdown",
      "metadata": {
        "id": "yJT_kQA2lITS"
      },
      "source": [
        "**Identifikasi Penyakit Pada Tanaman Apel menggunakan Convolutional Neural Network**"
      ]
    },
    {
      "cell_type": "code",
      "metadata": {
        "id": "xXeOaYTUzmgT"
      },
      "source": [
        "import numpy as np\n",
        "import pickle\n",
        "import os\n",
        "import cv2\n",
        "import tensorflow as tf\n",
        "import keras\n",
        "from os import listdir\n",
        "from sklearn.preprocessing import LabelBinarizer\n",
        "from sklearn.model_selection import KFold\n",
        "from keras.models import Sequential\n",
        "from keras.layers.normalization import batch_normalization\n",
        "from keras.layers.convolutional import Conv2D\n",
        "from keras.layers.convolutional import MaxPooling2D\n",
        "from keras.layers.core import Activation, Flatten, Dropout, Dense\n",
        "from keras import backend as K\n",
        "from tensorflow.keras.optimizers import Adam\n",
        "from keras.preprocessing import image\n",
        "from sklearn.preprocessing import MultiLabelBinarizer\n",
        "from sklearn.model_selection import train_test_split\n",
        "import matplotlib.pyplot as plt\n",
        "from sklearn.datasets import make_classification\n",
        "from numpy import mean\n",
        "from sklearn.metrics import confusion_matrix, ConfusionMatrixDisplay, accuracy_score, classification_report, recall_score\n"
      ],
      "execution_count": 1,
      "outputs": []
    },
    {
      "cell_type": "markdown",
      "metadata": {
        "id": "fp8C0d28lQok"
      },
      "source": [
        "Importing and Preparing Dataset"
      ]
    },
    {
      "cell_type": "code",
      "metadata": {
        "id": "_0xehllADlUs",
        "colab": {
          "base_uri": "https://localhost:8080/"
        },
        "outputId": "bdfe33b9-c215-4820-fcaf-68dff4fbddd9"
      },
      "source": [
        "!pip install pyunpack\n",
        "!pip install patool\n",
        "from pyunpack import Archive\n",
        "Archive('/content/Fold 2.rar').extractall('/content/Datasets/')\n",
        "iterasi = 2\n",
        "width=256\n",
        "height=256\n",
        "default_image_size = tuple((height, width))\n",
        "directory_root_train = '/content/Datasets/Fold 2/Train'\n",
        "directory_root_validation = '/content/Datasets/Fold 2/Validation'\n",
        "directory_root_test = '/content/Datasets/Fold 2/Test'\n",
        "image_size = 0\n",
        "depth=3"
      ],
      "execution_count": 2,
      "outputs": [
        {
          "output_type": "stream",
          "name": "stdout",
          "text": [
            "Collecting pyunpack\n",
            "  Downloading pyunpack-0.2.2-py2.py3-none-any.whl (3.8 kB)\n",
            "Collecting entrypoint2\n",
            "  Downloading entrypoint2-1.0-py3-none-any.whl (9.8 kB)\n",
            "Collecting easyprocess\n",
            "  Downloading EasyProcess-1.1-py3-none-any.whl (8.7 kB)\n",
            "Installing collected packages: entrypoint2, easyprocess, pyunpack\n",
            "Successfully installed easyprocess-1.1 entrypoint2-1.0 pyunpack-0.2.2\n",
            "Collecting patool\n",
            "  Downloading patool-1.12-py2.py3-none-any.whl (77 kB)\n",
            "\u001b[K     |████████████████████████████████| 77 kB 4.5 MB/s \n",
            "\u001b[?25hInstalling collected packages: patool\n",
            "Successfully installed patool-1.12\n"
          ]
        }
      ]
    },
    {
      "cell_type": "code",
      "metadata": {
        "id": "KbAwJJTpzmge"
      },
      "source": [
        "def convert_image_to_array(image_dir):\n",
        "    try:\n",
        "        image = cv2.imread(image_dir)\n",
        "        if image is not None :\n",
        "            image = cv2.resize(image, default_image_size)   \n",
        "            return keras.preprocessing.image.img_to_array(image)\n",
        "        else :\n",
        "            return np.array([])\n",
        "    except Exception as e:\n",
        "        print(f\"Error : {e}\")\n",
        "        return None"
      ],
      "execution_count": 3,
      "outputs": []
    },
    {
      "cell_type": "markdown",
      "source": [
        "Converting **Training** Data to Array"
      ],
      "metadata": {
        "id": "bgXxUMO2cI_D"
      }
    },
    {
      "cell_type": "code",
      "metadata": {
        "id": "Erz6IjKXzmgg",
        "colab": {
          "base_uri": "https://localhost:8080/"
        },
        "outputId": "bede90f7-53f7-4fbc-fc34-d9988aed541b"
      },
      "source": [
        "image_list_train, label_list_train = [], []\n",
        "try:\n",
        "    print(\"[INFO] Loading images ...\")\n",
        "    root_dir = listdir(directory_root_train)\n",
        "\n",
        "    for plant_disease_folder in root_dir:\n",
        "        print(f\"[INFO] Processing {plant_disease_folder} ...\")\n",
        "        plant_disease_image_list = listdir(f\"{directory_root_train}/{plant_disease_folder}/\")\n",
        "      \n",
        "        for image in plant_disease_image_list:\n",
        "            image_directory = f\"{directory_root_train}/{plant_disease_folder}/{image}\"\n",
        "\n",
        "            if image_directory.endswith(\".jpg\") == True or image_directory.endswith(\".JPG\") == True:\n",
        "                image_list_train.append(convert_image_to_array(image_directory))\n",
        "                label_list_train.append(plant_disease_folder)\n",
        "    print(\"[INFO] Image loading completed\")\n",
        "\n",
        "except Exception as e:\n",
        "    print(f\"Error : {e}\")\n",
        "\n",
        "#image labeling\n",
        "image_size = len(image_list_train)\n",
        "label_binarizer = LabelBinarizer()\n",
        "image_labels_train = label_binarizer.fit_transform(label_list_train)\n",
        "pickle.dump(label_binarizer,open('label_transform_train.pkl', 'wb'))\n",
        "n_classes = len(label_binarizer.classes_)\n",
        "np_image_list_train = np.array(image_list_train, dtype=np.float16) / 255.0"
      ],
      "execution_count": 4,
      "outputs": [
        {
          "output_type": "stream",
          "name": "stdout",
          "text": [
            "[INFO] Loading images ...\n",
            "[INFO] Processing Apple___Black_rot ...\n",
            "[INFO] Processing Apple___Apple_scab ...\n",
            "[INFO] Processing Apple___healthy ...\n",
            "[INFO] Processing Apple___Cedar_apple_rust ...\n",
            "[INFO] Image loading completed\n"
          ]
        }
      ]
    },
    {
      "cell_type": "markdown",
      "source": [
        "Converting **Validation** Data to Array"
      ],
      "metadata": {
        "id": "7eEMGiqRd_E4"
      }
    },
    {
      "cell_type": "code",
      "source": [
        "image_list_validation, label_list_validation = [], []\n",
        "try:\n",
        "    print(\"[INFO] Loading images ...\")\n",
        "    root_dir = listdir(directory_root_validation)\n",
        "\n",
        "    for plant_disease_folder in root_dir:\n",
        "        print(f\"[INFO] Processing {plant_disease_folder} ...\")\n",
        "        plant_disease_image_list = listdir(f\"{directory_root_validation}/{plant_disease_folder}/\")\n",
        "      \n",
        "        for image in plant_disease_image_list:\n",
        "            image_directory = f\"{directory_root_validation}/{plant_disease_folder}/{image}\"\n",
        "\n",
        "            if image_directory.endswith(\".jpg\") == True or image_directory.endswith(\".JPG\") == True:\n",
        "                image_list_validation.append(convert_image_to_array(image_directory))\n",
        "                label_list_validation.append(plant_disease_folder)\n",
        "    print(\"[INFO] Image loading completed\")\n",
        "\n",
        "except Exception as e:\n",
        "    print(f\"Error : {e}\")\n",
        "\n",
        "#image labeling\n",
        "image_size = len(image_list_validation)\n",
        "label_binarizer = LabelBinarizer()\n",
        "image_labels_validation = label_binarizer.fit_transform(label_list_validation)\n",
        "pickle.dump(label_binarizer,open('label_transform_validation.pkl', 'wb'))\n",
        "n_classes = len(label_binarizer.classes_)\n",
        "np_image_list_validation = np.array(image_list_validation, dtype=np.float16) / 255.0"
      ],
      "metadata": {
        "id": "wfHDdR0ZeEuU",
        "colab": {
          "base_uri": "https://localhost:8080/"
        },
        "outputId": "f4cec0bc-8211-447f-a6db-090cdf4bbc18"
      },
      "execution_count": 5,
      "outputs": [
        {
          "output_type": "stream",
          "name": "stdout",
          "text": [
            "[INFO] Loading images ...\n",
            "[INFO] Processing Apple___Black_rot ...\n",
            "[INFO] Processing Apple___Apple_scab ...\n",
            "[INFO] Processing Apple___healthy ...\n",
            "[INFO] Processing Apple___Cedar_apple_rust ...\n",
            "[INFO] Image loading completed\n"
          ]
        }
      ]
    },
    {
      "cell_type": "markdown",
      "source": [
        "Converting **Testing** Data to Array"
      ],
      "metadata": {
        "id": "brwWyZVncTdg"
      }
    },
    {
      "cell_type": "code",
      "metadata": {
        "id": "uNPby5UMcaWY",
        "colab": {
          "base_uri": "https://localhost:8080/"
        },
        "outputId": "d5402c7a-7b4f-4fb5-98b3-883121bd474e"
      },
      "source": [
        "image_list_test, label_list_test = [], []\n",
        "try:\n",
        "    print(\"[INFO] Loading images ...\")\n",
        "    root_dir = listdir(directory_root_test)\n",
        "\n",
        "    for plant_disease_folder in root_dir:\n",
        "        print(f\"[INFO] Processing {plant_disease_folder} ...\")\n",
        "        plant_disease_image_list = listdir(f\"{directory_root_test}/{plant_disease_folder}/\")\n",
        "      \n",
        "        for image in plant_disease_image_list:\n",
        "            image_directory = f\"{directory_root_test}/{plant_disease_folder}/{image}\"\n",
        "\n",
        "            if image_directory.endswith(\".jpg\") == True or image_directory.endswith(\".JPG\") == True:\n",
        "                image_list_test.append(convert_image_to_array(image_directory))\n",
        "                label_list_test.append(plant_disease_folder)\n",
        "    print(\"[INFO] Image loading completed\")\n",
        "\n",
        "except Exception as e:\n",
        "    print(f\"Error : {e}\")\n",
        "\n",
        "#image labeling\n",
        "image_size = len(image_list_test)\n",
        "label_binarizer = LabelBinarizer()\n",
        "image_labels_test = label_binarizer.fit_transform(label_list_test)\n",
        "pickle.dump(label_binarizer,open('label_transform_test.pkl', 'wb'))\n",
        "n_classes = len(label_binarizer.classes_)\n",
        "np_image_list_test = np.array(image_list_test, dtype=np.float16) / 255.0"
      ],
      "execution_count": 6,
      "outputs": [
        {
          "output_type": "stream",
          "name": "stdout",
          "text": [
            "[INFO] Loading images ...\n",
            "[INFO] Processing Apple___Black_rot ...\n",
            "[INFO] Processing Apple___Apple_scab ...\n",
            "[INFO] Processing Apple___healthy ...\n",
            "[INFO] Processing Apple___Cedar_apple_rust ...\n",
            "[INFO] Image loading completed\n"
          ]
        }
      ]
    },
    {
      "cell_type": "markdown",
      "metadata": {
        "id": "jYBTFN0CnAi7"
      },
      "source": [
        "Data Augmenting Initialization"
      ]
    },
    {
      "cell_type": "code",
      "metadata": {
        "id": "TLMxMK2Tzmgr"
      },
      "source": [
        "aug = keras.preprocessing.image.ImageDataGenerator(\n",
        "    rotation_range=25, \n",
        "    width_shift_range=0.1,\n",
        "    height_shift_range=0.1, \n",
        "    shear_range=0.2, \n",
        "    zoom_range=0.2,\n",
        "    horizontal_flip=True, \n",
        "    fill_mode=\"nearest\")"
      ],
      "execution_count": 7,
      "outputs": []
    },
    {
      "cell_type": "markdown",
      "metadata": {
        "id": "H1BfRyYNnGv_"
      },
      "source": [
        "Creating CNN Model"
      ]
    },
    {
      "cell_type": "code",
      "metadata": {
        "id": "WmLX4wm8zmgs"
      },
      "source": [
        "model = keras.models.Sequential()\n",
        "inputShape = (height, width, depth)\n",
        "\n",
        "model.add(Conv2D(32, (3, 3), padding=\"same\",input_shape=inputShape))\n",
        "model.add(Activation(\"relu\"))\n",
        "\n",
        "model.add(MaxPooling2D(pool_size=(3, 3)))\n",
        "\n",
        "model.add(Conv2D(64, (3, 3), padding=\"same\"))\n",
        "model.add(Activation(\"relu\"))\n",
        "\n",
        "model.add(MaxPooling2D(pool_size=(3, 3)))\n",
        "\n",
        "model.add(Conv2D(128, (3, 3), padding=\"same\"))\n",
        "model.add(Activation(\"relu\"))\n",
        "\n",
        "model.add(MaxPooling2D(pool_size=(2, 2)))\n",
        "\n",
        "model.add(Conv2D(256, (3, 3), padding=\"same\"))\n",
        "model.add(Activation(\"relu\"))\n",
        "\n",
        "model.add(MaxPooling2D(pool_size=(2, 2)))\n",
        "\n",
        "model.add(Flatten())\n",
        "\n",
        "model.add(Dense(1024))\n",
        "model.add(Activation(\"relu\"))\n",
        "\n",
        "model.add(Dense(n_classes))\n",
        "model.add(Activation(\"softmax\"))"
      ],
      "execution_count": 8,
      "outputs": []
    },
    {
      "cell_type": "code",
      "source": [
        "#callback = tf.keras.callbacks.EarlyStopping(monitor='loss', patience=3)"
      ],
      "metadata": {
        "id": "9Dv-xrGBgeRq"
      },
      "execution_count": 9,
      "outputs": []
    },
    {
      "cell_type": "markdown",
      "metadata": {
        "id": "Zfsu3lVfnXFG"
      },
      "source": [
        "**Training** Network"
      ]
    },
    {
      "cell_type": "code",
      "metadata": {
        "id": "rvwKwe3Lzmgv",
        "colab": {
          "base_uri": "https://localhost:8080/"
        },
        "outputId": "7bd7e73b-3319-4f9e-b55d-fc5bb424466e"
      },
      "source": [
        "EPOCHS = 50\n",
        "INIT_LR = 1e-3\n",
        "BS = 32\n",
        "\n",
        "with tf.device('/GPU:0'):\n",
        "  opt = Adam(learning_rate=INIT_LR, decay=INIT_LR / EPOCHS)\n",
        "  model.compile(loss=\"binary_crossentropy\", optimizer=opt,metrics=[\"Accuracy\", \"FalseNegatives\", \"FalsePositives\", \"TrueNegatives\", \"TruePositives\"])\n",
        "  \n",
        "  history = model.fit(\n",
        "      aug.flow(np_image_list_train, image_labels_train, batch_size=BS),\n",
        "      validation_data=(np_image_list_validation, image_labels_validation),\n",
        "      steps_per_epoch=len(np_image_list_train) // BS,\n",
        "      epochs=EPOCHS, \n",
        "      verbose=1,\n",
        "      )\n"
      ],
      "execution_count": 10,
      "outputs": [
        {
          "output_type": "stream",
          "name": "stdout",
          "text": [
            "Epoch 1/50\n",
            "63/63 [==============================] - 44s 523ms/step - loss: 0.4485 - Accuracy: 0.5684 - false_negatives: 1078.0000 - false_positives: 519.0000 - true_negatives: 5472.0000 - true_positives: 919.0000 - val_loss: 0.2372 - val_Accuracy: 0.8205 - val_false_negatives: 109.0000 - val_false_positives: 71.0000 - val_true_negatives: 1450.0000 - val_true_positives: 398.0000\n",
            "Epoch 2/50\n",
            "63/63 [==============================] - 31s 495ms/step - loss: 0.2487 - Accuracy: 0.7877 - false_negatives: 458.0000 - false_positives: 367.0000 - true_negatives: 5624.0000 - true_positives: 1539.0000 - val_loss: 0.3275 - val_Accuracy: 0.7436 - val_false_negatives: 134.0000 - val_false_positives: 125.0000 - val_true_negatives: 1396.0000 - val_true_positives: 373.0000\n",
            "Epoch 3/50\n",
            "63/63 [==============================] - 31s 495ms/step - loss: 0.1902 - Accuracy: 0.8433 - false_negatives: 326.0000 - false_positives: 280.0000 - true_negatives: 5711.0000 - true_positives: 1671.0000 - val_loss: 0.2312 - val_Accuracy: 0.8363 - val_false_negatives: 84.0000 - val_false_positives: 81.0000 - val_true_negatives: 1440.0000 - val_true_positives: 423.0000\n",
            "Epoch 4/50\n",
            "63/63 [==============================] - 31s 492ms/step - loss: 0.1569 - Accuracy: 0.8813 - false_negatives: 257.0000 - false_positives: 214.0000 - true_negatives: 5777.0000 - true_positives: 1740.0000 - val_loss: 0.4963 - val_Accuracy: 0.7751 - val_false_negatives: 116.0000 - val_false_positives: 110.0000 - val_true_negatives: 1411.0000 - val_true_positives: 391.0000\n",
            "Epoch 5/50\n",
            "63/63 [==============================] - 31s 490ms/step - loss: 0.1272 - Accuracy: 0.8953 - false_negatives: 216.0000 - false_positives: 189.0000 - true_negatives: 5802.0000 - true_positives: 1781.0000 - val_loss: 0.1709 - val_Accuracy: 0.8876 - val_false_negatives: 59.0000 - val_false_positives: 50.0000 - val_true_negatives: 1471.0000 - val_true_positives: 448.0000\n",
            "Epoch 6/50\n",
            "63/63 [==============================] - 31s 483ms/step - loss: 0.1522 - Accuracy: 0.8798 - false_negatives: 254.0000 - false_positives: 224.0000 - true_negatives: 5767.0000 - true_positives: 1743.0000 - val_loss: 0.1927 - val_Accuracy: 0.8659 - val_false_negatives: 74.0000 - val_false_positives: 64.0000 - val_true_negatives: 1457.0000 - val_true_positives: 433.0000\n",
            "Epoch 7/50\n",
            "63/63 [==============================] - 31s 493ms/step - loss: 0.1272 - Accuracy: 0.8963 - false_negatives: 216.0000 - false_positives: 196.0000 - true_negatives: 5795.0000 - true_positives: 1781.0000 - val_loss: 0.1065 - val_Accuracy: 0.9172 - val_false_negatives: 43.0000 - val_false_positives: 40.0000 - val_true_negatives: 1481.0000 - val_true_positives: 464.0000\n",
            "Epoch 8/50\n",
            "63/63 [==============================] - 31s 487ms/step - loss: 0.0943 - Accuracy: 0.9299 - false_negatives: 148.0000 - false_positives: 132.0000 - true_negatives: 5859.0000 - true_positives: 1849.0000 - val_loss: 0.2022 - val_Accuracy: 0.8757 - val_false_negatives: 64.0000 - val_false_positives: 61.0000 - val_true_negatives: 1460.0000 - val_true_positives: 443.0000\n",
            "Epoch 9/50\n",
            "63/63 [==============================] - 30s 481ms/step - loss: 0.0867 - Accuracy: 0.9314 - false_negatives: 142.0000 - false_positives: 128.0000 - true_negatives: 5863.0000 - true_positives: 1855.0000 - val_loss: 0.0797 - val_Accuracy: 0.9369 - val_false_negatives: 33.0000 - val_false_positives: 28.0000 - val_true_negatives: 1493.0000 - val_true_positives: 474.0000\n",
            "Epoch 10/50\n",
            "63/63 [==============================] - 30s 480ms/step - loss: 0.0811 - Accuracy: 0.9379 - false_negatives: 130.0000 - false_positives: 119.0000 - true_negatives: 5872.0000 - true_positives: 1867.0000 - val_loss: 0.3005 - val_Accuracy: 0.8501 - val_false_negatives: 80.0000 - val_false_positives: 75.0000 - val_true_negatives: 1446.0000 - val_true_positives: 427.0000\n",
            "Epoch 11/50\n",
            "63/63 [==============================] - 31s 490ms/step - loss: 0.0871 - Accuracy: 0.9379 - false_negatives: 126.0000 - false_positives: 120.0000 - true_negatives: 5871.0000 - true_positives: 1871.0000 - val_loss: 0.0639 - val_Accuracy: 0.9507 - val_false_negatives: 27.0000 - val_false_positives: 25.0000 - val_true_negatives: 1496.0000 - val_true_positives: 480.0000\n",
            "Epoch 12/50\n",
            "63/63 [==============================] - 31s 488ms/step - loss: 0.0661 - Accuracy: 0.9539 - false_negatives: 95.0000 - false_positives: 89.0000 - true_negatives: 5902.0000 - true_positives: 1902.0000 - val_loss: 0.0772 - val_Accuracy: 0.9467 - val_false_negatives: 28.0000 - val_false_positives: 26.0000 - val_true_negatives: 1495.0000 - val_true_positives: 479.0000\n",
            "Epoch 13/50\n",
            "63/63 [==============================] - 31s 484ms/step - loss: 0.0601 - Accuracy: 0.9529 - false_negatives: 95.0000 - false_positives: 90.0000 - true_negatives: 5901.0000 - true_positives: 1902.0000 - val_loss: 0.0615 - val_Accuracy: 0.9527 - val_false_negatives: 25.0000 - val_false_positives: 24.0000 - val_true_negatives: 1497.0000 - val_true_positives: 482.0000\n",
            "Epoch 14/50\n",
            "63/63 [==============================] - 30s 481ms/step - loss: 0.0605 - Accuracy: 0.9544 - false_negatives: 94.0000 - false_positives: 86.0000 - true_negatives: 5905.0000 - true_positives: 1903.0000 - val_loss: 0.0613 - val_Accuracy: 0.9586 - val_false_negatives: 22.0000 - val_false_positives: 21.0000 - val_true_negatives: 1500.0000 - val_true_positives: 485.0000\n",
            "Epoch 15/50\n",
            "63/63 [==============================] - 31s 494ms/step - loss: 0.0559 - Accuracy: 0.9564 - false_negatives: 91.0000 - false_positives: 85.0000 - true_negatives: 5906.0000 - true_positives: 1906.0000 - val_loss: 0.1270 - val_Accuracy: 0.9172 - val_false_negatives: 43.0000 - val_false_positives: 42.0000 - val_true_negatives: 1479.0000 - val_true_positives: 464.0000\n",
            "Epoch 16/50\n",
            "63/63 [==============================] - 31s 493ms/step - loss: 0.0530 - Accuracy: 0.9569 - false_negatives: 86.0000 - false_positives: 84.0000 - true_negatives: 5907.0000 - true_positives: 1911.0000 - val_loss: 0.1005 - val_Accuracy: 0.9310 - val_false_negatives: 35.0000 - val_false_positives: 34.0000 - val_true_negatives: 1487.0000 - val_true_positives: 472.0000\n",
            "Epoch 17/50\n",
            "63/63 [==============================] - 31s 488ms/step - loss: 0.0377 - Accuracy: 0.9750 - false_negatives: 51.0000 - false_positives: 50.0000 - true_negatives: 5941.0000 - true_positives: 1946.0000 - val_loss: 0.0796 - val_Accuracy: 0.9546 - val_false_negatives: 23.0000 - val_false_positives: 23.0000 - val_true_negatives: 1498.0000 - val_true_positives: 484.0000\n",
            "Epoch 18/50\n",
            "63/63 [==============================] - 31s 483ms/step - loss: 0.0485 - Accuracy: 0.9649 - false_negatives: 71.0000 - false_positives: 68.0000 - true_negatives: 5923.0000 - true_positives: 1926.0000 - val_loss: 0.0320 - val_Accuracy: 0.9822 - val_false_negatives: 9.0000 - val_false_positives: 9.0000 - val_true_negatives: 1512.0000 - val_true_positives: 498.0000\n",
            "Epoch 19/50\n",
            "63/63 [==============================] - 31s 492ms/step - loss: 0.0532 - Accuracy: 0.9649 - false_negatives: 71.0000 - false_positives: 69.0000 - true_negatives: 5922.0000 - true_positives: 1926.0000 - val_loss: 0.0530 - val_Accuracy: 0.9566 - val_false_negatives: 22.0000 - val_false_positives: 22.0000 - val_true_negatives: 1499.0000 - val_true_positives: 485.0000\n",
            "Epoch 20/50\n",
            "63/63 [==============================] - 31s 492ms/step - loss: 0.0406 - Accuracy: 0.9695 - false_negatives: 63.0000 - false_positives: 60.0000 - true_negatives: 5931.0000 - true_positives: 1934.0000 - val_loss: 0.0484 - val_Accuracy: 0.9645 - val_false_negatives: 19.0000 - val_false_positives: 18.0000 - val_true_negatives: 1503.0000 - val_true_positives: 488.0000\n",
            "Epoch 21/50\n",
            "63/63 [==============================] - 31s 493ms/step - loss: 0.0273 - Accuracy: 0.9795 - false_negatives: 41.0000 - false_positives: 41.0000 - true_negatives: 5950.0000 - true_positives: 1956.0000 - val_loss: 0.0594 - val_Accuracy: 0.9586 - val_false_negatives: 21.0000 - val_false_positives: 21.0000 - val_true_negatives: 1500.0000 - val_true_positives: 486.0000\n",
            "Epoch 22/50\n",
            "63/63 [==============================] - 31s 489ms/step - loss: 0.0505 - Accuracy: 0.9644 - false_negatives: 71.0000 - false_positives: 70.0000 - true_negatives: 5921.0000 - true_positives: 1926.0000 - val_loss: 0.1313 - val_Accuracy: 0.9211 - val_false_negatives: 40.0000 - val_false_positives: 40.0000 - val_true_negatives: 1481.0000 - val_true_positives: 467.0000\n",
            "Epoch 23/50\n",
            "63/63 [==============================] - 31s 485ms/step - loss: 0.0256 - Accuracy: 0.9845 - false_negatives: 32.0000 - false_positives: 31.0000 - true_negatives: 5960.0000 - true_positives: 1965.0000 - val_loss: 0.0304 - val_Accuracy: 0.9822 - val_false_negatives: 9.0000 - val_false_positives: 9.0000 - val_true_negatives: 1512.0000 - val_true_positives: 498.0000\n",
            "Epoch 24/50\n",
            "63/63 [==============================] - 30s 482ms/step - loss: 0.0204 - Accuracy: 0.9865 - false_negatives: 27.0000 - false_positives: 26.0000 - true_negatives: 5965.0000 - true_positives: 1970.0000 - val_loss: 0.0207 - val_Accuracy: 0.9803 - val_false_negatives: 10.0000 - val_false_positives: 9.0000 - val_true_negatives: 1512.0000 - val_true_positives: 497.0000\n",
            "Epoch 25/50\n",
            "63/63 [==============================] - 31s 493ms/step - loss: 0.0323 - Accuracy: 0.9785 - false_negatives: 43.0000 - false_positives: 43.0000 - true_negatives: 5948.0000 - true_positives: 1954.0000 - val_loss: 0.0450 - val_Accuracy: 0.9684 - val_false_negatives: 16.0000 - val_false_positives: 16.0000 - val_true_negatives: 1505.0000 - val_true_positives: 491.0000\n",
            "Epoch 26/50\n",
            "63/63 [==============================] - 31s 495ms/step - loss: 0.0261 - Accuracy: 0.9815 - false_negatives: 38.0000 - false_positives: 37.0000 - true_negatives: 5954.0000 - true_positives: 1959.0000 - val_loss: 0.0451 - val_Accuracy: 0.9665 - val_false_negatives: 17.0000 - val_false_positives: 17.0000 - val_true_negatives: 1504.0000 - val_true_positives: 490.0000\n",
            "Epoch 27/50\n",
            "63/63 [==============================] - 31s 493ms/step - loss: 0.0374 - Accuracy: 0.9715 - false_negatives: 57.0000 - false_positives: 56.0000 - true_negatives: 5935.0000 - true_positives: 1940.0000 - val_loss: 0.0263 - val_Accuracy: 0.9862 - val_false_negatives: 7.0000 - val_false_positives: 7.0000 - val_true_negatives: 1514.0000 - val_true_positives: 500.0000\n",
            "Epoch 28/50\n",
            "63/63 [==============================] - 31s 494ms/step - loss: 0.0181 - Accuracy: 0.9855 - false_negatives: 29.0000 - false_positives: 29.0000 - true_negatives: 5962.0000 - true_positives: 1968.0000 - val_loss: 0.0347 - val_Accuracy: 0.9822 - val_false_negatives: 9.0000 - val_false_positives: 9.0000 - val_true_negatives: 1512.0000 - val_true_positives: 498.0000\n",
            "Epoch 29/50\n",
            "63/63 [==============================] - 31s 495ms/step - loss: 0.0211 - Accuracy: 0.9865 - false_negatives: 28.0000 - false_positives: 26.0000 - true_negatives: 5965.0000 - true_positives: 1969.0000 - val_loss: 0.0324 - val_Accuracy: 0.9763 - val_false_negatives: 12.0000 - val_false_positives: 12.0000 - val_true_negatives: 1509.0000 - val_true_positives: 495.0000\n",
            "Epoch 30/50\n",
            "63/63 [==============================] - 30s 481ms/step - loss: 0.0312 - Accuracy: 0.9740 - false_negatives: 53.0000 - false_positives: 52.0000 - true_negatives: 5939.0000 - true_positives: 1944.0000 - val_loss: 0.0257 - val_Accuracy: 0.9803 - val_false_negatives: 10.0000 - val_false_positives: 10.0000 - val_true_negatives: 1511.0000 - val_true_positives: 497.0000\n",
            "Epoch 31/50\n",
            "63/63 [==============================] - 31s 488ms/step - loss: 0.0184 - Accuracy: 0.9865 - false_negatives: 27.0000 - false_positives: 25.0000 - true_negatives: 5966.0000 - true_positives: 1970.0000 - val_loss: 0.0397 - val_Accuracy: 0.9744 - val_false_negatives: 13.0000 - val_false_positives: 13.0000 - val_true_negatives: 1508.0000 - val_true_positives: 494.0000\n",
            "Epoch 32/50\n",
            "63/63 [==============================] - 30s 483ms/step - loss: 0.0247 - Accuracy: 0.9785 - false_negatives: 43.0000 - false_positives: 43.0000 - true_negatives: 5948.0000 - true_positives: 1954.0000 - val_loss: 0.0631 - val_Accuracy: 0.9507 - val_false_negatives: 25.0000 - val_false_positives: 25.0000 - val_true_negatives: 1496.0000 - val_true_positives: 482.0000\n",
            "Epoch 33/50\n",
            "63/63 [==============================] - 30s 480ms/step - loss: 0.0073 - Accuracy: 0.9945 - false_negatives: 11.0000 - false_positives: 11.0000 - true_negatives: 5980.0000 - true_positives: 1986.0000 - val_loss: 0.0141 - val_Accuracy: 0.9862 - val_false_negatives: 7.0000 - val_false_positives: 7.0000 - val_true_negatives: 1514.0000 - val_true_positives: 500.0000\n",
            "Epoch 34/50\n",
            "63/63 [==============================] - 31s 492ms/step - loss: 0.0277 - Accuracy: 0.9845 - false_negatives: 31.0000 - false_positives: 31.0000 - true_negatives: 5960.0000 - true_positives: 1966.0000 - val_loss: 0.0845 - val_Accuracy: 0.9546 - val_false_negatives: 23.0000 - val_false_positives: 23.0000 - val_true_negatives: 1498.0000 - val_true_positives: 484.0000\n",
            "Epoch 35/50\n",
            "63/63 [==============================] - 31s 484ms/step - loss: 0.0267 - Accuracy: 0.9855 - false_negatives: 30.0000 - false_positives: 28.0000 - true_negatives: 5963.0000 - true_positives: 1967.0000 - val_loss: 0.0187 - val_Accuracy: 0.9862 - val_false_negatives: 7.0000 - val_false_positives: 7.0000 - val_true_negatives: 1514.0000 - val_true_positives: 500.0000\n",
            "Epoch 36/50\n",
            "63/63 [==============================] - 30s 480ms/step - loss: 0.0107 - Accuracy: 0.9910 - false_negatives: 18.0000 - false_positives: 18.0000 - true_negatives: 5973.0000 - true_positives: 1979.0000 - val_loss: 0.0296 - val_Accuracy: 0.9803 - val_false_negatives: 10.0000 - val_false_positives: 10.0000 - val_true_negatives: 1511.0000 - val_true_positives: 497.0000\n",
            "Epoch 37/50\n",
            "63/63 [==============================] - 31s 487ms/step - loss: 0.0034 - Accuracy: 0.9990 - false_negatives: 2.0000 - false_positives: 2.0000 - true_negatives: 5989.0000 - true_positives: 1995.0000 - val_loss: 0.0305 - val_Accuracy: 0.9842 - val_false_negatives: 8.0000 - val_false_positives: 8.0000 - val_true_negatives: 1513.0000 - val_true_positives: 499.0000\n",
            "Epoch 38/50\n",
            "63/63 [==============================] - 31s 485ms/step - loss: 0.0191 - Accuracy: 0.9860 - false_negatives: 28.0000 - false_positives: 28.0000 - true_negatives: 5963.0000 - true_positives: 1969.0000 - val_loss: 0.0303 - val_Accuracy: 0.9822 - val_false_negatives: 10.0000 - val_false_positives: 9.0000 - val_true_negatives: 1512.0000 - val_true_positives: 497.0000\n",
            "Epoch 39/50\n",
            "63/63 [==============================] - 30s 482ms/step - loss: 0.0111 - Accuracy: 0.9925 - false_negatives: 15.0000 - false_positives: 15.0000 - true_negatives: 5976.0000 - true_positives: 1982.0000 - val_loss: 0.0427 - val_Accuracy: 0.9665 - val_false_negatives: 17.0000 - val_false_positives: 16.0000 - val_true_negatives: 1505.0000 - val_true_positives: 490.0000\n",
            "Epoch 40/50\n",
            "63/63 [==============================] - 30s 478ms/step - loss: 0.0232 - Accuracy: 0.9850 - false_negatives: 30.0000 - false_positives: 30.0000 - true_negatives: 5961.0000 - true_positives: 1967.0000 - val_loss: 0.1271 - val_Accuracy: 0.9270 - val_false_negatives: 38.0000 - val_false_positives: 36.0000 - val_true_negatives: 1485.0000 - val_true_positives: 469.0000\n",
            "Epoch 41/50\n",
            "63/63 [==============================] - 30s 477ms/step - loss: 0.0049 - Accuracy: 0.9975 - false_negatives: 5.0000 - false_positives: 5.0000 - true_negatives: 5986.0000 - true_positives: 1992.0000 - val_loss: 0.0200 - val_Accuracy: 0.9842 - val_false_negatives: 8.0000 - val_false_positives: 8.0000 - val_true_negatives: 1513.0000 - val_true_positives: 499.0000\n",
            "Epoch 42/50\n",
            "63/63 [==============================] - 31s 488ms/step - loss: 0.0223 - Accuracy: 0.9865 - false_negatives: 27.0000 - false_positives: 27.0000 - true_negatives: 5964.0000 - true_positives: 1970.0000 - val_loss: 0.0571 - val_Accuracy: 0.9546 - val_false_negatives: 23.0000 - val_false_positives: 23.0000 - val_true_negatives: 1498.0000 - val_true_positives: 484.0000\n",
            "Epoch 43/50\n",
            "63/63 [==============================] - 31s 486ms/step - loss: 0.0196 - Accuracy: 0.9860 - false_negatives: 28.0000 - false_positives: 28.0000 - true_negatives: 5963.0000 - true_positives: 1969.0000 - val_loss: 0.0223 - val_Accuracy: 0.9842 - val_false_negatives: 8.0000 - val_false_positives: 8.0000 - val_true_negatives: 1513.0000 - val_true_positives: 499.0000\n",
            "Epoch 44/50\n",
            "63/63 [==============================] - 31s 488ms/step - loss: 0.0148 - Accuracy: 0.9915 - false_negatives: 18.0000 - false_positives: 17.0000 - true_negatives: 5974.0000 - true_positives: 1979.0000 - val_loss: 0.0081 - val_Accuracy: 0.9941 - val_false_negatives: 3.0000 - val_false_positives: 3.0000 - val_true_negatives: 1518.0000 - val_true_positives: 504.0000\n",
            "Epoch 45/50\n",
            "63/63 [==============================] - 30s 481ms/step - loss: 0.0167 - Accuracy: 0.9885 - false_negatives: 23.0000 - false_positives: 23.0000 - true_negatives: 5968.0000 - true_positives: 1974.0000 - val_loss: 0.0271 - val_Accuracy: 0.9842 - val_false_negatives: 8.0000 - val_false_positives: 8.0000 - val_true_negatives: 1513.0000 - val_true_positives: 499.0000\n",
            "Epoch 46/50\n",
            "63/63 [==============================] - 30s 479ms/step - loss: 0.0132 - Accuracy: 0.9895 - false_negatives: 21.0000 - false_positives: 21.0000 - true_negatives: 5970.0000 - true_positives: 1976.0000 - val_loss: 0.0288 - val_Accuracy: 0.9783 - val_false_negatives: 11.0000 - val_false_positives: 10.0000 - val_true_negatives: 1511.0000 - val_true_positives: 496.0000\n",
            "Epoch 47/50\n",
            "63/63 [==============================] - 31s 489ms/step - loss: 0.0192 - Accuracy: 0.9875 - false_negatives: 25.0000 - false_positives: 25.0000 - true_negatives: 5966.0000 - true_positives: 1972.0000 - val_loss: 0.0149 - val_Accuracy: 0.9862 - val_false_negatives: 7.0000 - val_false_positives: 7.0000 - val_true_negatives: 1514.0000 - val_true_positives: 500.0000\n",
            "Epoch 48/50\n",
            "63/63 [==============================] - 31s 484ms/step - loss: 0.0263 - Accuracy: 0.9840 - false_negatives: 32.0000 - false_positives: 32.0000 - true_negatives: 5959.0000 - true_positives: 1965.0000 - val_loss: 0.4745 - val_Accuracy: 0.8067 - val_false_negatives: 98.0000 - val_false_positives: 97.0000 - val_true_negatives: 1424.0000 - val_true_positives: 409.0000\n",
            "Epoch 49/50\n",
            "63/63 [==============================] - 30s 480ms/step - loss: 0.0327 - Accuracy: 0.9770 - false_negatives: 46.0000 - false_positives: 45.0000 - true_negatives: 5946.0000 - true_positives: 1951.0000 - val_loss: 0.0105 - val_Accuracy: 0.9941 - val_false_negatives: 3.0000 - val_false_positives: 3.0000 - val_true_negatives: 1518.0000 - val_true_positives: 504.0000\n",
            "Epoch 50/50\n",
            "63/63 [==============================] - 31s 488ms/step - loss: 0.0078 - Accuracy: 0.9970 - false_negatives: 6.0000 - false_positives: 6.0000 - true_negatives: 5985.0000 - true_positives: 1991.0000 - val_loss: 0.0130 - val_Accuracy: 0.9862 - val_false_negatives: 7.0000 - val_false_positives: 7.0000 - val_true_negatives: 1514.0000 - val_true_positives: 500.0000\n"
          ]
        }
      ]
    },
    {
      "cell_type": "markdown",
      "source": [
        "Plotting Traning Result"
      ],
      "metadata": {
        "id": "XZSFG8fXqz7c"
      }
    },
    {
      "cell_type": "code",
      "source": [
        "  #plotting\n",
        "  epochs = range(1, len(history.history['loss'])+1)\n",
        "  plt.title(f\"Grafik loss training iterasi {iterasi}\")\n",
        "  plt.plot(epochs, history.history['loss'], 'r', label='Training Loss')\n",
        "  plt.plot(epochs, history.history['val_loss'], 'b', label='Validation Loss')    \n",
        "  plt.xlabel(\"Epoch\")\n",
        "  plt.ylabel(\"Loss\")\n",
        "  plt.legend()\n",
        "  plt.show()\n"
      ],
      "metadata": {
        "id": "3dXbDrJpY1NK",
        "colab": {
          "base_uri": "https://localhost:8080/",
          "height": 295
        },
        "outputId": "ad6bbf3b-eb6b-4108-d113-9baac610a8fe"
      },
      "execution_count": 11,
      "outputs": [
        {
          "output_type": "display_data",
          "data": {
            "image/png": "[encoded data removed]",
            "text/plain": [
              "<Figure size 432x288 with 1 Axes>"
            ]
          },
          "metadata": {
            "needs_background": "light"
          }
        }
      ]
    },
    {
      "cell_type": "code",
      "source": [
        "  #plotting\n",
        "  epochs = range(1, len(history.history['loss'])+1)\n",
        "  plt.title(f\"Grafik Akurasi training iterasi {iterasi}\")\n",
        "  plt.plot(epochs, history.history['Accuracy'], 'r', label='Training Accuracy')\n",
        "  plt.plot(epochs, history.history['val_Accuracy'], 'b', label='Validation Accuracy')    \n",
        "  plt.xlabel(\"Epoch\")\n",
        "  plt.ylabel(\"Accuracy\")\n",
        "  plt.legend()\n",
        "  plt.show()"
      ],
      "metadata": {
        "colab": {
          "base_uri": "https://localhost:8080/",
          "height": 295
        },
        "id": "j3xigprPwlSX",
        "outputId": "47879284-d747-4f7d-9f7e-a12106352b09"
      },
      "execution_count": 12,
      "outputs": [
        {
          "output_type": "display_data",
          "data": {
            "image/png": "[encoded data removed]",
            "text/plain": [
              "<Figure size 432x288 with 1 Axes>"
            ]
          },
          "metadata": {
            "needs_background": "light"
          }
        }
      ]
    },
    {
      "cell_type": "markdown",
      "metadata": {
        "id": "bTgk1-sdzmgy"
      },
      "source": [
        "**Validating** Network"
      ]
    },
    {
      "cell_type": "code",
      "source": [
        "import matplotlib.pyplot as plt\n",
        "from sklearn.datasets import make_classification\n",
        "from numpy import mean\n",
        "from sklearn.metrics import confusion_matrix, ConfusionMatrixDisplay, accuracy_score, classification_report, recall_score\n",
        "\n",
        "validation = model.predict(np_image_list_validation)\n",
        "\n",
        "predicted_labels = []\n",
        "correct_labels = []\n",
        "for i in range (len(validation)):\n",
        "  predicted_labels.append(np.argmax(validation[i]))\n",
        "\n",
        "for i in range (len(image_labels_validation)):\n",
        "  correct_labels.append(np.argmax(image_labels_validation[i]))\n",
        "\n",
        "\n",
        "confusion_matrix = confusion_matrix(correct_labels, predicted_labels)\n",
        "disp = ConfusionMatrixDisplay(confusion_matrix=confusion_matrix)  \n",
        "disp.plot()\n",
        "plt.show()\n",
        "print('--------')\n",
        "FP = confusion_matrix.sum(axis=0) - np.diag(confusion_matrix)  \n",
        "FN = confusion_matrix.sum(axis=1) - np.diag(confusion_matrix)\n",
        "TP = np.diag(confusion_matrix)\n",
        "TN = confusion_matrix.sum() - (FP + FN + TP)\n",
        "\n",
        "# Sensitivity, hit rate, recall, or true positive rate\n",
        "TPR = TP/(TP+FN)\n",
        "# Specificity or true negative rate\n",
        "TNR = TN/(TN+FP) \n",
        "# Overall accuracy\n",
        "ACC = (TP+TN)/(TP+FP+FN+TN)\n",
        "\n",
        "print(TP)\n",
        "print(TN)\n",
        "print(FP)\n",
        "print(FN)\n",
        "print('--------')\n",
        "print(ACC)\n",
        "print(TPR)\n",
        "print(TNR)\n",
        "print('--------')\n",
        "\n",
        "TP = sum(TP)\n",
        "TN = sum(TN)\n",
        "FP = sum(FP)\n",
        "FN = sum(FN)\n",
        "\n",
        "# Sensitivity, hit rate, recall, or true positive rate\n",
        "TPR = TP/(TP+FN)\n",
        "# Specificity or true negative rate\n",
        "TNR = TN/(TN+FP) \n",
        "# Overall accuracy\n",
        "ACC = (TP+TN)/(TP+FP+FN+TN)\n",
        "\n",
        "print(TP)\n",
        "print(TN)\n",
        "print(FP)\n",
        "print(FN)\n",
        "print('--------')\n",
        "print(ACC)\n",
        "print(TPR)\n",
        "print(TNR)\n"
      ],
      "metadata": {
        "colab": {
          "base_uri": "https://localhost:8080/",
          "height": 591
        },
        "id": "z9NBaYvZ61d7",
        "outputId": "b6f329ba-7e3d-44d3-c9f1-08ce90a9b441"
      },
      "execution_count": 13,
      "outputs": [
        {
          "output_type": "display_data",
          "data": {
            "image/png": "[encoded data removed]",
            "text/plain": [
              "<Figure size 432x288 with 2 Axes>"
            ]
          },
          "metadata": {
            "needs_background": "light"
          }
        },
        {
          "output_type": "stream",
          "name": "stdout",
          "text": [
            "--------\n",
            "[ 95  99  44 262]\n",
            "[406 405 463 240]\n",
            "[0 3 0 4]\n",
            "[6 0 0 1]\n",
            "--------\n",
            "[0.98816568 0.99408284 1.         0.99013807]\n",
            "[0.94059406 1.         1.         0.99619772]\n",
            "[1.         0.99264706 1.         0.98360656]\n",
            "--------\n",
            "500\n",
            "1514\n",
            "7\n",
            "7\n",
            "--------\n",
            "0.9930966469428008\n",
            "0.9861932938856016\n",
            "0.9953977646285339\n"
          ]
        }
      ]
    },
    {
      "cell_type": "markdown",
      "source": [
        "**Testing** Network"
      ],
      "metadata": {
        "id": "saJYjKqX9tRL"
      }
    },
    {
      "cell_type": "code",
      "source": [
        "import matplotlib.pyplot as plt\n",
        "from sklearn.datasets import make_classification\n",
        "from numpy import mean\n",
        "from sklearn.metrics import confusion_matrix, ConfusionMatrixDisplay, accuracy_score, classification_report, recall_score\n",
        "\n",
        "test = model.predict(np_image_list_test)\n",
        "\n",
        "predicted_labels = []\n",
        "correct_labels = []\n",
        "for i in range (len(test)):\n",
        "  predicted_labels.append(np.argmax(test[i]))\n",
        "\n",
        "for i in range (len(image_labels_test)):\n",
        "  correct_labels.append(np.argmax(image_labels_test[i]))\n",
        "\n",
        "\n",
        "confusion_matrix = confusion_matrix(correct_labels, predicted_labels)\n",
        "disp = ConfusionMatrixDisplay(confusion_matrix=confusion_matrix)  \n",
        "disp.plot()\n",
        "plt.show()\n",
        "print('--------')\n",
        "FP = confusion_matrix.sum(axis=0) - np.diag(confusion_matrix)  \n",
        "FN = confusion_matrix.sum(axis=1) - np.diag(confusion_matrix)\n",
        "TP = np.diag(confusion_matrix)\n",
        "TN = confusion_matrix.sum() - (FP + FN + TP)\n",
        "\n",
        "# Sensitivity, hit rate, recall, or true positive rate\n",
        "TPR = TP/(TP+FN)\n",
        "# Specificity or true negative rate\n",
        "TNR = TN/(TN+FP) \n",
        "# Overall accuracy\n",
        "ACC = (TP+TN)/(TP+FP+FN+TN)\n",
        "\n",
        "print(TP)\n",
        "print(TN)\n",
        "print(FP)\n",
        "print(FN)\n",
        "print('--------')\n",
        "print(ACC)\n",
        "print(TPR)\n",
        "print(TNR)\n",
        "print('--------')\n",
        "\n",
        "TP = sum(TP)\n",
        "TN = sum(TN)\n",
        "FP = sum(FP)\n",
        "FN = sum(FN)\n",
        "\n",
        "# Sensitivity, hit rate, recall, or true positive rate\n",
        "TPR = TP/(TP+FN)\n",
        "# Specificity or true negative rate\n",
        "TNR = TN/(TN+FP) \n",
        "# Overall accuracy\n",
        "ACC = (TP+TN)/(TP+FP+FN+TN)\n",
        "\n",
        "print(TP)\n",
        "print(TN)\n",
        "print(FP)\n",
        "print(FN)\n",
        "print('--------')\n",
        "print(ACC)\n",
        "print(TPR)\n",
        "print(TNR)"
      ],
      "metadata": {
        "colab": {
          "base_uri": "https://localhost:8080/",
          "height": 591
        },
        "id": "3a1AYdsF4FoY",
        "outputId": "e19aa8d2-cd59-441d-ef58-28aa32e3945e"
      },
      "execution_count": 14,
      "outputs": [
        {
          "output_type": "display_data",
          "data": {
            "image/png": "[encoded data removed]",
            "text/plain": [
              "<Figure size 432x288 with 2 Axes>"
            ]
          },
          "metadata": {
            "needs_background": "light"
          }
        },
        {
          "output_type": "stream",
          "name": "stdout",
          "text": [
            "--------\n",
            "[120 124  55 329]\n",
            "[508 506 579 303]\n",
            "[0 4 0 2]\n",
            "[6 0 0 0]\n",
            "--------\n",
            "[0.99053628 0.99369085 1.         0.99684543]\n",
            "[0.95238095 1.         1.         1.        ]\n",
            "[1.         0.99215686 1.         0.99344262]\n",
            "--------\n",
            "628\n",
            "1896\n",
            "6\n",
            "6\n",
            "--------\n",
            "0.9952681388012619\n",
            "0.9905362776025236\n",
            "0.9968454258675079\n"
          ]
        }
      ]
    },
    {
      "cell_type": "code",
      "metadata": {
        "id": "AKd6Tu7mzmg2"
      },
      "source": [
        "# save the model to disk\n",
        "#print(\"[INFO] Saving model...\")\n",
        "# pickle.dump(model,open('cnn_model.pkl', 'wb'))\n",
        "model.save('/content/fold2.h5')    "
      ],
      "execution_count": 15,
      "outputs": []
    },
    {
      "cell_type": "code",
      "metadata": {
        "id": "O6iIKa7Jzmg7"
      },
      "source": [
        "#test_img = cv2.imread('/content/datasets/Apple/Apple___Black_rot/0139bc6d-391c-4fd1-bcae-cc74dabfddd7___JR_FrgE.S 2734.JPG')\n",
        "\n",
        "#plt.imshow(test_img)\n",
        "#test_img = test_img / 255\n",
        "#test_img = np.expand_dims(test_img, axis=0)\n",
        "#pr=model.predict(test_img)\n",
        "\n",
        "#print(pr)\n",
        "#output = label_binarizer.inverse_transform(pr)\n",
        "#print(output)\n"
      ],
      "execution_count": 16,
      "outputs": []
    }
  ]
}