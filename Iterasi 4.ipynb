{
  "nbformat": 4,
  "nbformat_minor": 0,
  "metadata": {
    "accelerator": "GPU",
    "colab": {
      "name": "Kodingan Skripsi 3",
      "provenance": [],
      "collapsed_sections": [],
      "include_colab_link": true
    },
    "kernelspec": {
      "display_name": "Python 3",
      "language": "python",
      "name": "python3"
    },
    "language_info": {
      "codemirror_mode": {
        "name": "ipython",
        "version": 3
      },
      "file_extension": ".py",
      "mimetype": "text/x-python",
      "name": "python",
      "nbconvert_exporter": "python",
      "pygments_lexer": "ipython3",
      "version": "3.6.6"
    }
  },
  "cells": [
    {
      "cell_type": "markdown",
      "metadata": {
        "id": "view-in-github",
        "colab_type": "text"
      },
      "source": [
        "<a href=\"https://colab.research.google.com/github/TaufiqIdrus/MATLAB-project/blob/master/Iterasi%204.ipynb\" target=\"_parent\"><img src=\"https://colab.research.google.com/assets/colab-badge.svg\" alt=\"Open In Colab\"/></a>"
      ]
    },
    {
      "cell_type": "markdown",
      "metadata": {
        "id": "yJT_kQA2lITS"
      },
      "source": [
        "**Identifikasi Penyakit Pada Tanaman Apel menggunakan Convolutional Neural Network**"
      ]
    },
    {
      "cell_type": "code",
      "metadata": {
        "id": "xXeOaYTUzmgT"
      },
      "source": [
        "import numpy as np\n",
        "import pickle\n",
        "import os\n",
        "import cv2\n",
        "import tensorflow as tf\n",
        "import keras\n",
        "from os import listdir\n",
        "from sklearn.preprocessing import LabelBinarizer\n",
        "from sklearn.model_selection import KFold\n",
        "from keras.models import Sequential\n",
        "from keras.layers.normalization import batch_normalization\n",
        "from keras.layers.convolutional import Conv2D\n",
        "from keras.layers.convolutional import MaxPooling2D\n",
        "from keras.layers.core import Activation, Flatten, Dropout, Dense\n",
        "from keras import backend as K\n",
        "from tensorflow.keras.optimizers import Adam\n",
        "from keras.preprocessing import image\n",
        "from sklearn.preprocessing import MultiLabelBinarizer\n",
        "from sklearn.model_selection import train_test_split\n",
        "import matplotlib.pyplot as plt\n",
        "from sklearn.datasets import make_classification\n",
        "from numpy import mean\n",
        "from sklearn.metrics import confusion_matrix, ConfusionMatrixDisplay, accuracy_score, classification_report, recall_score\n"
      ],
      "execution_count": 1,
      "outputs": []
    },
    {
      "cell_type": "markdown",
      "metadata": {
        "id": "fp8C0d28lQok"
      },
      "source": [
        "Importing and Preparing Dataset"
      ]
    },
    {
      "cell_type": "code",
      "metadata": {
        "id": "_0xehllADlUs",
        "colab": {
          "base_uri": "https://localhost:8080/"
        },
        "outputId": "74297051-f704-4bdf-8460-a71c4d51dc37"
      },
      "source": [
        "!pip install pyunpack\n",
        "!pip install patool\n",
        "from pyunpack import Archive\n",
        "Archive('/content/Fold 4.rar').extractall('/content/Datasets/')\n",
        "iterasi = 4\n",
        "width=256\n",
        "height=256\n",
        "default_image_size = tuple((height, width))\n",
        "directory_root_train = '/content/Datasets/Fold 4/Train'\n",
        "directory_root_validation = '/content/Datasets/Fold 4/Validation'\n",
        "directory_root_test = '/content/Datasets/Fold 4/Test'\n",
        "image_size = 0\n",
        "depth=3"
      ],
      "execution_count": 2,
      "outputs": [
        {
          "output_type": "stream",
          "name": "stdout",
          "text": [
            "Collecting pyunpack\n",
            "  Downloading pyunpack-0.2.2-py2.py3-none-any.whl (3.8 kB)\n",
            "Collecting entrypoint2\n",
            "  Downloading entrypoint2-1.0-py3-none-any.whl (9.8 kB)\n",
            "Collecting easyprocess\n",
            "  Downloading EasyProcess-1.1-py3-none-any.whl (8.7 kB)\n",
            "Installing collected packages: entrypoint2, easyprocess, pyunpack\n",
            "Successfully installed easyprocess-1.1 entrypoint2-1.0 pyunpack-0.2.2\n",
            "Collecting patool\n",
            "  Downloading patool-1.12-py2.py3-none-any.whl (77 kB)\n",
            "\u001b[K     |████████████████████████████████| 77 kB 3.5 MB/s \n",
            "\u001b[?25hInstalling collected packages: patool\n",
            "Successfully installed patool-1.12\n"
          ]
        }
      ]
    },
    {
      "cell_type": "code",
      "metadata": {
        "id": "KbAwJJTpzmge"
      },
      "source": [
        "def convert_image_to_array(image_dir):\n",
        "    try:\n",
        "        image = cv2.imread(image_dir)\n",
        "        if image is not None :\n",
        "            image = cv2.resize(image, default_image_size)   \n",
        "            return keras.preprocessing.image.img_to_array(image)\n",
        "        else :\n",
        "            return np.array([])\n",
        "    except Exception as e:\n",
        "        print(f\"Error : {e}\")\n",
        "        return None"
      ],
      "execution_count": 3,
      "outputs": []
    },
    {
      "cell_type": "markdown",
      "source": [
        "Converting **Training** Data to Array"
      ],
      "metadata": {
        "id": "bgXxUMO2cI_D"
      }
    },
    {
      "cell_type": "code",
      "metadata": {
        "id": "Erz6IjKXzmgg",
        "colab": {
          "base_uri": "https://localhost:8080/"
        },
        "outputId": "46b0ef6b-667c-4175-9632-631b989914c0"
      },
      "source": [
        "image_list_train, label_list_train = [], []\n",
        "try:\n",
        "    print(\"[INFO] Loading images ...\")\n",
        "    root_dir = listdir(directory_root_train)\n",
        "\n",
        "    for plant_disease_folder in root_dir:\n",
        "        print(f\"[INFO] Processing {plant_disease_folder} ...\")\n",
        "        plant_disease_image_list = listdir(f\"{directory_root_train}/{plant_disease_folder}/\")\n",
        "      \n",
        "        for image in plant_disease_image_list:\n",
        "            image_directory = f\"{directory_root_train}/{plant_disease_folder}/{image}\"\n",
        "\n",
        "            if image_directory.endswith(\".jpg\") == True or image_directory.endswith(\".JPG\") == True:\n",
        "                image_list_train.append(convert_image_to_array(image_directory))\n",
        "                label_list_train.append(plant_disease_folder)\n",
        "    print(\"[INFO] Image loading completed\")\n",
        "\n",
        "except Exception as e:\n",
        "    print(f\"Error : {e}\")\n",
        "\n",
        "#image labeling\n",
        "image_size = len(image_list_train)\n",
        "label_binarizer = LabelBinarizer()\n",
        "image_labels_train = label_binarizer.fit_transform(label_list_train)\n",
        "pickle.dump(label_binarizer,open('label_transform_train.pkl', 'wb'))\n",
        "n_classes = len(label_binarizer.classes_)\n",
        "np_image_list_train = np.array(image_list_train, dtype=np.float16) / 255.0"
      ],
      "execution_count": 4,
      "outputs": [
        {
          "output_type": "stream",
          "name": "stdout",
          "text": [
            "[INFO] Loading images ...\n",
            "[INFO] Processing Apple___Black_rot ...\n",
            "[INFO] Processing Apple___Apple_scab ...\n",
            "[INFO] Processing Apple___healthy ...\n",
            "[INFO] Processing Apple___Cedar_apple_rust ...\n",
            "[INFO] Image loading completed\n"
          ]
        }
      ]
    },
    {
      "cell_type": "markdown",
      "source": [
        "Converting **Validation** Data to Array"
      ],
      "metadata": {
        "id": "7eEMGiqRd_E4"
      }
    },
    {
      "cell_type": "code",
      "source": [
        "image_list_validation, label_list_validation = [], []\n",
        "try:\n",
        "    print(\"[INFO] Loading images ...\")\n",
        "    root_dir = listdir(directory_root_validation)\n",
        "\n",
        "    for plant_disease_folder in root_dir:\n",
        "        print(f\"[INFO] Processing {plant_disease_folder} ...\")\n",
        "        plant_disease_image_list = listdir(f\"{directory_root_validation}/{plant_disease_folder}/\")\n",
        "      \n",
        "        for image in plant_disease_image_list:\n",
        "            image_directory = f\"{directory_root_validation}/{plant_disease_folder}/{image}\"\n",
        "\n",
        "            if image_directory.endswith(\".jpg\") == True or image_directory.endswith(\".JPG\") == True:\n",
        "                image_list_validation.append(convert_image_to_array(image_directory))\n",
        "                label_list_validation.append(plant_disease_folder)\n",
        "    print(\"[INFO] Image loading completed\")\n",
        "\n",
        "except Exception as e:\n",
        "    print(f\"Error : {e}\")\n",
        "\n",
        "#image labeling\n",
        "image_size = len(image_list_validation)\n",
        "label_binarizer = LabelBinarizer()\n",
        "image_labels_validation = label_binarizer.fit_transform(label_list_validation)\n",
        "pickle.dump(label_binarizer,open('label_transform_validation.pkl', 'wb'))\n",
        "n_classes = len(label_binarizer.classes_)\n",
        "np_image_list_validation = np.array(image_list_validation, dtype=np.float16) / 255.0"
      ],
      "metadata": {
        "id": "wfHDdR0ZeEuU",
        "colab": {
          "base_uri": "https://localhost:8080/"
        },
        "outputId": "414206d3-64d3-49b0-d8dc-2952a2b019b1"
      },
      "execution_count": 5,
      "outputs": [
        {
          "output_type": "stream",
          "name": "stdout",
          "text": [
            "[INFO] Loading images ...\n",
            "[INFO] Processing Apple___Black_rot ...\n",
            "[INFO] Processing Apple___Apple_scab ...\n",
            "[INFO] Processing Apple___healthy ...\n",
            "[INFO] Processing Apple___Cedar_apple_rust ...\n",
            "[INFO] Image loading completed\n"
          ]
        }
      ]
    },
    {
      "cell_type": "markdown",
      "source": [
        "Converting **Testing** Data to Array"
      ],
      "metadata": {
        "id": "brwWyZVncTdg"
      }
    },
    {
      "cell_type": "code",
      "metadata": {
        "id": "uNPby5UMcaWY",
        "colab": {
          "base_uri": "https://localhost:8080/"
        },
        "outputId": "19301df6-b940-4183-d7db-412c9c4885cd"
      },
      "source": [
        "image_list_test, label_list_test = [], []\n",
        "try:\n",
        "    print(\"[INFO] Loading images ...\")\n",
        "    root_dir = listdir(directory_root_test)\n",
        "\n",
        "    for plant_disease_folder in root_dir:\n",
        "        print(f\"[INFO] Processing {plant_disease_folder} ...\")\n",
        "        plant_disease_image_list = listdir(f\"{directory_root_test}/{plant_disease_folder}/\")\n",
        "      \n",
        "        for image in plant_disease_image_list:\n",
        "            image_directory = f\"{directory_root_test}/{plant_disease_folder}/{image}\"\n",
        "\n",
        "            if image_directory.endswith(\".jpg\") == True or image_directory.endswith(\".JPG\") == True:\n",
        "                image_list_test.append(convert_image_to_array(image_directory))\n",
        "                label_list_test.append(plant_disease_folder)\n",
        "    print(\"[INFO] Image loading completed\")\n",
        "\n",
        "except Exception as e:\n",
        "    print(f\"Error : {e}\")\n",
        "\n",
        "#image labeling\n",
        "image_size = len(image_list_test)\n",
        "label_binarizer = LabelBinarizer()\n",
        "image_labels_test = label_binarizer.fit_transform(label_list_test)\n",
        "pickle.dump(label_binarizer,open('label_transform_test.pkl', 'wb'))\n",
        "n_classes = len(label_binarizer.classes_)\n",
        "np_image_list_test = np.array(image_list_test, dtype=np.float16) / 255.0"
      ],
      "execution_count": 6,
      "outputs": [
        {
          "output_type": "stream",
          "name": "stdout",
          "text": [
            "[INFO] Loading images ...\n",
            "[INFO] Processing Apple___Black_rot ...\n",
            "[INFO] Processing Apple___Apple_scab ...\n",
            "[INFO] Processing Apple___healthy ...\n",
            "[INFO] Processing Apple___Cedar_apple_rust ...\n",
            "[INFO] Image loading completed\n"
          ]
        }
      ]
    },
    {
      "cell_type": "markdown",
      "metadata": {
        "id": "jYBTFN0CnAi7"
      },
      "source": [
        "Data Augmenting Initialization"
      ]
    },
    {
      "cell_type": "code",
      "metadata": {
        "id": "TLMxMK2Tzmgr"
      },
      "source": [
        "aug = keras.preprocessing.image.ImageDataGenerator(\n",
        "    rotation_range=25, \n",
        "    width_shift_range=0.1,\n",
        "    height_shift_range=0.1, \n",
        "    shear_range=0.2, \n",
        "    zoom_range=0.2,\n",
        "    horizontal_flip=True, \n",
        "    fill_mode=\"nearest\")"
      ],
      "execution_count": 7,
      "outputs": []
    },
    {
      "cell_type": "markdown",
      "metadata": {
        "id": "H1BfRyYNnGv_"
      },
      "source": [
        "Creating CNN Model"
      ]
    },
    {
      "cell_type": "code",
      "metadata": {
        "id": "WmLX4wm8zmgs"
      },
      "source": [
        "model = keras.models.Sequential()\n",
        "inputShape = (height, width, depth)\n",
        "\n",
        "model.add(Conv2D(32, (3, 3), padding=\"same\",input_shape=inputShape))\n",
        "model.add(Activation(\"relu\"))\n",
        "\n",
        "model.add(MaxPooling2D(pool_size=(3, 3)))\n",
        "\n",
        "model.add(Conv2D(64, (3, 3), padding=\"same\"))\n",
        "model.add(Activation(\"relu\"))\n",
        "\n",
        "model.add(MaxPooling2D(pool_size=(3, 3)))\n",
        "\n",
        "model.add(Conv2D(128, (3, 3), padding=\"same\"))\n",
        "model.add(Activation(\"relu\"))\n",
        "\n",
        "model.add(MaxPooling2D(pool_size=(2, 2)))\n",
        "\n",
        "model.add(Conv2D(256, (3, 3), padding=\"same\"))\n",
        "model.add(Activation(\"relu\"))\n",
        "\n",
        "model.add(MaxPooling2D(pool_size=(2, 2)))\n",
        "\n",
        "model.add(Flatten())\n",
        "\n",
        "model.add(Dense(1024))\n",
        "model.add(Activation(\"relu\"))\n",
        "\n",
        "model.add(Dense(n_classes))\n",
        "model.add(Activation(\"softmax\"))"
      ],
      "execution_count": 8,
      "outputs": []
    },
    {
      "cell_type": "code",
      "source": [
        "#callback = tf.keras.callbacks.EarlyStopping(monitor='loss', patience=3)"
      ],
      "metadata": {
        "id": "9Dv-xrGBgeRq"
      },
      "execution_count": 9,
      "outputs": []
    },
    {
      "cell_type": "markdown",
      "metadata": {
        "id": "Zfsu3lVfnXFG"
      },
      "source": [
        "**Training** Network"
      ]
    },
    {
      "cell_type": "code",
      "metadata": {
        "id": "rvwKwe3Lzmgv",
        "colab": {
          "base_uri": "https://localhost:8080/"
        },
        "outputId": "af0344d1-e079-4975-f124-379eb7df30a7"
      },
      "source": [
        "EPOCHS = 50\n",
        "INIT_LR = 1e-3\n",
        "BS = 32\n",
        "\n",
        "with tf.device('/GPU:0'):\n",
        "  opt = Adam(learning_rate=INIT_LR, decay=INIT_LR / EPOCHS)\n",
        "  model.compile(loss=\"binary_crossentropy\", optimizer=opt,metrics=[\"Accuracy\", \"FalseNegatives\", \"FalsePositives\", \"TrueNegatives\", \"TruePositives\"])\n",
        "  \n",
        "  history = model.fit(\n",
        "      aug.flow(np_image_list_train, image_labels_train, batch_size=BS),\n",
        "      validation_data=(np_image_list_validation, image_labels_validation),\n",
        "      steps_per_epoch=len(np_image_list_train) // BS,\n",
        "      epochs=EPOCHS, \n",
        "      verbose=1,\n",
        "      )\n"
      ],
      "execution_count": 10,
      "outputs": [
        {
          "output_type": "stream",
          "name": "stdout",
          "text": [
            "Epoch 1/50\n",
            "63/63 [==============================] - 42s 436ms/step - loss: 0.4860 - Accuracy: 0.5348 - false_negatives: 1075.0000 - false_positives: 695.0000 - true_negatives: 5296.0000 - true_positives: 922.0000 - val_loss: 0.3032 - val_Accuracy: 0.7160 - val_false_negatives: 154.0000 - val_false_positives: 120.0000 - val_true_negatives: 1401.0000 - val_true_positives: 353.0000\n",
            "Epoch 2/50\n",
            "63/63 [==============================] - 26s 410ms/step - loss: 0.3045 - Accuracy: 0.7431 - false_negatives: 608.0000 - false_positives: 398.0000 - true_negatives: 5593.0000 - true_positives: 1389.0000 - val_loss: 0.2666 - val_Accuracy: 0.7751 - val_false_negatives: 120.0000 - val_false_positives: 101.0000 - val_true_negatives: 1420.0000 - val_true_positives: 387.0000\n",
            "Epoch 3/50\n",
            "63/63 [==============================] - 26s 408ms/step - loss: 0.1855 - Accuracy: 0.8558 - false_negatives: 307.0000 - false_positives: 261.0000 - true_negatives: 5730.0000 - true_positives: 1690.0000 - val_loss: 0.1411 - val_Accuracy: 0.8718 - val_false_negatives: 65.0000 - val_false_positives: 64.0000 - val_true_negatives: 1457.0000 - val_true_positives: 442.0000\n",
            "Epoch 4/50\n",
            "63/63 [==============================] - 26s 408ms/step - loss: 0.1768 - Accuracy: 0.8558 - false_negatives: 306.0000 - false_positives: 269.0000 - true_negatives: 5722.0000 - true_positives: 1691.0000 - val_loss: 0.1440 - val_Accuracy: 0.8659 - val_false_negatives: 72.0000 - val_false_positives: 60.0000 - val_true_negatives: 1461.0000 - val_true_positives: 435.0000\n",
            "Epoch 5/50\n",
            "63/63 [==============================] - 26s 409ms/step - loss: 0.1569 - Accuracy: 0.8793 - false_negatives: 251.0000 - false_positives: 229.0000 - true_negatives: 5762.0000 - true_positives: 1746.0000 - val_loss: 0.1417 - val_Accuracy: 0.8738 - val_false_negatives: 67.0000 - val_false_positives: 61.0000 - val_true_negatives: 1460.0000 - val_true_positives: 440.0000\n",
            "Epoch 6/50\n",
            "63/63 [==============================] - 26s 408ms/step - loss: 0.1271 - Accuracy: 0.8958 - false_negatives: 211.0000 - false_positives: 191.0000 - true_negatives: 5800.0000 - true_positives: 1786.0000 - val_loss: 0.1872 - val_Accuracy: 0.8797 - val_false_negatives: 62.0000 - val_false_positives: 59.0000 - val_true_negatives: 1462.0000 - val_true_positives: 445.0000\n",
            "Epoch 7/50\n",
            "63/63 [==============================] - 26s 410ms/step - loss: 0.1127 - Accuracy: 0.9109 - false_negatives: 184.0000 - false_positives: 170.0000 - true_negatives: 5821.0000 - true_positives: 1813.0000 - val_loss: 0.0978 - val_Accuracy: 0.9290 - val_false_negatives: 37.0000 - val_false_positives: 35.0000 - val_true_negatives: 1486.0000 - val_true_positives: 470.0000\n",
            "Epoch 8/50\n",
            "63/63 [==============================] - 26s 409ms/step - loss: 0.1044 - Accuracy: 0.9204 - false_negatives: 164.0000 - false_positives: 157.0000 - true_negatives: 5834.0000 - true_positives: 1833.0000 - val_loss: 0.0997 - val_Accuracy: 0.9191 - val_false_negatives: 41.0000 - val_false_positives: 38.0000 - val_true_negatives: 1483.0000 - val_true_positives: 466.0000\n",
            "Epoch 9/50\n",
            "63/63 [==============================] - 26s 407ms/step - loss: 0.1138 - Accuracy: 0.9079 - false_negatives: 189.0000 - false_positives: 174.0000 - true_negatives: 5817.0000 - true_positives: 1808.0000 - val_loss: 0.0983 - val_Accuracy: 0.9231 - val_false_negatives: 42.0000 - val_false_positives: 39.0000 - val_true_negatives: 1482.0000 - val_true_positives: 465.0000\n",
            "Epoch 10/50\n",
            "63/63 [==============================] - 26s 407ms/step - loss: 0.1155 - Accuracy: 0.9074 - false_negatives: 194.0000 - false_positives: 181.0000 - true_negatives: 5810.0000 - true_positives: 1803.0000 - val_loss: 0.3290 - val_Accuracy: 0.8067 - val_false_negatives: 101.0000 - val_false_positives: 92.0000 - val_true_negatives: 1429.0000 - val_true_positives: 406.0000\n",
            "Epoch 11/50\n",
            "63/63 [==============================] - 26s 406ms/step - loss: 0.1163 - Accuracy: 0.9124 - false_negatives: 182.0000 - false_positives: 172.0000 - true_negatives: 5819.0000 - true_positives: 1815.0000 - val_loss: 0.0792 - val_Accuracy: 0.9290 - val_false_negatives: 36.0000 - val_false_positives: 33.0000 - val_true_negatives: 1488.0000 - val_true_positives: 471.0000\n",
            "Epoch 12/50\n",
            "63/63 [==============================] - 26s 413ms/step - loss: 0.0876 - Accuracy: 0.9345 - false_negatives: 137.0000 - false_positives: 130.0000 - true_negatives: 5918.0000 - true_positives: 1879.0000 - val_loss: 0.1753 - val_Accuracy: 0.8836 - val_false_negatives: 59.0000 - val_false_positives: 58.0000 - val_true_negatives: 1463.0000 - val_true_positives: 448.0000\n",
            "Epoch 13/50\n",
            "63/63 [==============================] - 26s 405ms/step - loss: 0.0881 - Accuracy: 0.9329 - false_negatives: 138.0000 - false_positives: 129.0000 - true_negatives: 5862.0000 - true_positives: 1859.0000 - val_loss: 0.1352 - val_Accuracy: 0.9034 - val_false_negatives: 49.0000 - val_false_positives: 49.0000 - val_true_negatives: 1472.0000 - val_true_positives: 458.0000\n",
            "Epoch 14/50\n",
            "63/63 [==============================] - 26s 409ms/step - loss: 0.1067 - Accuracy: 0.9169 - false_negatives: 173.0000 - false_positives: 161.0000 - true_negatives: 5830.0000 - true_positives: 1824.0000 - val_loss: 0.1640 - val_Accuracy: 0.8797 - val_false_negatives: 63.0000 - val_false_positives: 59.0000 - val_true_negatives: 1462.0000 - val_true_positives: 444.0000\n",
            "Epoch 15/50\n",
            "63/63 [==============================] - 26s 409ms/step - loss: 0.0812 - Accuracy: 0.9359 - false_negatives: 135.0000 - false_positives: 121.0000 - true_negatives: 5870.0000 - true_positives: 1862.0000 - val_loss: 0.1263 - val_Accuracy: 0.8935 - val_false_negatives: 55.0000 - val_false_positives: 52.0000 - val_true_negatives: 1469.0000 - val_true_positives: 452.0000\n",
            "Epoch 16/50\n",
            "63/63 [==============================] - 26s 406ms/step - loss: 0.0652 - Accuracy: 0.9534 - false_negatives: 94.0000 - false_positives: 92.0000 - true_negatives: 5899.0000 - true_positives: 1903.0000 - val_loss: 0.0603 - val_Accuracy: 0.9566 - val_false_negatives: 22.0000 - val_false_positives: 22.0000 - val_true_negatives: 1499.0000 - val_true_positives: 485.0000\n",
            "Epoch 17/50\n",
            "63/63 [==============================] - 26s 409ms/step - loss: 0.0639 - Accuracy: 0.9469 - false_negatives: 106.0000 - false_positives: 101.0000 - true_negatives: 5890.0000 - true_positives: 1891.0000 - val_loss: 0.0815 - val_Accuracy: 0.9428 - val_false_negatives: 29.0000 - val_false_positives: 29.0000 - val_true_negatives: 1492.0000 - val_true_positives: 478.0000\n",
            "Epoch 18/50\n",
            "63/63 [==============================] - 26s 407ms/step - loss: 0.0695 - Accuracy: 0.9499 - false_negatives: 101.0000 - false_positives: 99.0000 - true_negatives: 5892.0000 - true_positives: 1896.0000 - val_loss: 0.0962 - val_Accuracy: 0.9270 - val_false_negatives: 38.0000 - val_false_positives: 35.0000 - val_true_negatives: 1486.0000 - val_true_positives: 469.0000\n",
            "Epoch 19/50\n",
            "63/63 [==============================] - 26s 410ms/step - loss: 0.0583 - Accuracy: 0.9559 - false_negatives: 89.0000 - false_positives: 85.0000 - true_negatives: 5906.0000 - true_positives: 1908.0000 - val_loss: 0.1684 - val_Accuracy: 0.9014 - val_false_negatives: 52.0000 - val_false_positives: 48.0000 - val_true_negatives: 1473.0000 - val_true_positives: 455.0000\n",
            "Epoch 20/50\n",
            "63/63 [==============================] - 26s 407ms/step - loss: 0.0573 - Accuracy: 0.9584 - false_negatives: 83.0000 - false_positives: 81.0000 - true_negatives: 5910.0000 - true_positives: 1914.0000 - val_loss: 0.0731 - val_Accuracy: 0.9389 - val_false_negatives: 31.0000 - val_false_positives: 30.0000 - val_true_negatives: 1491.0000 - val_true_positives: 476.0000\n",
            "Epoch 21/50\n",
            "63/63 [==============================] - 26s 405ms/step - loss: 0.0536 - Accuracy: 0.9584 - false_negatives: 86.0000 - false_positives: 78.0000 - true_negatives: 5913.0000 - true_positives: 1911.0000 - val_loss: 0.0933 - val_Accuracy: 0.9329 - val_false_negatives: 35.0000 - val_false_positives: 31.0000 - val_true_negatives: 1490.0000 - val_true_positives: 472.0000\n",
            "Epoch 22/50\n",
            "63/63 [==============================] - 26s 408ms/step - loss: 0.0576 - Accuracy: 0.9554 - false_negatives: 93.0000 - false_positives: 87.0000 - true_negatives: 5904.0000 - true_positives: 1904.0000 - val_loss: 0.1057 - val_Accuracy: 0.9211 - val_false_negatives: 40.0000 - val_false_positives: 38.0000 - val_true_negatives: 1483.0000 - val_true_positives: 467.0000\n",
            "Epoch 23/50\n",
            "63/63 [==============================] - 26s 405ms/step - loss: 0.0622 - Accuracy: 0.9584 - false_negatives: 86.0000 - false_positives: 81.0000 - true_negatives: 5910.0000 - true_positives: 1911.0000 - val_loss: 0.0488 - val_Accuracy: 0.9625 - val_false_negatives: 19.0000 - val_false_positives: 19.0000 - val_true_negatives: 1502.0000 - val_true_positives: 488.0000\n",
            "Epoch 24/50\n",
            "63/63 [==============================] - 25s 404ms/step - loss: 0.0409 - Accuracy: 0.9710 - false_negatives: 59.0000 - false_positives: 56.0000 - true_negatives: 5935.0000 - true_positives: 1938.0000 - val_loss: 0.0647 - val_Accuracy: 0.9586 - val_false_negatives: 21.0000 - val_false_positives: 21.0000 - val_true_negatives: 1500.0000 - val_true_positives: 486.0000\n",
            "Epoch 25/50\n",
            "63/63 [==============================] - 26s 407ms/step - loss: 0.0309 - Accuracy: 0.9775 - false_negatives: 45.0000 - false_positives: 43.0000 - true_negatives: 5948.0000 - true_positives: 1952.0000 - val_loss: 0.0529 - val_Accuracy: 0.9665 - val_false_negatives: 17.0000 - val_false_positives: 17.0000 - val_true_negatives: 1504.0000 - val_true_positives: 490.0000\n",
            "Epoch 26/50\n",
            "63/63 [==============================] - 26s 406ms/step - loss: 0.0328 - Accuracy: 0.9770 - false_negatives: 48.0000 - false_positives: 45.0000 - true_negatives: 5946.0000 - true_positives: 1949.0000 - val_loss: 0.1183 - val_Accuracy: 0.9172 - val_false_negatives: 42.0000 - val_false_positives: 40.0000 - val_true_negatives: 1481.0000 - val_true_positives: 465.0000\n",
            "Epoch 27/50\n",
            "63/63 [==============================] - 26s 406ms/step - loss: 0.0367 - Accuracy: 0.9700 - false_negatives: 61.0000 - false_positives: 59.0000 - true_negatives: 5932.0000 - true_positives: 1936.0000 - val_loss: 0.0820 - val_Accuracy: 0.9487 - val_false_negatives: 26.0000 - val_false_positives: 26.0000 - val_true_negatives: 1495.0000 - val_true_positives: 481.0000\n",
            "Epoch 28/50\n",
            "63/63 [==============================] - 26s 405ms/step - loss: 0.0499 - Accuracy: 0.9589 - false_negatives: 82.0000 - false_positives: 80.0000 - true_negatives: 5911.0000 - true_positives: 1915.0000 - val_loss: 0.0751 - val_Accuracy: 0.9408 - val_false_negatives: 30.0000 - val_false_positives: 30.0000 - val_true_negatives: 1491.0000 - val_true_positives: 477.0000\n",
            "Epoch 29/50\n",
            "63/63 [==============================] - 26s 405ms/step - loss: 0.0430 - Accuracy: 0.9654 - false_negatives: 70.0000 - false_positives: 68.0000 - true_negatives: 5923.0000 - true_positives: 1927.0000 - val_loss: 0.0313 - val_Accuracy: 0.9822 - val_false_negatives: 9.0000 - val_false_positives: 9.0000 - val_true_negatives: 1512.0000 - val_true_positives: 498.0000\n",
            "Epoch 30/50\n",
            "63/63 [==============================] - 26s 407ms/step - loss: 0.0509 - Accuracy: 0.9634 - false_negatives: 79.0000 - false_positives: 71.0000 - true_negatives: 5920.0000 - true_positives: 1918.0000 - val_loss: 0.0669 - val_Accuracy: 0.9586 - val_false_negatives: 22.0000 - val_false_positives: 21.0000 - val_true_negatives: 1500.0000 - val_true_positives: 485.0000\n",
            "Epoch 31/50\n",
            "63/63 [==============================] - 26s 405ms/step - loss: 0.0246 - Accuracy: 0.9845 - false_negatives: 31.0000 - false_positives: 30.0000 - true_negatives: 5961.0000 - true_positives: 1966.0000 - val_loss: 0.0443 - val_Accuracy: 0.9704 - val_false_negatives: 15.0000 - val_false_positives: 15.0000 - val_true_negatives: 1506.0000 - val_true_positives: 492.0000\n",
            "Epoch 32/50\n",
            "63/63 [==============================] - 26s 406ms/step - loss: 0.0288 - Accuracy: 0.9810 - false_negatives: 39.0000 - false_positives: 38.0000 - true_negatives: 5953.0000 - true_positives: 1958.0000 - val_loss: 0.0523 - val_Accuracy: 0.9684 - val_false_negatives: 16.0000 - val_false_positives: 16.0000 - val_true_negatives: 1505.0000 - val_true_positives: 491.0000\n",
            "Epoch 33/50\n",
            "63/63 [==============================] - 26s 407ms/step - loss: 0.0248 - Accuracy: 0.9830 - false_negatives: 34.0000 - false_positives: 34.0000 - true_negatives: 5957.0000 - true_positives: 1963.0000 - val_loss: 0.0240 - val_Accuracy: 0.9842 - val_false_negatives: 8.0000 - val_false_positives: 8.0000 - val_true_negatives: 1513.0000 - val_true_positives: 499.0000\n",
            "Epoch 34/50\n",
            "63/63 [==============================] - 26s 408ms/step - loss: 0.0252 - Accuracy: 0.9810 - false_negatives: 38.0000 - false_positives: 38.0000 - true_negatives: 5953.0000 - true_positives: 1959.0000 - val_loss: 0.0414 - val_Accuracy: 0.9763 - val_false_negatives: 12.0000 - val_false_positives: 12.0000 - val_true_negatives: 1509.0000 - val_true_positives: 495.0000\n",
            "Epoch 35/50\n",
            "63/63 [==============================] - 26s 408ms/step - loss: 0.0262 - Accuracy: 0.9795 - false_negatives: 42.0000 - false_positives: 41.0000 - true_negatives: 5950.0000 - true_positives: 1955.0000 - val_loss: 0.0622 - val_Accuracy: 0.9665 - val_false_negatives: 18.0000 - val_false_positives: 17.0000 - val_true_negatives: 1504.0000 - val_true_positives: 489.0000\n",
            "Epoch 36/50\n",
            "63/63 [==============================] - 26s 407ms/step - loss: 0.0294 - Accuracy: 0.9790 - false_negatives: 43.0000 - false_positives: 42.0000 - true_negatives: 5949.0000 - true_positives: 1954.0000 - val_loss: 0.1359 - val_Accuracy: 0.9112 - val_false_negatives: 45.0000 - val_false_positives: 45.0000 - val_true_negatives: 1476.0000 - val_true_positives: 462.0000\n",
            "Epoch 37/50\n",
            "63/63 [==============================] - 26s 409ms/step - loss: 0.0272 - Accuracy: 0.9815 - false_negatives: 37.0000 - false_positives: 37.0000 - true_negatives: 5954.0000 - true_positives: 1960.0000 - val_loss: 0.0689 - val_Accuracy: 0.9546 - val_false_negatives: 23.0000 - val_false_positives: 22.0000 - val_true_negatives: 1499.0000 - val_true_positives: 484.0000\n",
            "Epoch 38/50\n",
            "63/63 [==============================] - 26s 410ms/step - loss: 0.0416 - Accuracy: 0.9705 - false_negatives: 59.0000 - false_positives: 59.0000 - true_negatives: 5932.0000 - true_positives: 1938.0000 - val_loss: 0.0278 - val_Accuracy: 0.9842 - val_false_negatives: 8.0000 - val_false_positives: 8.0000 - val_true_negatives: 1513.0000 - val_true_positives: 499.0000\n",
            "Epoch 39/50\n",
            "63/63 [==============================] - 26s 410ms/step - loss: 0.0244 - Accuracy: 0.9820 - false_negatives: 37.0000 - false_positives: 35.0000 - true_negatives: 5956.0000 - true_positives: 1960.0000 - val_loss: 0.0194 - val_Accuracy: 0.9862 - val_false_negatives: 7.0000 - val_false_positives: 7.0000 - val_true_negatives: 1514.0000 - val_true_positives: 500.0000\n",
            "Epoch 40/50\n",
            "63/63 [==============================] - 26s 407ms/step - loss: 0.0204 - Accuracy: 0.9860 - false_negatives: 28.0000 - false_positives: 27.0000 - true_negatives: 5964.0000 - true_positives: 1969.0000 - val_loss: 0.0401 - val_Accuracy: 0.9862 - val_false_negatives: 7.0000 - val_false_positives: 6.0000 - val_true_negatives: 1515.0000 - val_true_positives: 500.0000\n",
            "Epoch 41/50\n",
            "63/63 [==============================] - 26s 408ms/step - loss: 0.0207 - Accuracy: 0.9840 - false_negatives: 32.0000 - false_positives: 32.0000 - true_negatives: 5959.0000 - true_positives: 1965.0000 - val_loss: 0.0560 - val_Accuracy: 0.9684 - val_false_negatives: 16.0000 - val_false_positives: 16.0000 - val_true_negatives: 1505.0000 - val_true_positives: 491.0000\n",
            "Epoch 42/50\n",
            "63/63 [==============================] - 26s 416ms/step - loss: 0.0391 - Accuracy: 0.9710 - false_negatives: 58.0000 - false_positives: 58.0000 - true_negatives: 5933.0000 - true_positives: 1939.0000 - val_loss: 0.0390 - val_Accuracy: 0.9763 - val_false_negatives: 12.0000 - val_false_positives: 12.0000 - val_true_negatives: 1509.0000 - val_true_positives: 495.0000\n",
            "Epoch 43/50\n",
            "63/63 [==============================] - 26s 410ms/step - loss: 0.0219 - Accuracy: 0.9855 - false_negatives: 29.0000 - false_positives: 28.0000 - true_negatives: 5963.0000 - true_positives: 1968.0000 - val_loss: 0.0667 - val_Accuracy: 0.9625 - val_false_negatives: 19.0000 - val_false_positives: 19.0000 - val_true_negatives: 1502.0000 - val_true_positives: 488.0000\n",
            "Epoch 44/50\n",
            "63/63 [==============================] - 27s 430ms/step - loss: 0.0171 - Accuracy: 0.9890 - false_negatives: 24.0000 - false_positives: 22.0000 - true_negatives: 5969.0000 - true_positives: 1973.0000 - val_loss: 0.0326 - val_Accuracy: 0.9803 - val_false_negatives: 10.0000 - val_false_positives: 10.0000 - val_true_negatives: 1511.0000 - val_true_positives: 497.0000\n",
            "Epoch 45/50\n",
            "63/63 [==============================] - 27s 424ms/step - loss: 0.0160 - Accuracy: 0.9880 - false_negatives: 24.0000 - false_positives: 23.0000 - true_negatives: 5968.0000 - true_positives: 1973.0000 - val_loss: 0.0460 - val_Accuracy: 0.9763 - val_false_negatives: 12.0000 - val_false_positives: 12.0000 - val_true_negatives: 1509.0000 - val_true_positives: 495.0000\n",
            "Epoch 46/50\n",
            "63/63 [==============================] - 26s 413ms/step - loss: 0.0156 - Accuracy: 0.9885 - false_negatives: 23.0000 - false_positives: 23.0000 - true_negatives: 5968.0000 - true_positives: 1974.0000 - val_loss: 0.0067 - val_Accuracy: 0.9961 - val_false_negatives: 2.0000 - val_false_positives: 2.0000 - val_true_negatives: 1519.0000 - val_true_positives: 505.0000\n",
            "Epoch 47/50\n",
            "63/63 [==============================] - 26s 419ms/step - loss: 0.0113 - Accuracy: 0.9910 - false_negatives: 18.0000 - false_positives: 18.0000 - true_negatives: 5973.0000 - true_positives: 1979.0000 - val_loss: 0.0396 - val_Accuracy: 0.9704 - val_false_negatives: 15.0000 - val_false_positives: 15.0000 - val_true_negatives: 1506.0000 - val_true_positives: 492.0000\n",
            "Epoch 48/50\n",
            "63/63 [==============================] - 26s 408ms/step - loss: 0.0391 - Accuracy: 0.9760 - false_negatives: 50.0000 - false_positives: 47.0000 - true_negatives: 5944.0000 - true_positives: 1947.0000 - val_loss: 0.0427 - val_Accuracy: 0.9724 - val_false_negatives: 15.0000 - val_false_positives: 13.0000 - val_true_negatives: 1508.0000 - val_true_positives: 492.0000\n",
            "Epoch 49/50\n",
            "63/63 [==============================] - 26s 414ms/step - loss: 0.0310 - Accuracy: 0.9850 - false_negatives: 32.0000 - false_positives: 30.0000 - true_negatives: 5961.0000 - true_positives: 1965.0000 - val_loss: 0.0224 - val_Accuracy: 0.9842 - val_false_negatives: 8.0000 - val_false_positives: 8.0000 - val_true_negatives: 1513.0000 - val_true_positives: 499.0000\n",
            "Epoch 50/50\n",
            "63/63 [==============================] - 26s 414ms/step - loss: 0.0131 - Accuracy: 0.9895 - false_negatives: 21.0000 - false_positives: 21.0000 - true_negatives: 5970.0000 - true_positives: 1976.0000 - val_loss: 0.0151 - val_Accuracy: 0.9941 - val_false_negatives: 3.0000 - val_false_positives: 3.0000 - val_true_negatives: 1518.0000 - val_true_positives: 504.0000\n"
          ]
        }
      ]
    },
    {
      "cell_type": "markdown",
      "source": [
        "Plotting Traning Result"
      ],
      "metadata": {
        "id": "XZSFG8fXqz7c"
      }
    },
    {
      "cell_type": "code",
      "source": [
        "  #plotting\n",
        "  epochs = range(1, len(history.history['loss'])+1)\n",
        "  plt.title(f\"Grafik loss training iterasi {iterasi}\")\n",
        "  plt.plot(epochs, history.history['loss'], 'r', label='Training Loss')\n",
        "  plt.plot(epochs, history.history['val_loss'], 'b', label='Validation Loss')    \n",
        "  plt.xlabel(\"Epoch\")\n",
        "  plt.ylabel(\"Loss\")\n",
        "  plt.legend()\n",
        "  plt.show()\n"
      ],
      "metadata": {
        "id": "3dXbDrJpY1NK",
        "colab": {
          "base_uri": "https://localhost:8080/",
          "height": 295
        },
        "outputId": "903d63fb-5b3b-4f2b-88da-efc933d43aa0"
      },
      "execution_count": 11,
      "outputs": [
        {
          "output_type": "display_data",
          "data": {
            "image/png": "[encoded data removed]",
            "text/plain": [
              "<Figure size 432x288 with 1 Axes>"
            ]
          },
          "metadata": {
            "needs_background": "light"
          }
        }
      ]
    },
    {
      "cell_type": "code",
      "source": [
        "  #plotting\n",
        "  epochs = range(1, len(history.history['loss'])+1)\n",
        "  plt.title(f\"Grafik Akurasi training iterasi {iterasi}\")\n",
        "  plt.plot(epochs, history.history['Accuracy'], 'r', label='Training Accuracy')\n",
        "  plt.plot(epochs, history.history['val_Accuracy'], 'b', label='Validation Accuracy')    \n",
        "  plt.xlabel(\"Epoch\")\n",
        "  plt.ylabel(\"Accuracy\")\n",
        "  plt.legend()\n",
        "  plt.show()"
      ],
      "metadata": {
        "colab": {
          "base_uri": "https://localhost:8080/",
          "height": 295
        },
        "id": "j3xigprPwlSX",
        "outputId": "e3d507ef-163d-4285-c69c-760618321372"
      },
      "execution_count": 12,
      "outputs": [
        {
          "output_type": "display_data",
          "data": {
            "image/png": "[encoded data removed]",
            "text/plain": [
              "<Figure size 432x288 with 1 Axes>"
            ]
          },
          "metadata": {
            "needs_background": "light"
          }
        }
      ]
    },
    {
      "cell_type": "markdown",
      "metadata": {
        "id": "bTgk1-sdzmgy"
      },
      "source": [
        "**Validating** Network"
      ]
    },
    {
      "cell_type": "code",
      "source": [
        "import matplotlib.pyplot as plt\n",
        "from sklearn.datasets import make_classification\n",
        "from numpy import mean\n",
        "from sklearn.metrics import confusion_matrix, ConfusionMatrixDisplay, accuracy_score, classification_report, recall_score\n",
        "\n",
        "validation = model.predict(np_image_list_validation)\n",
        "\n",
        "predicted_labels = []\n",
        "correct_labels = []\n",
        "for i in range (len(validation)):\n",
        "  predicted_labels.append(np.argmax(validation[i]))\n",
        "\n",
        "for i in range (len(image_labels_validation)):\n",
        "  correct_labels.append(np.argmax(image_labels_validation[i]))\n",
        "\n",
        "\n",
        "confusion_matrix = confusion_matrix(correct_labels, predicted_labels)\n",
        "disp = ConfusionMatrixDisplay(confusion_matrix=confusion_matrix)  \n",
        "disp.plot()\n",
        "plt.show()\n",
        "print('--------')\n",
        "FP = confusion_matrix.sum(axis=0) - np.diag(confusion_matrix)  \n",
        "FN = confusion_matrix.sum(axis=1) - np.diag(confusion_matrix)\n",
        "TP = np.diag(confusion_matrix)\n",
        "TN = confusion_matrix.sum() - (FP + FN + TP)\n",
        "\n",
        "# Sensitivity, hit rate, recall, or true positive rate\n",
        "TPR = TP/(TP+FN)\n",
        "# Specificity or true negative rate\n",
        "TNR = TN/(TN+FP) \n",
        "# Overall accuracy\n",
        "ACC = (TP+TN)/(TP+FP+FN+TN)\n",
        "\n",
        "print(TP)\n",
        "print(TN)\n",
        "print(FP)\n",
        "print(FN)\n",
        "print('--------')\n",
        "print(ACC)\n",
        "print(TPR)\n",
        "print(TNR)\n",
        "print('--------')\n",
        "\n",
        "TP = sum(TP)\n",
        "TN = sum(TN)\n",
        "FP = sum(FP)\n",
        "FN = sum(FN)\n",
        "\n",
        "# Sensitivity, hit rate, recall, or true positive rate\n",
        "TPR = TP/(TP+FN)\n",
        "# Specificity or true negative rate\n",
        "TNR = TN/(TN+FP) \n",
        "# Overall accuracy\n",
        "ACC = (TP+TN)/(TP+FP+FN+TN)\n",
        "\n",
        "print(TP)\n",
        "print(TN)\n",
        "print(FP)\n",
        "print(FN)\n",
        "print('--------')\n",
        "print(ACC)\n",
        "print(TPR)\n",
        "print(TNR)\n"
      ],
      "metadata": {
        "colab": {
          "base_uri": "https://localhost:8080/",
          "height": 591
        },
        "id": "z9NBaYvZ61d7",
        "outputId": "4f6c2372-d140-440c-934f-da829f2ce927"
      },
      "execution_count": 13,
      "outputs": [
        {
          "output_type": "display_data",
          "data": {
            "image/png": "[encoded data removed]",
            "text/plain": [
              "<Figure size 432x288 with 2 Axes>"
            ]
          },
          "metadata": {
            "needs_background": "light"
          }
        },
        {
          "output_type": "stream",
          "name": "stdout",
          "text": [
            "--------\n",
            "[ 99  99  43 263]\n",
            "[406 406 463 243]\n",
            "[0 2 0 1]\n",
            "[2 0 1 0]\n",
            "--------\n",
            "[0.99605523 0.99605523 0.99802761 0.99802761]\n",
            "[0.98019802 1.         0.97727273 1.        ]\n",
            "[1.         0.99509804 1.         0.99590164]\n",
            "--------\n",
            "504\n",
            "1518\n",
            "3\n",
            "3\n",
            "--------\n",
            "0.9970414201183432\n",
            "0.9940828402366864\n",
            "0.9980276134122288\n"
          ]
        }
      ]
    },
    {
      "cell_type": "markdown",
      "source": [
        "**Testing** Network"
      ],
      "metadata": {
        "id": "saJYjKqX9tRL"
      }
    },
    {
      "cell_type": "code",
      "source": [
        "import matplotlib.pyplot as plt\n",
        "from sklearn.datasets import make_classification\n",
        "from numpy import mean\n",
        "from sklearn.metrics import confusion_matrix, ConfusionMatrixDisplay, accuracy_score, classification_report, recall_score\n",
        "\n",
        "test = model.predict(np_image_list_test)\n",
        "\n",
        "predicted_labels = []\n",
        "correct_labels = []\n",
        "for i in range (len(test)):\n",
        "  predicted_labels.append(np.argmax(test[i]))\n",
        "\n",
        "for i in range (len(image_labels_test)):\n",
        "  correct_labels.append(np.argmax(image_labels_test[i]))\n",
        "\n",
        "\n",
        "confusion_matrix = confusion_matrix(correct_labels, predicted_labels)\n",
        "disp = ConfusionMatrixDisplay(confusion_matrix=confusion_matrix)  \n",
        "disp.plot()\n",
        "plt.show()\n",
        "print('--------')\n",
        "FP = confusion_matrix.sum(axis=0) - np.diag(confusion_matrix)  \n",
        "FN = confusion_matrix.sum(axis=1) - np.diag(confusion_matrix)\n",
        "TP = np.diag(confusion_matrix)\n",
        "TN = confusion_matrix.sum() - (FP + FN + TP)\n",
        "\n",
        "# Sensitivity, hit rate, recall, or true positive rate\n",
        "TPR = TP/(TP+FN)\n",
        "# Specificity or true negative rate\n",
        "TNR = TN/(TN+FP) \n",
        "# Overall accuracy\n",
        "ACC = (TP+TN)/(TP+FP+FN+TN)\n",
        "\n",
        "print(TP)\n",
        "print(TN)\n",
        "print(FP)\n",
        "print(FN)\n",
        "print('--------')\n",
        "print(ACC)\n",
        "print(TPR)\n",
        "print(TNR)\n",
        "print('--------')\n",
        "\n",
        "TP = sum(TP)\n",
        "TN = sum(TN)\n",
        "FP = sum(FP)\n",
        "FN = sum(FN)\n",
        "\n",
        "# Sensitivity, hit rate, recall, or true positive rate\n",
        "TPR = TP/(TP+FN)\n",
        "# Specificity or true negative rate\n",
        "TNR = TN/(TN+FP) \n",
        "# Overall accuracy\n",
        "ACC = (TP+TN)/(TP+FP+FN+TN)\n",
        "\n",
        "print(TP)\n",
        "print(TN)\n",
        "print(FP)\n",
        "print(FN)\n",
        "print('--------')\n",
        "print(ACC)\n",
        "print(TPR)\n",
        "print(TNR)"
      ],
      "metadata": {
        "colab": {
          "base_uri": "https://localhost:8080/",
          "height": 591
        },
        "id": "3a1AYdsF4FoY",
        "outputId": "338cb6a1-1fce-4cfb-c3ed-96f0f9df0333"
      },
      "execution_count": 14,
      "outputs": [
        {
          "output_type": "display_data",
          "data": {
            "image/png": "[encoded data removed]",
            "text/plain": [
              "<Figure size 432x288 with 2 Axes>"
            ]
          },
          "metadata": {
            "needs_background": "light"
          }
        },
        {
          "output_type": "stream",
          "name": "stdout",
          "text": [
            "--------\n",
            "[118 124  55 327]\n",
            "[506 508 579 299]\n",
            "[2 2 0 6]\n",
            "[8 0 0 2]\n",
            "--------\n",
            "[0.98422713 0.99684543 1.         0.9873817 ]\n",
            "[0.93650794 1.         1.         0.99392097]\n",
            "[0.99606299 0.99607843 1.         0.98032787]\n",
            "--------\n",
            "624\n",
            "1892\n",
            "10\n",
            "10\n",
            "--------\n",
            "0.9921135646687698\n",
            "0.9842271293375394\n",
            "0.9947423764458465\n"
          ]
        }
      ]
    },
    {
      "cell_type": "code",
      "metadata": {
        "id": "AKd6Tu7mzmg2"
      },
      "source": [
        "# save the model to disk\n",
        "#print(\"[INFO] Saving model...\")\n",
        "# pickle.dump(model,open('cnn_model.pkl', 'wb'))\n",
        "model.save('/content/fold4.h5')    "
      ],
      "execution_count": 15,
      "outputs": []
    },
    {
      "cell_type": "code",
      "metadata": {
        "id": "O6iIKa7Jzmg7"
      },
      "source": [
        "#test_img = cv2.imread('/content/datasets/Apple/Apple___Black_rot/0139bc6d-391c-4fd1-bcae-cc74dabfddd7___JR_FrgE.S 2734.JPG')\n",
        "\n",
        "#plt.imshow(test_img)\n",
        "#test_img = test_img / 255\n",
        "#test_img = np.expand_dims(test_img, axis=0)\n",
        "#pr=model.predict(test_img)\n",
        "\n",
        "#print(pr)\n",
        "#output = label_binarizer.inverse_transform(pr)\n",
        "#print(output)\n"
      ],
      "execution_count": 16,
      "outputs": []
    }
  ]
}