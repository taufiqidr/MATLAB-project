{
  "nbformat": 4,
  "nbformat_minor": 0,
  "metadata": {
    "accelerator": "GPU",
    "colab": {
      "name": "Kodingan Skripsi 3",
      "provenance": [],
      "collapsed_sections": [],
      "include_colab_link": true
    },
    "kernelspec": {
      "display_name": "Python 3",
      "language": "python",
      "name": "python3"
    },
    "language_info": {
      "codemirror_mode": {
        "name": "ipython",
        "version": 3
      },
      "file_extension": ".py",
      "mimetype": "text/x-python",
      "name": "python",
      "nbconvert_exporter": "python",
      "pygments_lexer": "ipython3",
      "version": "3.6.6"
    }
  },
  "cells": [
    {
      "cell_type": "markdown",
      "metadata": {
        "id": "view-in-github",
        "colab_type": "text"
      },
      "source": [
        "<a href=\"https://colab.research.google.com/github/TaufiqIdrus/MATLAB-project/blob/master/Iterasi%201.ipynb\" target=\"_parent\"><img src=\"https://colab.research.google.com/assets/colab-badge.svg\" alt=\"Open In Colab\"/></a>"
      ]
    },
    {
      "cell_type": "markdown",
      "metadata": {
        "id": "yJT_kQA2lITS"
      },
      "source": [
        "**Identifikasi Penyakit Pada Tanaman Apel menggunakan Convolutional Neural Network**"
      ]
    },
    {
      "cell_type": "code",
      "metadata": {
        "id": "xXeOaYTUzmgT"
      },
      "source": [
        "import numpy as np\n",
        "import pickle\n",
        "import os\n",
        "import cv2\n",
        "import tensorflow as tf\n",
        "import keras\n",
        "from os import listdir\n",
        "from sklearn.preprocessing import LabelBinarizer\n",
        "from sklearn.model_selection import KFold\n",
        "from keras.models import Sequential\n",
        "from keras.layers.normalization import batch_normalization\n",
        "from keras.layers.convolutional import Conv2D\n",
        "from keras.layers.convolutional import MaxPooling2D\n",
        "from keras.layers.core import Activation, Flatten, Dropout, Dense\n",
        "from keras import backend as K\n",
        "from tensorflow.keras.optimizers import Adam\n",
        "from keras.preprocessing import image\n",
        "from sklearn.preprocessing import MultiLabelBinarizer\n",
        "from sklearn.model_selection import train_test_split\n",
        "import matplotlib.pyplot as plt\n",
        "from sklearn.datasets import make_classification\n",
        "from numpy import mean\n",
        "from sklearn.metrics import confusion_matrix, ConfusionMatrixDisplay, accuracy_score, classification_report, recall_score\n"
      ],
      "execution_count": 1,
      "outputs": []
    },
    {
      "cell_type": "markdown",
      "metadata": {
        "id": "fp8C0d28lQok"
      },
      "source": [
        "Importing and Preparing Dataset"
      ]
    },
    {
      "cell_type": "code",
      "metadata": {
        "id": "_0xehllADlUs",
        "colab": {
          "base_uri": "https://localhost:8080/"
        },
        "outputId": "9d335064-2989-4845-a667-975a8c95071f"
      },
      "source": [
        "!pip install pyunpack\n",
        "!pip install patool\n",
        "from pyunpack import Archive\n",
        "Archive('/content/Fold 2.rar').extractall('/content/Datasets/')\n",
        "iterasi = 2\n",
        "width=256\n",
        "height=256\n",
        "default_image_size = tuple((height, width))\n",
        "directory_root_train = '/content/Datasets/Fold 2/Train'\n",
        "directory_root_validation = '/content/Datasets/Fold 2/Validation'\n",
        "directory_root_test = '/content/Datasets/Fold 2/Test'\n",
        "image_size = 0\n",
        "depth=3"
      ],
      "execution_count": 3,
      "outputs": [
        {
          "output_type": "stream",
          "name": "stdout",
          "text": [
            "Collecting pyunpack\n",
            "  Downloading pyunpack-0.2.2-py2.py3-none-any.whl (3.8 kB)\n",
            "Collecting entrypoint2\n",
            "  Downloading entrypoint2-1.0-py3-none-any.whl (9.8 kB)\n",
            "Collecting easyprocess\n",
            "  Downloading EasyProcess-1.1-py3-none-any.whl (8.7 kB)\n",
            "Installing collected packages: entrypoint2, easyprocess, pyunpack\n",
            "Successfully installed easyprocess-1.1 entrypoint2-1.0 pyunpack-0.2.2\n",
            "Collecting patool\n",
            "  Downloading patool-1.12-py2.py3-none-any.whl (77 kB)\n",
            "\u001b[K     |████████████████████████████████| 77 kB 5.1 MB/s \n",
            "\u001b[?25hInstalling collected packages: patool\n",
            "Successfully installed patool-1.12\n"
          ]
        }
      ]
    },
    {
      "cell_type": "code",
      "metadata": {
        "id": "KbAwJJTpzmge"
      },
      "source": [
        "def convert_image_to_array(image_dir):\n",
        "    try:\n",
        "        image = cv2.imread(image_dir)\n",
        "        if image is not None :\n",
        "            image = cv2.resize(image, default_image_size)   \n",
        "            return keras.preprocessing.image.img_to_array(image)\n",
        "        else :\n",
        "            return np.array([])\n",
        "    except Exception as e:\n",
        "        print(f\"Error : {e}\")\n",
        "        return None"
      ],
      "execution_count": 4,
      "outputs": []
    },
    {
      "cell_type": "markdown",
      "source": [
        "Converting **Training** Data to Array"
      ],
      "metadata": {
        "id": "bgXxUMO2cI_D"
      }
    },
    {
      "cell_type": "code",
      "metadata": {
        "id": "Erz6IjKXzmgg",
        "colab": {
          "base_uri": "https://localhost:8080/"
        },
        "outputId": "b3c04728-53ba-46a0-e26a-2c35729387e2"
      },
      "source": [
        "image_list_train, label_list_train = [], []\n",
        "try:\n",
        "    print(\"[INFO] Loading images ...\")\n",
        "    root_dir = listdir(directory_root_train)\n",
        "\n",
        "    for plant_disease_folder in root_dir:\n",
        "        print(f\"[INFO] Processing {plant_disease_folder} ...\")\n",
        "        plant_disease_image_list = listdir(f\"{directory_root_train}/{plant_disease_folder}/\")\n",
        "      \n",
        "        for image in plant_disease_image_list:\n",
        "            image_directory = f\"{directory_root_train}/{plant_disease_folder}/{image}\"\n",
        "\n",
        "            if image_directory.endswith(\".jpg\") == True or image_directory.endswith(\".JPG\") == True:\n",
        "                image_list_train.append(convert_image_to_array(image_directory))\n",
        "                label_list_train.append(plant_disease_folder)\n",
        "    print(\"[INFO] Image loading completed\")\n",
        "\n",
        "except Exception as e:\n",
        "    print(f\"Error : {e}\")\n",
        "\n",
        "#image labeling\n",
        "image_size = len(image_list_train)\n",
        "label_binarizer = LabelBinarizer()\n",
        "image_labels_train = label_binarizer.fit_transform(label_list_train)\n",
        "pickle.dump(label_binarizer,open('label_transform_train.pkl', 'wb'))\n",
        "n_classes = len(label_binarizer.classes_)\n",
        "np_image_list_train = np.array(image_list_train, dtype=np.float16) / 255.0"
      ],
      "execution_count": 5,
      "outputs": [
        {
          "output_type": "stream",
          "name": "stdout",
          "text": [
            "[INFO] Loading images ...\n",
            "[INFO] Processing Apple___Black_rot ...\n",
            "[INFO] Processing Apple___Apple_scab ...\n",
            "[INFO] Processing Apple___healthy ...\n",
            "[INFO] Processing Apple___Cedar_apple_rust ...\n",
            "[INFO] Image loading completed\n"
          ]
        }
      ]
    },
    {
      "cell_type": "markdown",
      "source": [
        "Converting **Validation** Data to Array"
      ],
      "metadata": {
        "id": "7eEMGiqRd_E4"
      }
    },
    {
      "cell_type": "code",
      "source": [
        "image_list_validation, label_list_validation = [], []\n",
        "try:\n",
        "    print(\"[INFO] Loading images ...\")\n",
        "    root_dir = listdir(directory_root_validation)\n",
        "\n",
        "    for plant_disease_folder in root_dir:\n",
        "        print(f\"[INFO] Processing {plant_disease_folder} ...\")\n",
        "        plant_disease_image_list = listdir(f\"{directory_root_validation}/{plant_disease_folder}/\")\n",
        "      \n",
        "        for image in plant_disease_image_list:\n",
        "            image_directory = f\"{directory_root_validation}/{plant_disease_folder}/{image}\"\n",
        "\n",
        "            if image_directory.endswith(\".jpg\") == True or image_directory.endswith(\".JPG\") == True:\n",
        "                image_list_validation.append(convert_image_to_array(image_directory))\n",
        "                label_list_validation.append(plant_disease_folder)\n",
        "    print(\"[INFO] Image loading completed\")\n",
        "\n",
        "except Exception as e:\n",
        "    print(f\"Error : {e}\")\n",
        "\n",
        "#image labeling\n",
        "image_size = len(image_list_validation)\n",
        "label_binarizer = LabelBinarizer()\n",
        "image_labels_validation = label_binarizer.fit_transform(label_list_validation)\n",
        "pickle.dump(label_binarizer,open('label_transform_validation.pkl', 'wb'))\n",
        "n_classes = len(label_binarizer.classes_)\n",
        "np_image_list_validation = np.array(image_list_validation, dtype=np.float16) / 255.0"
      ],
      "metadata": {
        "id": "wfHDdR0ZeEuU",
        "colab": {
          "base_uri": "https://localhost:8080/"
        },
        "outputId": "285815dd-90da-4fe1-f5db-e4dc0760f6e9"
      },
      "execution_count": 6,
      "outputs": [
        {
          "output_type": "stream",
          "name": "stdout",
          "text": [
            "[INFO] Loading images ...\n",
            "[INFO] Processing Apple___Black_rot ...\n",
            "[INFO] Processing Apple___Apple_scab ...\n",
            "[INFO] Processing Apple___healthy ...\n",
            "[INFO] Processing Apple___Cedar_apple_rust ...\n",
            "[INFO] Image loading completed\n"
          ]
        }
      ]
    },
    {
      "cell_type": "markdown",
      "source": [
        "Converting **Testing** Data to Array"
      ],
      "metadata": {
        "id": "brwWyZVncTdg"
      }
    },
    {
      "cell_type": "code",
      "metadata": {
        "id": "uNPby5UMcaWY",
        "colab": {
          "base_uri": "https://localhost:8080/"
        },
        "outputId": "d7d865d8-f10e-437d-e2ed-d511e9b6cc53"
      },
      "source": [
        "image_list_test, label_list_test = [], []\n",
        "try:\n",
        "    print(\"[INFO] Loading images ...\")\n",
        "    root_dir = listdir(directory_root_test)\n",
        "\n",
        "    for plant_disease_folder in root_dir:\n",
        "        print(f\"[INFO] Processing {plant_disease_folder} ...\")\n",
        "        plant_disease_image_list = listdir(f\"{directory_root_test}/{plant_disease_folder}/\")\n",
        "      \n",
        "        for image in plant_disease_image_list:\n",
        "            image_directory = f\"{directory_root_test}/{plant_disease_folder}/{image}\"\n",
        "\n",
        "            if image_directory.endswith(\".jpg\") == True or image_directory.endswith(\".JPG\") == True:\n",
        "                image_list_test.append(convert_image_to_array(image_directory))\n",
        "                label_list_test.append(plant_disease_folder)\n",
        "    print(\"[INFO] Image loading completed\")\n",
        "\n",
        "except Exception as e:\n",
        "    print(f\"Error : {e}\")\n",
        "\n",
        "#image labeling\n",
        "image_size = len(image_list_test)\n",
        "label_binarizer = LabelBinarizer()\n",
        "image_labels_test = label_binarizer.fit_transform(label_list_test)\n",
        "pickle.dump(label_binarizer,open('label_transform_test.pkl', 'wb'))\n",
        "n_classes = len(label_binarizer.classes_)\n",
        "np_image_list_test = np.array(image_list_test, dtype=np.float16) / 255.0"
      ],
      "execution_count": 7,
      "outputs": [
        {
          "output_type": "stream",
          "name": "stdout",
          "text": [
            "[INFO] Loading images ...\n",
            "[INFO] Processing Apple___Black_rot ...\n",
            "[INFO] Processing Apple___Apple_scab ...\n",
            "[INFO] Processing Apple___healthy ...\n",
            "[INFO] Processing Apple___Cedar_apple_rust ...\n",
            "[INFO] Image loading completed\n"
          ]
        }
      ]
    },
    {
      "cell_type": "markdown",
      "metadata": {
        "id": "jYBTFN0CnAi7"
      },
      "source": [
        "Data Augmenting Initialization"
      ]
    },
    {
      "cell_type": "code",
      "metadata": {
        "id": "TLMxMK2Tzmgr"
      },
      "source": [
        "aug = keras.preprocessing.image.ImageDataGenerator(\n",
        "    rotation_range=25, \n",
        "    width_shift_range=0.1,\n",
        "    height_shift_range=0.1, \n",
        "    shear_range=0.2, \n",
        "    zoom_range=0.2,\n",
        "    horizontal_flip=True, \n",
        "    fill_mode=\"nearest\")"
      ],
      "execution_count": 8,
      "outputs": []
    },
    {
      "cell_type": "markdown",
      "metadata": {
        "id": "H1BfRyYNnGv_"
      },
      "source": [
        "Creating CNN Model"
      ]
    },
    {
      "cell_type": "code",
      "metadata": {
        "id": "WmLX4wm8zmgs"
      },
      "source": [
        "model = keras.models.Sequential()\n",
        "inputShape = (height, width, depth)\n",
        "\n",
        "model.add(Conv2D(32, (3, 3), padding=\"same\",input_shape=inputShape))\n",
        "model.add(Activation(\"relu\"))\n",
        "\n",
        "model.add(MaxPooling2D(pool_size=(3, 3)))\n",
        "\n",
        "model.add(Conv2D(64, (3, 3), padding=\"same\"))\n",
        "model.add(Activation(\"relu\"))\n",
        "\n",
        "model.add(MaxPooling2D(pool_size=(3, 3)))\n",
        "\n",
        "model.add(Conv2D(128, (3, 3), padding=\"same\"))\n",
        "model.add(Activation(\"relu\"))\n",
        "\n",
        "model.add(MaxPooling2D(pool_size=(2, 2)))\n",
        "\n",
        "model.add(Conv2D(256, (3, 3), padding=\"same\"))\n",
        "model.add(Activation(\"relu\"))\n",
        "\n",
        "model.add(MaxPooling2D(pool_size=(2, 2)))\n",
        "\n",
        "model.add(Flatten())\n",
        "\n",
        "model.add(Dense(1024))\n",
        "model.add(Activation(\"relu\"))\n",
        "\n",
        "model.add(Dense(n_classes))\n",
        "model.add(Activation(\"softmax\"))"
      ],
      "execution_count": 9,
      "outputs": []
    },
    {
      "cell_type": "code",
      "source": [
        "#callback = tf.keras.callbacks.EarlyStopping(monitor='loss', patience=3)"
      ],
      "metadata": {
        "id": "9Dv-xrGBgeRq"
      },
      "execution_count": 10,
      "outputs": []
    },
    {
      "cell_type": "markdown",
      "metadata": {
        "id": "Zfsu3lVfnXFG"
      },
      "source": [
        "**Training** Network"
      ]
    },
    {
      "cell_type": "code",
      "metadata": {
        "id": "rvwKwe3Lzmgv",
        "colab": {
          "base_uri": "https://localhost:8080/"
        },
        "outputId": "cf0ecdc5-5660-40ab-fc5d-9fb8395989b6"
      },
      "source": [
        "EPOCHS = 50\n",
        "INIT_LR = 1e-3\n",
        "BS = 32\n",
        "\n",
        "with tf.device('/GPU:0'):\n",
        "  opt = Adam(learning_rate=INIT_LR, decay=INIT_LR / EPOCHS)\n",
        "  model.compile(loss=\"binary_crossentropy\", optimizer=opt,metrics=[\"Accuracy\", \"FalseNegatives\", \"FalsePositives\", \"TrueNegatives\", \"TruePositives\"])\n",
        "  \n",
        "  history = model.fit(\n",
        "      aug.flow(np_image_list_train, image_labels_train, batch_size=BS),\n",
        "      validation_data=(np_image_list_validation, image_labels_validation),\n",
        "      steps_per_epoch=len(np_image_list_train) // BS,\n",
        "      epochs=EPOCHS, \n",
        "      verbose=1,\n",
        "      )\n"
      ],
      "execution_count": 11,
      "outputs": [
        {
          "output_type": "stream",
          "name": "stdout",
          "text": [
            "Epoch 1/50\n",
            "63/63 [==============================] - 41s 429ms/step - loss: 0.4766 - Accuracy: 0.5513 - false_negatives: 1130.0000 - false_positives: 638.0000 - true_negatives: 5353.0000 - true_positives: 867.0000 - val_loss: 0.3640 - val_Accuracy: 0.7002 - val_false_negatives: 157.0000 - val_false_positives: 133.0000 - val_true_negatives: 1388.0000 - val_true_positives: 350.0000\n",
            "Epoch 2/50\n",
            "63/63 [==============================] - 25s 402ms/step - loss: 0.3012 - Accuracy: 0.7431 - false_negatives: 582.0000 - false_positives: 400.0000 - true_negatives: 5591.0000 - true_positives: 1415.0000 - val_loss: 0.2396 - val_Accuracy: 0.8481 - val_false_negatives: 97.0000 - val_false_positives: 62.0000 - val_true_negatives: 1459.0000 - val_true_positives: 410.0000\n",
            "Epoch 3/50\n",
            "63/63 [==============================] - 25s 401ms/step - loss: 0.2085 - Accuracy: 0.8332 - false_negatives: 367.0000 - false_positives: 295.0000 - true_negatives: 5696.0000 - true_positives: 1630.0000 - val_loss: 0.1760 - val_Accuracy: 0.8836 - val_false_negatives: 61.0000 - val_false_positives: 58.0000 - val_true_negatives: 1463.0000 - val_true_positives: 446.0000\n",
            "Epoch 4/50\n",
            "63/63 [==============================] - 26s 407ms/step - loss: 0.1777 - Accuracy: 0.8583 - false_negatives: 314.0000 - false_positives: 254.0000 - true_negatives: 5737.0000 - true_positives: 1683.0000 - val_loss: 0.1367 - val_Accuracy: 0.9014 - val_false_negatives: 50.0000 - val_false_positives: 47.0000 - val_true_negatives: 1474.0000 - val_true_positives: 457.0000\n",
            "Epoch 5/50\n",
            "63/63 [==============================] - 26s 414ms/step - loss: 0.1455 - Accuracy: 0.8868 - false_negatives: 238.0000 - false_positives: 209.0000 - true_negatives: 5782.0000 - true_positives: 1759.0000 - val_loss: 0.1843 - val_Accuracy: 0.8777 - val_false_negatives: 63.0000 - val_false_positives: 61.0000 - val_true_negatives: 1460.0000 - val_true_positives: 444.0000\n",
            "Epoch 6/50\n",
            "63/63 [==============================] - 26s 415ms/step - loss: 0.1167 - Accuracy: 0.9089 - false_negatives: 186.0000 - false_positives: 174.0000 - true_negatives: 5817.0000 - true_positives: 1811.0000 - val_loss: 0.0991 - val_Accuracy: 0.9231 - val_false_negatives: 44.0000 - val_false_positives: 38.0000 - val_true_negatives: 1483.0000 - val_true_positives: 463.0000\n",
            "Epoch 7/50\n",
            "63/63 [==============================] - 26s 409ms/step - loss: 0.1184 - Accuracy: 0.9049 - false_negatives: 197.0000 - false_positives: 176.0000 - true_negatives: 5815.0000 - true_positives: 1800.0000 - val_loss: 0.1071 - val_Accuracy: 0.9250 - val_false_negatives: 38.0000 - val_false_positives: 36.0000 - val_true_negatives: 1485.0000 - val_true_positives: 469.0000\n",
            "Epoch 8/50\n",
            "63/63 [==============================] - 26s 405ms/step - loss: 0.1443 - Accuracy: 0.8903 - false_negatives: 231.0000 - false_positives: 203.0000 - true_negatives: 5788.0000 - true_positives: 1766.0000 - val_loss: 0.2002 - val_Accuracy: 0.8442 - val_false_negatives: 80.0000 - val_false_positives: 75.0000 - val_true_negatives: 1446.0000 - val_true_positives: 427.0000\n",
            "Epoch 9/50\n",
            "63/63 [==============================] - 25s 404ms/step - loss: 0.0962 - Accuracy: 0.9264 - false_negatives: 153.0000 - false_positives: 143.0000 - true_negatives: 5848.0000 - true_positives: 1844.0000 - val_loss: 0.2043 - val_Accuracy: 0.8639 - val_false_negatives: 70.0000 - val_false_positives: 66.0000 - val_true_negatives: 1455.0000 - val_true_positives: 437.0000\n",
            "Epoch 10/50\n",
            "63/63 [==============================] - 26s 404ms/step - loss: 0.0824 - Accuracy: 0.9419 - false_negatives: 123.0000 - false_positives: 111.0000 - true_negatives: 5880.0000 - true_positives: 1874.0000 - val_loss: 0.1162 - val_Accuracy: 0.9191 - val_false_negatives: 42.0000 - val_false_positives: 40.0000 - val_true_negatives: 1481.0000 - val_true_positives: 465.0000\n",
            "Epoch 11/50\n",
            "63/63 [==============================] - 25s 402ms/step - loss: 0.0806 - Accuracy: 0.9359 - false_negatives: 133.0000 - false_positives: 121.0000 - true_negatives: 5870.0000 - true_positives: 1864.0000 - val_loss: 0.1293 - val_Accuracy: 0.8895 - val_false_negatives: 58.0000 - val_false_positives: 50.0000 - val_true_negatives: 1471.0000 - val_true_positives: 449.0000\n",
            "Epoch 12/50\n",
            "63/63 [==============================] - 26s 408ms/step - loss: 0.0804 - Accuracy: 0.9379 - false_negatives: 125.0000 - false_positives: 122.0000 - true_negatives: 5869.0000 - true_positives: 1872.0000 - val_loss: 0.0673 - val_Accuracy: 0.9546 - val_false_negatives: 23.0000 - val_false_positives: 23.0000 - val_true_negatives: 1498.0000 - val_true_positives: 484.0000\n",
            "Epoch 13/50\n",
            "63/63 [==============================] - 26s 408ms/step - loss: 0.0655 - Accuracy: 0.9474 - false_negatives: 109.0000 - false_positives: 103.0000 - true_negatives: 5888.0000 - true_positives: 1888.0000 - val_loss: 0.0813 - val_Accuracy: 0.9428 - val_false_negatives: 30.0000 - val_false_positives: 28.0000 - val_true_negatives: 1493.0000 - val_true_positives: 477.0000\n",
            "Epoch 14/50\n",
            "63/63 [==============================] - 26s 420ms/step - loss: 0.0541 - Accuracy: 0.9574 - false_negatives: 86.0000 - false_positives: 83.0000 - true_negatives: 5908.0000 - true_positives: 1911.0000 - val_loss: 0.0631 - val_Accuracy: 0.9527 - val_false_negatives: 25.0000 - val_false_positives: 24.0000 - val_true_negatives: 1497.0000 - val_true_positives: 482.0000\n",
            "Epoch 15/50\n",
            "63/63 [==============================] - 27s 420ms/step - loss: 0.0586 - Accuracy: 0.9539 - false_negatives: 94.0000 - false_positives: 88.0000 - true_negatives: 5903.0000 - true_positives: 1903.0000 - val_loss: 0.0684 - val_Accuracy: 0.9467 - val_false_negatives: 27.0000 - val_false_positives: 27.0000 - val_true_negatives: 1494.0000 - val_true_positives: 480.0000\n",
            "Epoch 16/50\n",
            "63/63 [==============================] - 26s 413ms/step - loss: 0.0498 - Accuracy: 0.9629 - false_negatives: 76.0000 - false_positives: 74.0000 - true_negatives: 5917.0000 - true_positives: 1921.0000 - val_loss: 0.0647 - val_Accuracy: 0.9527 - val_false_negatives: 24.0000 - val_false_positives: 23.0000 - val_true_negatives: 1498.0000 - val_true_positives: 483.0000\n",
            "Epoch 17/50\n",
            "63/63 [==============================] - 26s 415ms/step - loss: 0.0671 - Accuracy: 0.9509 - false_negatives: 100.0000 - false_positives: 92.0000 - true_negatives: 5899.0000 - true_positives: 1897.0000 - val_loss: 0.0665 - val_Accuracy: 0.9428 - val_false_negatives: 30.0000 - val_false_positives: 28.0000 - val_true_negatives: 1493.0000 - val_true_positives: 477.0000\n",
            "Epoch 18/50\n",
            "63/63 [==============================] - 26s 415ms/step - loss: 0.0511 - Accuracy: 0.9634 - false_negatives: 77.0000 - false_positives: 70.0000 - true_negatives: 5921.0000 - true_positives: 1920.0000 - val_loss: 0.0776 - val_Accuracy: 0.9329 - val_false_negatives: 35.0000 - val_false_positives: 33.0000 - val_true_negatives: 1488.0000 - val_true_positives: 472.0000\n",
            "Epoch 19/50\n",
            "63/63 [==============================] - 26s 418ms/step - loss: 0.0373 - Accuracy: 0.9730 - false_negatives: 54.0000 - false_positives: 53.0000 - true_negatives: 5938.0000 - true_positives: 1943.0000 - val_loss: 0.0303 - val_Accuracy: 0.9783 - val_false_negatives: 11.0000 - val_false_positives: 11.0000 - val_true_negatives: 1510.0000 - val_true_positives: 496.0000\n",
            "Epoch 20/50\n",
            "63/63 [==============================] - 26s 408ms/step - loss: 0.0847 - Accuracy: 0.9419 - false_negatives: 120.0000 - false_positives: 113.0000 - true_negatives: 5878.0000 - true_positives: 1877.0000 - val_loss: 0.0966 - val_Accuracy: 0.9290 - val_false_negatives: 39.0000 - val_false_positives: 35.0000 - val_true_negatives: 1486.0000 - val_true_positives: 468.0000\n",
            "Epoch 21/50\n",
            "63/63 [==============================] - 26s 410ms/step - loss: 0.0596 - Accuracy: 0.9524 - false_negatives: 95.0000 - false_positives: 92.0000 - true_negatives: 5899.0000 - true_positives: 1902.0000 - val_loss: 0.0352 - val_Accuracy: 0.9684 - val_false_negatives: 16.0000 - val_false_positives: 16.0000 - val_true_negatives: 1505.0000 - val_true_positives: 491.0000\n",
            "Epoch 22/50\n",
            "63/63 [==============================] - 26s 413ms/step - loss: 0.0505 - Accuracy: 0.9649 - false_negatives: 73.0000 - false_positives: 68.0000 - true_negatives: 5923.0000 - true_positives: 1924.0000 - val_loss: 0.0294 - val_Accuracy: 0.9803 - val_false_negatives: 10.0000 - val_false_positives: 10.0000 - val_true_negatives: 1511.0000 - val_true_positives: 497.0000\n",
            "Epoch 23/50\n",
            "63/63 [==============================] - 26s 409ms/step - loss: 0.0291 - Accuracy: 0.9795 - false_negatives: 42.0000 - false_positives: 41.0000 - true_negatives: 5950.0000 - true_positives: 1955.0000 - val_loss: 0.0544 - val_Accuracy: 0.9527 - val_false_negatives: 25.0000 - val_false_positives: 22.0000 - val_true_negatives: 1499.0000 - val_true_positives: 482.0000\n",
            "Epoch 24/50\n",
            "63/63 [==============================] - 26s 408ms/step - loss: 0.0212 - Accuracy: 0.9835 - false_negatives: 33.0000 - false_positives: 33.0000 - true_negatives: 5958.0000 - true_positives: 1964.0000 - val_loss: 0.1503 - val_Accuracy: 0.9152 - val_false_negatives: 43.0000 - val_false_positives: 43.0000 - val_true_negatives: 1478.0000 - val_true_positives: 464.0000\n",
            "Epoch 25/50\n",
            "63/63 [==============================] - 26s 405ms/step - loss: 0.0355 - Accuracy: 0.9720 - false_negatives: 56.0000 - false_positives: 54.0000 - true_negatives: 5937.0000 - true_positives: 1941.0000 - val_loss: 0.0361 - val_Accuracy: 0.9763 - val_false_negatives: 12.0000 - val_false_positives: 12.0000 - val_true_negatives: 1509.0000 - val_true_positives: 495.0000\n",
            "Epoch 26/50\n",
            "63/63 [==============================] - 25s 403ms/step - loss: 0.0290 - Accuracy: 0.9795 - false_negatives: 42.0000 - false_positives: 41.0000 - true_negatives: 5950.0000 - true_positives: 1955.0000 - val_loss: 0.0280 - val_Accuracy: 0.9744 - val_false_negatives: 13.0000 - val_false_positives: 13.0000 - val_true_negatives: 1508.0000 - val_true_positives: 494.0000\n",
            "Epoch 27/50\n",
            "63/63 [==============================] - 26s 407ms/step - loss: 0.0371 - Accuracy: 0.9730 - false_negatives: 54.0000 - false_positives: 54.0000 - true_negatives: 5937.0000 - true_positives: 1943.0000 - val_loss: 0.0919 - val_Accuracy: 0.9369 - val_false_negatives: 32.0000 - val_false_positives: 31.0000 - val_true_negatives: 1490.0000 - val_true_positives: 475.0000\n",
            "Epoch 28/50\n",
            "63/63 [==============================] - 25s 404ms/step - loss: 0.0309 - Accuracy: 0.9760 - false_negatives: 48.0000 - false_positives: 47.0000 - true_negatives: 5944.0000 - true_positives: 1949.0000 - val_loss: 0.0293 - val_Accuracy: 0.9783 - val_false_negatives: 11.0000 - val_false_positives: 10.0000 - val_true_negatives: 1511.0000 - val_true_positives: 496.0000\n",
            "Epoch 29/50\n",
            "63/63 [==============================] - 26s 405ms/step - loss: 0.0284 - Accuracy: 0.9800 - false_negatives: 40.0000 - false_positives: 39.0000 - true_negatives: 5952.0000 - true_positives: 1957.0000 - val_loss: 0.0250 - val_Accuracy: 0.9822 - val_false_negatives: 9.0000 - val_false_positives: 9.0000 - val_true_negatives: 1512.0000 - val_true_positives: 498.0000\n",
            "Epoch 30/50\n",
            "63/63 [==============================] - 25s 404ms/step - loss: 0.0265 - Accuracy: 0.9820 - false_negatives: 36.0000 - false_positives: 36.0000 - true_negatives: 5955.0000 - true_positives: 1961.0000 - val_loss: 0.0207 - val_Accuracy: 0.9842 - val_false_negatives: 8.0000 - val_false_positives: 7.0000 - val_true_negatives: 1514.0000 - val_true_positives: 499.0000\n",
            "Epoch 31/50\n",
            "63/63 [==============================] - 25s 401ms/step - loss: 0.0276 - Accuracy: 0.9800 - false_negatives: 41.0000 - false_positives: 40.0000 - true_negatives: 5951.0000 - true_positives: 1956.0000 - val_loss: 0.0300 - val_Accuracy: 0.9763 - val_false_negatives: 12.0000 - val_false_positives: 12.0000 - val_true_negatives: 1509.0000 - val_true_positives: 495.0000\n",
            "Epoch 32/50\n",
            "63/63 [==============================] - 25s 401ms/step - loss: 0.0360 - Accuracy: 0.9750 - false_negatives: 50.0000 - false_positives: 50.0000 - true_negatives: 5941.0000 - true_positives: 1947.0000 - val_loss: 0.0327 - val_Accuracy: 0.9744 - val_false_negatives: 13.0000 - val_false_positives: 13.0000 - val_true_negatives: 1508.0000 - val_true_positives: 494.0000\n",
            "Epoch 33/50\n",
            "63/63 [==============================] - 25s 401ms/step - loss: 0.0267 - Accuracy: 0.9815 - false_negatives: 37.0000 - false_positives: 36.0000 - true_negatives: 5955.0000 - true_positives: 1960.0000 - val_loss: 0.0359 - val_Accuracy: 0.9744 - val_false_negatives: 13.0000 - val_false_positives: 13.0000 - val_true_negatives: 1508.0000 - val_true_positives: 494.0000\n",
            "Epoch 34/50\n",
            "63/63 [==============================] - 25s 401ms/step - loss: 0.0200 - Accuracy: 0.9855 - false_negatives: 29.0000 - false_positives: 29.0000 - true_negatives: 5962.0000 - true_positives: 1968.0000 - val_loss: 0.0443 - val_Accuracy: 0.9724 - val_false_negatives: 14.0000 - val_false_positives: 14.0000 - val_true_negatives: 1507.0000 - val_true_positives: 493.0000\n",
            "Epoch 35/50\n",
            "63/63 [==============================] - 25s 403ms/step - loss: 0.0243 - Accuracy: 0.9855 - false_negatives: 29.0000 - false_positives: 29.0000 - true_negatives: 5962.0000 - true_positives: 1968.0000 - val_loss: 0.0151 - val_Accuracy: 0.9921 - val_false_negatives: 4.0000 - val_false_positives: 3.0000 - val_true_negatives: 1518.0000 - val_true_positives: 503.0000\n",
            "Epoch 36/50\n",
            "63/63 [==============================] - 25s 404ms/step - loss: 0.0166 - Accuracy: 0.9880 - false_negatives: 24.0000 - false_positives: 24.0000 - true_negatives: 5967.0000 - true_positives: 1973.0000 - val_loss: 0.0306 - val_Accuracy: 0.9842 - val_false_negatives: 8.0000 - val_false_positives: 8.0000 - val_true_negatives: 1513.0000 - val_true_positives: 499.0000\n",
            "Epoch 37/50\n",
            "63/63 [==============================] - 26s 410ms/step - loss: 0.0243 - Accuracy: 0.9835 - false_negatives: 33.0000 - false_positives: 33.0000 - true_negatives: 5958.0000 - true_positives: 1964.0000 - val_loss: 0.0451 - val_Accuracy: 0.9684 - val_false_negatives: 17.0000 - val_false_positives: 16.0000 - val_true_negatives: 1505.0000 - val_true_positives: 490.0000\n",
            "Epoch 38/50\n",
            "63/63 [==============================] - 26s 417ms/step - loss: 0.0356 - Accuracy: 0.9770 - false_negatives: 47.0000 - false_positives: 46.0000 - true_negatives: 5945.0000 - true_positives: 1950.0000 - val_loss: 0.0296 - val_Accuracy: 0.9822 - val_false_negatives: 9.0000 - val_false_positives: 9.0000 - val_true_negatives: 1512.0000 - val_true_positives: 498.0000\n",
            "Epoch 39/50\n",
            "63/63 [==============================] - 26s 407ms/step - loss: 0.0353 - Accuracy: 0.9760 - false_negatives: 48.0000 - false_positives: 48.0000 - true_negatives: 5943.0000 - true_positives: 1949.0000 - val_loss: 0.0416 - val_Accuracy: 0.9724 - val_false_negatives: 14.0000 - val_false_positives: 13.0000 - val_true_negatives: 1508.0000 - val_true_positives: 493.0000\n",
            "Epoch 40/50\n",
            "63/63 [==============================] - 26s 405ms/step - loss: 0.0214 - Accuracy: 0.9855 - false_negatives: 29.0000 - false_positives: 28.0000 - true_negatives: 5963.0000 - true_positives: 1968.0000 - val_loss: 0.0209 - val_Accuracy: 0.9822 - val_false_negatives: 9.0000 - val_false_positives: 9.0000 - val_true_negatives: 1512.0000 - val_true_positives: 498.0000\n",
            "Epoch 41/50\n",
            "63/63 [==============================] - 26s 411ms/step - loss: 0.0140 - Accuracy: 0.9905 - false_negatives: 19.0000 - false_positives: 19.0000 - true_negatives: 5972.0000 - true_positives: 1978.0000 - val_loss: 0.0319 - val_Accuracy: 0.9724 - val_false_negatives: 14.0000 - val_false_positives: 14.0000 - val_true_negatives: 1507.0000 - val_true_positives: 493.0000\n",
            "Epoch 42/50\n",
            "63/63 [==============================] - 26s 410ms/step - loss: 0.0153 - Accuracy: 0.9905 - false_negatives: 19.0000 - false_positives: 19.0000 - true_negatives: 5972.0000 - true_positives: 1978.0000 - val_loss: 0.0140 - val_Accuracy: 0.9862 - val_false_negatives: 7.0000 - val_false_positives: 7.0000 - val_true_negatives: 1514.0000 - val_true_positives: 500.0000\n",
            "Epoch 43/50\n",
            "63/63 [==============================] - 26s 406ms/step - loss: 0.0282 - Accuracy: 0.9800 - false_negatives: 41.0000 - false_positives: 40.0000 - true_negatives: 5951.0000 - true_positives: 1956.0000 - val_loss: 0.0235 - val_Accuracy: 0.9862 - val_false_negatives: 7.0000 - val_false_positives: 7.0000 - val_true_negatives: 1514.0000 - val_true_positives: 500.0000\n",
            "Epoch 44/50\n",
            "63/63 [==============================] - 25s 404ms/step - loss: 0.0251 - Accuracy: 0.9820 - false_negatives: 36.0000 - false_positives: 36.0000 - true_negatives: 5955.0000 - true_positives: 1961.0000 - val_loss: 0.0196 - val_Accuracy: 0.9862 - val_false_negatives: 7.0000 - val_false_positives: 7.0000 - val_true_negatives: 1514.0000 - val_true_positives: 500.0000\n",
            "Epoch 45/50\n",
            "63/63 [==============================] - 26s 405ms/step - loss: 0.0138 - Accuracy: 0.9890 - false_negatives: 22.0000 - false_positives: 22.0000 - true_negatives: 5969.0000 - true_positives: 1975.0000 - val_loss: 0.0109 - val_Accuracy: 0.9941 - val_false_negatives: 3.0000 - val_false_positives: 3.0000 - val_true_negatives: 1518.0000 - val_true_positives: 504.0000\n",
            "Epoch 46/50\n",
            "63/63 [==============================] - 26s 404ms/step - loss: 0.0158 - Accuracy: 0.9885 - false_negatives: 24.0000 - false_positives: 23.0000 - true_negatives: 5968.0000 - true_positives: 1973.0000 - val_loss: 0.0363 - val_Accuracy: 0.9724 - val_false_negatives: 15.0000 - val_false_positives: 13.0000 - val_true_negatives: 1508.0000 - val_true_positives: 492.0000\n",
            "Epoch 47/50\n",
            "63/63 [==============================] - 26s 408ms/step - loss: 0.0283 - Accuracy: 0.9805 - false_negatives: 40.0000 - false_positives: 39.0000 - true_negatives: 5952.0000 - true_positives: 1957.0000 - val_loss: 0.0178 - val_Accuracy: 0.9882 - val_false_negatives: 6.0000 - val_false_positives: 6.0000 - val_true_negatives: 1515.0000 - val_true_positives: 501.0000\n",
            "Epoch 48/50\n",
            "63/63 [==============================] - 26s 409ms/step - loss: 0.0071 - Accuracy: 0.9965 - false_negatives: 7.0000 - false_positives: 7.0000 - true_negatives: 5984.0000 - true_positives: 1990.0000 - val_loss: 0.0118 - val_Accuracy: 0.9921 - val_false_negatives: 4.0000 - val_false_positives: 4.0000 - val_true_negatives: 1517.0000 - val_true_positives: 503.0000\n",
            "Epoch 49/50\n",
            "63/63 [==============================] - 25s 402ms/step - loss: 0.0060 - Accuracy: 0.9950 - false_negatives: 10.0000 - false_positives: 10.0000 - true_negatives: 5981.0000 - true_positives: 1987.0000 - val_loss: 0.0077 - val_Accuracy: 0.9961 - val_false_negatives: 2.0000 - val_false_positives: 2.0000 - val_true_negatives: 1519.0000 - val_true_positives: 505.0000\n",
            "Epoch 50/50\n",
            "63/63 [==============================] - 25s 403ms/step - loss: 0.0040 - Accuracy: 0.9985 - false_negatives: 3.0000 - false_positives: 3.0000 - true_negatives: 5988.0000 - true_positives: 1994.0000 - val_loss: 0.0183 - val_Accuracy: 0.9842 - val_false_negatives: 8.0000 - val_false_positives: 8.0000 - val_true_negatives: 1513.0000 - val_true_positives: 499.0000\n"
          ]
        }
      ]
    },
    {
      "cell_type": "markdown",
      "source": [
        "Plotting Traning Result"
      ],
      "metadata": {
        "id": "XZSFG8fXqz7c"
      }
    },
    {
      "cell_type": "code",
      "source": [
        "  #plotting\n",
        "  epochs = range(1, len(history.history['loss'])+1)\n",
        "  plt.title(f\"Grafik loss training iterasi {iterasi}\")\n",
        "  plt.plot(epochs, history.history['loss'], 'r', label='Training Loss')\n",
        "  plt.plot(epochs, history.history['val_loss'], 'b', label='Validation Loss')    \n",
        "  plt.xlabel(\"Epoch\")\n",
        "  plt.ylabel(\"Loss\")\n",
        "  plt.legend()\n",
        "  plt.show()\n"
      ],
      "metadata": {
        "id": "3dXbDrJpY1NK",
        "colab": {
          "base_uri": "https://localhost:8080/",
          "height": 295
        },
        "outputId": "c49e3c87-f02c-416f-aae4-bcb47b0673f6"
      },
      "execution_count": 12,
      "outputs": [
        {
          "output_type": "display_data",
          "data": {
            "image/png": "[encoded data removed]",
            "text/plain": [
              "<Figure size 432x288 with 1 Axes>"
            ]
          },
          "metadata": {
            "needs_background": "light"
          }
        }
      ]
    },
    {
      "cell_type": "code",
      "source": [
        "  #plotting\n",
        "  epochs = range(1, len(history.history['loss'])+1)\n",
        "  plt.title(f\"Grafik Akurasi training iterasi {iterasi}\")\n",
        "  plt.plot(epochs, history.history['Accuracy'], 'r', label='Training Accuracy')\n",
        "  plt.plot(epochs, history.history['val_Accuracy'], 'b', label='Validation Accuracy')    \n",
        "  plt.xlabel(\"Epoch\")\n",
        "  plt.ylabel(\"Accuracy\")\n",
        "  plt.legend()\n",
        "  plt.show()"
      ],
      "metadata": {
        "colab": {
          "base_uri": "https://localhost:8080/",
          "height": 295
        },
        "id": "j3xigprPwlSX",
        "outputId": "e6d7dc35-e3f4-43a5-b349-91d7e22f0d70"
      },
      "execution_count": 13,
      "outputs": [
        {
          "output_type": "display_data",
          "data": {
            "image/png": "[encoded data removed]",
            "text/plain": [
              "<Figure size 432x288 with 1 Axes>"
            ]
          },
          "metadata": {
            "needs_background": "light"
          }
        }
      ]
    },
    {
      "cell_type": "markdown",
      "metadata": {
        "id": "bTgk1-sdzmgy"
      },
      "source": [
        "**Validating** Network"
      ]
    },
    {
      "cell_type": "code",
      "source": [
        "import matplotlib.pyplot as plt\n",
        "from sklearn.datasets import make_classification\n",
        "from numpy import mean\n",
        "from sklearn.metrics import confusion_matrix, ConfusionMatrixDisplay, accuracy_score, classification_report, recall_score\n",
        "\n",
        "validation = model.predict(np_image_list_validation)\n",
        "\n",
        "predicted_labels = []\n",
        "correct_labels = []\n",
        "for i in range (len(validation)):\n",
        "  predicted_labels.append(np.argmax(validation[i]))\n",
        "\n",
        "for i in range (len(image_labels_validation)):\n",
        "  correct_labels.append(np.argmax(image_labels_validation[i]))\n",
        "\n",
        "\n",
        "confusion_matrix = confusion_matrix(correct_labels, predicted_labels)\n",
        "disp = ConfusionMatrixDisplay(confusion_matrix=confusion_matrix)  \n",
        "disp.plot()\n",
        "plt.show()\n",
        "print('--------')\n",
        "FP = confusion_matrix.sum(axis=0) - np.diag(confusion_matrix)  \n",
        "FN = confusion_matrix.sum(axis=1) - np.diag(confusion_matrix)\n",
        "TP = np.diag(confusion_matrix)\n",
        "TN = confusion_matrix.sum() - (FP + FN + TP)\n",
        "\n",
        "# Sensitivity, hit rate, recall, or true positive rate\n",
        "TPR = TP/(TP+FN)\n",
        "# Specificity or true negative rate\n",
        "TNR = TN/(TN+FP) \n",
        "# Overall accuracy\n",
        "ACC = (TP+TN)/(TP+FP+FN+TN)\n",
        "\n",
        "print(TP)\n",
        "print(TN)\n",
        "print(FP)\n",
        "print(FN)\n",
        "print('--------')\n",
        "print(ACC)\n",
        "print(TPR)\n",
        "print(TNR)\n",
        "print('--------')\n",
        "\n",
        "TP = sum(TP)\n",
        "TN = sum(TN)\n",
        "FP = sum(FP)\n",
        "FN = sum(FN)\n",
        "\n",
        "# Sensitivity, hit rate, recall, or true positive rate\n",
        "TPR = TP/(TP+FN)\n",
        "# Specificity or true negative rate\n",
        "TNR = TN/(TN+FP) \n",
        "# Overall accuracy\n",
        "ACC = (TP+TN)/(TP+FP+FN+TN)\n",
        "\n",
        "print(TP)\n",
        "print(TN)\n",
        "print(FP)\n",
        "print(FN)\n",
        "print('--------')\n",
        "print(ACC)\n",
        "print(TPR)\n",
        "print(TNR)\n"
      ],
      "metadata": {
        "colab": {
          "base_uri": "https://localhost:8080/",
          "height": 591
        },
        "id": "z9NBaYvZ61d7",
        "outputId": "d9cb77dc-1723-4003-e125-86e91ede9863"
      },
      "execution_count": 30,
      "outputs": [
        {
          "output_type": "display_data",
          "data": {
            "image/png": "[encoded data removed]",
            "text/plain": [
              "<Figure size 432x288 with 2 Axes>"
            ]
          },
          "metadata": {
            "needs_background": "light"
          }
        },
        {
          "output_type": "stream",
          "name": "stdout",
          "text": [
            "--------\n",
            "[ 93  99  44 263]\n",
            "[406 407 463 237]\n",
            "[0 1 0 7]\n",
            "[8 0 0 0]\n",
            "--------\n",
            "[0.98422091 0.99802761 1.         0.98619329]\n",
            "[0.92079208 1.         1.         1.        ]\n",
            "[1.         0.99754902 1.         0.97131148]\n",
            "--------\n",
            "499\n",
            "1513\n",
            "8\n",
            "8\n",
            "--------\n",
            "0.9921104536489151\n",
            "0.9842209072978304\n",
            "0.9947403024326101\n"
          ]
        }
      ]
    },
    {
      "cell_type": "markdown",
      "source": [
        "**Testing** Network"
      ],
      "metadata": {
        "id": "saJYjKqX9tRL"
      }
    },
    {
      "cell_type": "code",
      "source": [
        "import matplotlib.pyplot as plt\n",
        "from sklearn.datasets import make_classification\n",
        "from numpy import mean\n",
        "from sklearn.metrics import confusion_matrix, ConfusionMatrixDisplay, accuracy_score, classification_report, recall_score\n",
        "\n",
        "test = model.predict(np_image_list_test)\n",
        "\n",
        "predicted_labels = []\n",
        "correct_labels = []\n",
        "for i in range (len(test)):\n",
        "  predicted_labels.append(np.argmax(test[i]))\n",
        "\n",
        "for i in range (len(image_labels_test)):\n",
        "  correct_labels.append(np.argmax(image_labels_test[i]))\n",
        "\n",
        "\n",
        "confusion_matrix = confusion_matrix(correct_labels, predicted_labels)\n",
        "disp = ConfusionMatrixDisplay(confusion_matrix=confusion_matrix)  \n",
        "disp.plot()\n",
        "plt.show()\n",
        "print('--------')\n",
        "FP = confusion_matrix.sum(axis=0) - np.diag(confusion_matrix)  \n",
        "FN = confusion_matrix.sum(axis=1) - np.diag(confusion_matrix)\n",
        "TP = np.diag(confusion_matrix)\n",
        "TN = confusion_matrix.sum() - (FP + FN + TP)\n",
        "\n",
        "# Sensitivity, hit rate, recall, or true positive rate\n",
        "TPR = TP/(TP+FN)\n",
        "# Specificity or true negative rate\n",
        "TNR = TN/(TN+FP) \n",
        "# Overall accuracy\n",
        "ACC = (TP+TN)/(TP+FP+FN+TN)\n",
        "\n",
        "print(TP)\n",
        "print(TN)\n",
        "print(FP)\n",
        "print(FN)\n",
        "print('--------')\n",
        "print(ACC)\n",
        "print(TPR)\n",
        "print(TNR)\n",
        "print('--------')\n",
        "\n",
        "TP = sum(TP)\n",
        "TN = sum(TN)\n",
        "FP = sum(FP)\n",
        "FN = sum(FN)\n",
        "\n",
        "# Sensitivity, hit rate, recall, or true positive rate\n",
        "TPR = TP/(TP+FN)\n",
        "# Specificity or true negative rate\n",
        "TNR = TN/(TN+FP) \n",
        "# Overall accuracy\n",
        "ACC = (TP+TN)/(TP+FP+FN+TN)\n",
        "\n",
        "print(TP)\n",
        "print(TN)\n",
        "print(FP)\n",
        "print(FN)\n",
        "print('--------')\n",
        "print(ACC)\n",
        "print(TPR)\n",
        "print(TNR)"
      ],
      "metadata": {
        "colab": {
          "base_uri": "https://localhost:8080/",
          "height": 591
        },
        "id": "3a1AYdsF4FoY",
        "outputId": "13a93bf2-f8b2-412e-eee4-cb87f5671642"
      },
      "execution_count": 31,
      "outputs": [
        {
          "output_type": "display_data",
          "data": {
            "image/png": "[encoded data removed]",
            "text/plain": [
              "<Figure size 432x288 with 2 Axes>"
            ]
          },
          "metadata": {
            "needs_background": "light"
          }
        },
        {
          "output_type": "stream",
          "name": "stdout",
          "text": [
            "--------\n",
            "[115 124  55 328]\n",
            "[508 504 579 299]\n",
            "[0 6 0 6]\n",
            "[11  0  0  1]\n",
            "--------\n",
            "[0.98264984 0.99053628 1.         0.98895899]\n",
            "[0.91269841 1.         1.         0.99696049]\n",
            "[1.         0.98823529 1.         0.98032787]\n",
            "--------\n",
            "622\n",
            "1890\n",
            "12\n",
            "12\n",
            "--------\n",
            "0.9905362776025236\n",
            "0.9810725552050473\n",
            "0.9936908517350158\n"
          ]
        }
      ]
    },
    {
      "cell_type": "code",
      "metadata": {
        "id": "AKd6Tu7mzmg2"
      },
      "source": [
        "# save the model to disk\n",
        "#print(\"[INFO] Saving model...\")\n",
        "# pickle.dump(model,open('cnn_model.pkl', 'wb'))\n",
        "model.save('/content/fold2.h5')    "
      ],
      "execution_count": 32,
      "outputs": []
    },
    {
      "cell_type": "code",
      "metadata": {
        "id": "O6iIKa7Jzmg7"
      },
      "source": [
        "#test_img = cv2.imread('/content/datasets/Apple/Apple___Black_rot/0139bc6d-391c-4fd1-bcae-cc74dabfddd7___JR_FrgE.S 2734.JPG')\n",
        "\n",
        "#plt.imshow(test_img)\n",
        "#test_img = test_img / 255\n",
        "#test_img = np.expand_dims(test_img, axis=0)\n",
        "#pr=model.predict(test_img)\n",
        "\n",
        "#print(pr)\n",
        "#output = label_binarizer.inverse_transform(pr)\n",
        "#print(output)\n"
      ],
      "execution_count": 18,
      "outputs": []
    }
  ]
}