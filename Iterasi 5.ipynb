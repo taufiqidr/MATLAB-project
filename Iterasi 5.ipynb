{
  "nbformat": 4,
  "nbformat_minor": 0,
  "metadata": {
    "accelerator": "GPU",
    "colab": {
      "name": "Kodingan Skripsi 3",
      "provenance": [],
      "collapsed_sections": [],
      "include_colab_link": true
    },
    "kernelspec": {
      "display_name": "Python 3",
      "language": "python",
      "name": "python3"
    },
    "language_info": {
      "codemirror_mode": {
        "name": "ipython",
        "version": 3
      },
      "file_extension": ".py",
      "mimetype": "text/x-python",
      "name": "python",
      "nbconvert_exporter": "python",
      "pygments_lexer": "ipython3",
      "version": "3.6.6"
    }
  },
  "cells": [
    {
      "cell_type": "markdown",
      "metadata": {
        "id": "view-in-github",
        "colab_type": "text"
      },
      "source": [
        "<a href=\"https://colab.research.google.com/github/TaufiqIdrus/MATLAB-project/blob/master/Iterasi%205.ipynb\" target=\"_parent\"><img src=\"https://colab.research.google.com/assets/colab-badge.svg\" alt=\"Open In Colab\"/></a>"
      ]
    },
    {
      "cell_type": "markdown",
      "metadata": {
        "id": "yJT_kQA2lITS"
      },
      "source": [
        "**Identifikasi Penyakit Pada Tanaman Apel menggunakan Convolutional Neural Network**"
      ]
    },
    {
      "cell_type": "code",
      "metadata": {
        "id": "xXeOaYTUzmgT"
      },
      "source": [
        "import numpy as np\n",
        "import pickle\n",
        "import os\n",
        "import cv2\n",
        "import tensorflow as tf\n",
        "import keras\n",
        "from os import listdir\n",
        "from sklearn.preprocessing import LabelBinarizer\n",
        "from sklearn.model_selection import KFold\n",
        "from keras.models import Sequential\n",
        "from keras.layers.normalization import batch_normalization\n",
        "from keras.layers.convolutional import Conv2D\n",
        "from keras.layers.convolutional import MaxPooling2D\n",
        "from keras.layers.core import Activation, Flatten, Dropout, Dense\n",
        "from keras import backend as K\n",
        "from tensorflow.keras.optimizers import Adam\n",
        "from keras.preprocessing import image\n",
        "from sklearn.preprocessing import MultiLabelBinarizer\n",
        "from sklearn.model_selection import train_test_split\n",
        "import matplotlib.pyplot as plt\n",
        "from sklearn.datasets import make_classification\n",
        "from numpy import mean\n",
        "from sklearn.metrics import confusion_matrix, ConfusionMatrixDisplay, accuracy_score, classification_report, recall_score\n"
      ],
      "execution_count": 1,
      "outputs": []
    },
    {
      "cell_type": "markdown",
      "metadata": {
        "id": "fp8C0d28lQok"
      },
      "source": [
        "Importing and Preparing Dataset"
      ]
    },
    {
      "cell_type": "code",
      "metadata": {
        "id": "_0xehllADlUs",
        "colab": {
          "base_uri": "https://localhost:8080/"
        },
        "outputId": "428d7b08-47ad-4944-8be7-719abe5e5f60"
      },
      "source": [
        "!pip install pyunpack\n",
        "!pip install patool\n",
        "from pyunpack import Archive\n",
        "Archive('/content/Fold 5.rar').extractall('/content/Datasets/')\n",
        "iterasi = 5\n",
        "width=256\n",
        "height=256\n",
        "default_image_size = tuple((height, width))\n",
        "directory_root_train = '/content/Datasets/Fold 5/Train'\n",
        "directory_root_validation = '/content/Datasets/Fold 5/Validation'\n",
        "directory_root_test = '/content/Datasets/Fold 5/Test'\n",
        "image_size = 0\n",
        "depth=3"
      ],
      "execution_count": 2,
      "outputs": [
        {
          "output_type": "stream",
          "name": "stdout",
          "text": [
            "Collecting pyunpack\n",
            "  Downloading pyunpack-0.2.2-py2.py3-none-any.whl (3.8 kB)\n",
            "Collecting entrypoint2\n",
            "  Downloading entrypoint2-1.0-py3-none-any.whl (9.8 kB)\n",
            "Collecting easyprocess\n",
            "  Downloading EasyProcess-1.1-py3-none-any.whl (8.7 kB)\n",
            "Installing collected packages: entrypoint2, easyprocess, pyunpack\n",
            "Successfully installed easyprocess-1.1 entrypoint2-1.0 pyunpack-0.2.2\n",
            "Collecting patool\n",
            "  Downloading patool-1.12-py2.py3-none-any.whl (77 kB)\n",
            "\u001b[K     |████████████████████████████████| 77 kB 2.9 MB/s \n",
            "\u001b[?25hInstalling collected packages: patool\n",
            "Successfully installed patool-1.12\n"
          ]
        }
      ]
    },
    {
      "cell_type": "code",
      "metadata": {
        "id": "KbAwJJTpzmge"
      },
      "source": [
        "def convert_image_to_array(image_dir):\n",
        "    try:\n",
        "        image = cv2.imread(image_dir)\n",
        "        if image is not None :\n",
        "            image = cv2.resize(image, default_image_size)   \n",
        "            return keras.preprocessing.image.img_to_array(image)\n",
        "        else :\n",
        "            return np.array([])\n",
        "    except Exception as e:\n",
        "        print(f\"Error : {e}\")\n",
        "        return None"
      ],
      "execution_count": 3,
      "outputs": []
    },
    {
      "cell_type": "markdown",
      "source": [
        "Converting **Training** Data to Array"
      ],
      "metadata": {
        "id": "bgXxUMO2cI_D"
      }
    },
    {
      "cell_type": "code",
      "metadata": {
        "id": "Erz6IjKXzmgg",
        "colab": {
          "base_uri": "https://localhost:8080/"
        },
        "outputId": "ae8703d1-6ca8-4b95-f6b4-5b34e4d1b9aa"
      },
      "source": [
        "image_list_train, label_list_train = [], []\n",
        "try:\n",
        "    print(\"[INFO] Loading images ...\")\n",
        "    root_dir = listdir(directory_root_train)\n",
        "\n",
        "    for plant_disease_folder in root_dir:\n",
        "        print(f\"[INFO] Processing {plant_disease_folder} ...\")\n",
        "        plant_disease_image_list = listdir(f\"{directory_root_train}/{plant_disease_folder}/\")\n",
        "      \n",
        "        for image in plant_disease_image_list:\n",
        "            image_directory = f\"{directory_root_train}/{plant_disease_folder}/{image}\"\n",
        "\n",
        "            if image_directory.endswith(\".jpg\") == True or image_directory.endswith(\".JPG\") == True:\n",
        "                image_list_train.append(convert_image_to_array(image_directory))\n",
        "                label_list_train.append(plant_disease_folder)\n",
        "    print(\"[INFO] Image loading completed\")\n",
        "\n",
        "except Exception as e:\n",
        "    print(f\"Error : {e}\")\n",
        "\n",
        "#image labeling\n",
        "image_size = len(image_list_train)\n",
        "label_binarizer = LabelBinarizer()\n",
        "image_labels_train = label_binarizer.fit_transform(label_list_train)\n",
        "pickle.dump(label_binarizer,open('label_transform_train.pkl', 'wb'))\n",
        "n_classes = len(label_binarizer.classes_)\n",
        "np_image_list_train = np.array(image_list_train, dtype=np.float16) / 255.0"
      ],
      "execution_count": 4,
      "outputs": [
        {
          "output_type": "stream",
          "name": "stdout",
          "text": [
            "[INFO] Loading images ...\n",
            "[INFO] Processing Apple___Black_rot ...\n",
            "[INFO] Processing Apple___Apple_scab ...\n",
            "[INFO] Processing Apple___healthy ...\n",
            "[INFO] Processing Apple___Cedar_apple_rust ...\n",
            "[INFO] Image loading completed\n"
          ]
        }
      ]
    },
    {
      "cell_type": "markdown",
      "source": [
        "Converting **Validation** Data to Array"
      ],
      "metadata": {
        "id": "7eEMGiqRd_E4"
      }
    },
    {
      "cell_type": "code",
      "source": [
        "image_list_validation, label_list_validation = [], []\n",
        "try:\n",
        "    print(\"[INFO] Loading images ...\")\n",
        "    root_dir = listdir(directory_root_validation)\n",
        "\n",
        "    for plant_disease_folder in root_dir:\n",
        "        print(f\"[INFO] Processing {plant_disease_folder} ...\")\n",
        "        plant_disease_image_list = listdir(f\"{directory_root_validation}/{plant_disease_folder}/\")\n",
        "      \n",
        "        for image in plant_disease_image_list:\n",
        "            image_directory = f\"{directory_root_validation}/{plant_disease_folder}/{image}\"\n",
        "\n",
        "            if image_directory.endswith(\".jpg\") == True or image_directory.endswith(\".JPG\") == True:\n",
        "                image_list_validation.append(convert_image_to_array(image_directory))\n",
        "                label_list_validation.append(plant_disease_folder)\n",
        "    print(\"[INFO] Image loading completed\")\n",
        "\n",
        "except Exception as e:\n",
        "    print(f\"Error : {e}\")\n",
        "\n",
        "#image labeling\n",
        "image_size = len(image_list_validation)\n",
        "label_binarizer = LabelBinarizer()\n",
        "image_labels_validation = label_binarizer.fit_transform(label_list_validation)\n",
        "pickle.dump(label_binarizer,open('label_transform_validation.pkl', 'wb'))\n",
        "n_classes = len(label_binarizer.classes_)\n",
        "np_image_list_validation = np.array(image_list_validation, dtype=np.float16) / 255.0"
      ],
      "metadata": {
        "id": "wfHDdR0ZeEuU",
        "colab": {
          "base_uri": "https://localhost:8080/"
        },
        "outputId": "b044e6c6-c193-44c8-8f28-055ff3ff4163"
      },
      "execution_count": 5,
      "outputs": [
        {
          "output_type": "stream",
          "name": "stdout",
          "text": [
            "[INFO] Loading images ...\n",
            "[INFO] Processing Apple___Black_rot ...\n",
            "[INFO] Processing Apple___Apple_scab ...\n",
            "[INFO] Processing Apple___healthy ...\n",
            "[INFO] Processing Apple___Cedar_apple_rust ...\n",
            "[INFO] Image loading completed\n"
          ]
        }
      ]
    },
    {
      "cell_type": "markdown",
      "source": [
        "Converting **Testing** Data to Array"
      ],
      "metadata": {
        "id": "brwWyZVncTdg"
      }
    },
    {
      "cell_type": "code",
      "metadata": {
        "id": "uNPby5UMcaWY",
        "colab": {
          "base_uri": "https://localhost:8080/"
        },
        "outputId": "d3919266-45fb-40e7-f532-ab68dbd2c8bb"
      },
      "source": [
        "image_list_test, label_list_test = [], []\n",
        "try:\n",
        "    print(\"[INFO] Loading images ...\")\n",
        "    root_dir = listdir(directory_root_test)\n",
        "\n",
        "    for plant_disease_folder in root_dir:\n",
        "        print(f\"[INFO] Processing {plant_disease_folder} ...\")\n",
        "        plant_disease_image_list = listdir(f\"{directory_root_test}/{plant_disease_folder}/\")\n",
        "      \n",
        "        for image in plant_disease_image_list:\n",
        "            image_directory = f\"{directory_root_test}/{plant_disease_folder}/{image}\"\n",
        "\n",
        "            if image_directory.endswith(\".jpg\") == True or image_directory.endswith(\".JPG\") == True:\n",
        "                image_list_test.append(convert_image_to_array(image_directory))\n",
        "                label_list_test.append(plant_disease_folder)\n",
        "    print(\"[INFO] Image loading completed\")\n",
        "\n",
        "except Exception as e:\n",
        "    print(f\"Error : {e}\")\n",
        "\n",
        "#image labeling\n",
        "image_size = len(image_list_test)\n",
        "label_binarizer = LabelBinarizer()\n",
        "image_labels_test = label_binarizer.fit_transform(label_list_test)\n",
        "pickle.dump(label_binarizer,open('label_transform_test.pkl', 'wb'))\n",
        "n_classes = len(label_binarizer.classes_)\n",
        "np_image_list_test = np.array(image_list_test, dtype=np.float16) / 255.0"
      ],
      "execution_count": 6,
      "outputs": [
        {
          "output_type": "stream",
          "name": "stdout",
          "text": [
            "[INFO] Loading images ...\n",
            "[INFO] Processing Apple___Black_rot ...\n",
            "[INFO] Processing Apple___Apple_scab ...\n",
            "[INFO] Processing Apple___healthy ...\n",
            "[INFO] Processing Apple___Cedar_apple_rust ...\n",
            "[INFO] Image loading completed\n"
          ]
        }
      ]
    },
    {
      "cell_type": "markdown",
      "metadata": {
        "id": "jYBTFN0CnAi7"
      },
      "source": [
        "Data Augmenting Initialization"
      ]
    },
    {
      "cell_type": "code",
      "metadata": {
        "id": "TLMxMK2Tzmgr"
      },
      "source": [
        "aug = keras.preprocessing.image.ImageDataGenerator(\n",
        "    rotation_range=25, \n",
        "    width_shift_range=0.1,\n",
        "    height_shift_range=0.1, \n",
        "    shear_range=0.2, \n",
        "    zoom_range=0.2,\n",
        "    horizontal_flip=True, \n",
        "    fill_mode=\"nearest\")"
      ],
      "execution_count": 7,
      "outputs": []
    },
    {
      "cell_type": "markdown",
      "metadata": {
        "id": "H1BfRyYNnGv_"
      },
      "source": [
        "Creating CNN Model"
      ]
    },
    {
      "cell_type": "code",
      "metadata": {
        "id": "WmLX4wm8zmgs"
      },
      "source": [
        "model = keras.models.Sequential()\n",
        "inputShape = (height, width, depth)\n",
        "\n",
        "model.add(Conv2D(32, (3, 3), padding=\"same\",input_shape=inputShape))\n",
        "model.add(Activation(\"relu\"))\n",
        "\n",
        "model.add(MaxPooling2D(pool_size=(3, 3)))\n",
        "\n",
        "model.add(Conv2D(64, (3, 3), padding=\"same\"))\n",
        "model.add(Activation(\"relu\"))\n",
        "\n",
        "model.add(MaxPooling2D(pool_size=(3, 3)))\n",
        "\n",
        "model.add(Conv2D(128, (3, 3), padding=\"same\"))\n",
        "model.add(Activation(\"relu\"))\n",
        "\n",
        "model.add(MaxPooling2D(pool_size=(2, 2)))\n",
        "\n",
        "model.add(Conv2D(256, (3, 3), padding=\"same\"))\n",
        "model.add(Activation(\"relu\"))\n",
        "\n",
        "model.add(MaxPooling2D(pool_size=(2, 2)))\n",
        "\n",
        "model.add(Flatten())\n",
        "\n",
        "model.add(Dense(1024))\n",
        "model.add(Activation(\"relu\"))\n",
        "\n",
        "model.add(Dense(n_classes))\n",
        "model.add(Activation(\"softmax\"))"
      ],
      "execution_count": 8,
      "outputs": []
    },
    {
      "cell_type": "code",
      "source": [
        "#callback = tf.keras.callbacks.EarlyStopping(monitor='loss', patience=3)"
      ],
      "metadata": {
        "id": "9Dv-xrGBgeRq"
      },
      "execution_count": 9,
      "outputs": []
    },
    {
      "cell_type": "markdown",
      "metadata": {
        "id": "Zfsu3lVfnXFG"
      },
      "source": [
        "**Training** Network"
      ]
    },
    {
      "cell_type": "code",
      "metadata": {
        "id": "rvwKwe3Lzmgv",
        "colab": {
          "base_uri": "https://localhost:8080/"
        },
        "outputId": "eb397e1e-73f8-499d-c37d-2982fb2359b6"
      },
      "source": [
        "EPOCHS = 50\n",
        "INIT_LR = 1e-3\n",
        "BS = 32\n",
        "\n",
        "with tf.device('/GPU:0'):\n",
        "  opt = Adam(learning_rate=INIT_LR, decay=INIT_LR / EPOCHS)\n",
        "  model.compile(loss=\"binary_crossentropy\", optimizer=opt,metrics=[\"Accuracy\", \"FalseNegatives\", \"FalsePositives\", \"TrueNegatives\", \"TruePositives\"])\n",
        "  \n",
        "  history = model.fit(\n",
        "      aug.flow(np_image_list_train, image_labels_train, batch_size=BS),\n",
        "      validation_data=(np_image_list_validation, image_labels_validation),\n",
        "      steps_per_epoch=len(np_image_list_train) // BS,\n",
        "      epochs=EPOCHS, \n",
        "      verbose=1,\n",
        "      )\n"
      ],
      "execution_count": 10,
      "outputs": [
        {
          "output_type": "stream",
          "name": "stdout",
          "text": [
            "Epoch 1/50\n",
            "63/63 [==============================] - 43s 507ms/step - loss: 0.4930 - Accuracy: 0.5155 - false_negatives: 1094.0000 - false_positives: 769.0000 - true_negatives: 5219.0000 - true_positives: 902.0000 - val_loss: 0.3862 - val_Accuracy: 0.6161 - val_false_negatives: 237.0000 - val_false_positives: 102.0000 - val_true_negatives: 1422.0000 - val_true_positives: 271.0000\n",
            "Epoch 2/50\n",
            "63/63 [==============================] - 30s 482ms/step - loss: 0.2716 - Accuracy: 0.7590 - false_negatives: 564.0000 - false_positives: 375.0000 - true_negatives: 5613.0000 - true_positives: 1432.0000 - val_loss: 0.2097 - val_Accuracy: 0.8425 - val_false_negatives: 84.0000 - val_false_positives: 76.0000 - val_true_negatives: 1448.0000 - val_true_positives: 424.0000\n",
            "Epoch 3/50\n",
            "63/63 [==============================] - 30s 474ms/step - loss: 0.1961 - Accuracy: 0.8337 - false_negatives: 356.0000 - false_positives: 312.0000 - true_negatives: 5676.0000 - true_positives: 1640.0000 - val_loss: 0.2637 - val_Accuracy: 0.8012 - val_false_negatives: 106.0000 - val_false_positives: 97.0000 - val_true_negatives: 1427.0000 - val_true_positives: 402.0000\n",
            "Epoch 4/50\n",
            "63/63 [==============================] - 30s 474ms/step - loss: 0.1855 - Accuracy: 0.8467 - false_negatives: 323.0000 - false_positives: 284.0000 - true_negatives: 5704.0000 - true_positives: 1673.0000 - val_loss: 0.1652 - val_Accuracy: 0.8858 - val_false_negatives: 61.0000 - val_false_positives: 55.0000 - val_true_negatives: 1469.0000 - val_true_positives: 447.0000\n",
            "Epoch 5/50\n",
            "63/63 [==============================] - 30s 477ms/step - loss: 0.1400 - Accuracy: 0.8948 - false_negatives: 218.0000 - false_positives: 196.0000 - true_negatives: 5792.0000 - true_positives: 1778.0000 - val_loss: 0.2243 - val_Accuracy: 0.8287 - val_false_negatives: 91.0000 - val_false_positives: 80.0000 - val_true_negatives: 1444.0000 - val_true_positives: 417.0000\n",
            "Epoch 6/50\n",
            "63/63 [==============================] - 30s 468ms/step - loss: 0.1335 - Accuracy: 0.8953 - false_negatives: 213.0000 - false_positives: 193.0000 - true_negatives: 5795.0000 - true_positives: 1783.0000 - val_loss: 0.1321 - val_Accuracy: 0.9016 - val_false_negatives: 51.0000 - val_false_positives: 49.0000 - val_true_negatives: 1475.0000 - val_true_positives: 457.0000\n",
            "Epoch 7/50\n",
            "63/63 [==============================] - 30s 468ms/step - loss: 0.0964 - Accuracy: 0.9259 - false_negatives: 153.0000 - false_positives: 141.0000 - true_negatives: 5847.0000 - true_positives: 1843.0000 - val_loss: 0.1005 - val_Accuracy: 0.9331 - val_false_negatives: 36.0000 - val_false_positives: 33.0000 - val_true_negatives: 1491.0000 - val_true_positives: 472.0000\n",
            "Epoch 8/50\n",
            "63/63 [==============================] - 30s 470ms/step - loss: 0.0956 - Accuracy: 0.9264 - false_negatives: 152.0000 - false_positives: 140.0000 - true_negatives: 5848.0000 - true_positives: 1844.0000 - val_loss: 0.1509 - val_Accuracy: 0.9035 - val_false_negatives: 49.0000 - val_false_positives: 46.0000 - val_true_negatives: 1478.0000 - val_true_positives: 459.0000\n",
            "Epoch 9/50\n",
            "63/63 [==============================] - 29s 456ms/step - loss: 0.0926 - Accuracy: 0.9304 - false_negatives: 142.0000 - false_positives: 132.0000 - true_negatives: 5856.0000 - true_positives: 1854.0000 - val_loss: 0.2372 - val_Accuracy: 0.8484 - val_false_negatives: 83.0000 - val_false_positives: 77.0000 - val_true_negatives: 1447.0000 - val_true_positives: 425.0000\n",
            "Epoch 10/50\n",
            "63/63 [==============================] - 30s 475ms/step - loss: 0.0796 - Accuracy: 0.9394 - false_negatives: 123.0000 - false_positives: 117.0000 - true_negatives: 5871.0000 - true_positives: 1873.0000 - val_loss: 0.1497 - val_Accuracy: 0.8799 - val_false_negatives: 61.0000 - val_false_positives: 61.0000 - val_true_negatives: 1463.0000 - val_true_positives: 447.0000\n",
            "Epoch 11/50\n",
            "63/63 [==============================] - 30s 476ms/step - loss: 0.0664 - Accuracy: 0.9469 - false_negatives: 107.0000 - false_positives: 104.0000 - true_negatives: 5884.0000 - true_positives: 1889.0000 - val_loss: 0.1900 - val_Accuracy: 0.8799 - val_false_negatives: 61.0000 - val_false_positives: 59.0000 - val_true_negatives: 1465.0000 - val_true_positives: 447.0000\n",
            "Epoch 12/50\n",
            "63/63 [==============================] - 30s 474ms/step - loss: 0.0657 - Accuracy: 0.9494 - false_negatives: 103.0000 - false_positives: 100.0000 - true_negatives: 5888.0000 - true_positives: 1893.0000 - val_loss: 0.0975 - val_Accuracy: 0.9291 - val_false_negatives: 36.0000 - val_false_positives: 36.0000 - val_true_negatives: 1488.0000 - val_true_positives: 472.0000\n",
            "Epoch 13/50\n",
            "63/63 [==============================] - 29s 463ms/step - loss: 0.0495 - Accuracy: 0.9634 - false_negatives: 73.0000 - false_positives: 71.0000 - true_negatives: 5917.0000 - true_positives: 1923.0000 - val_loss: 0.2388 - val_Accuracy: 0.8445 - val_false_negatives: 80.0000 - val_false_positives: 79.0000 - val_true_negatives: 1445.0000 - val_true_positives: 428.0000\n",
            "Epoch 14/50\n",
            "63/63 [==============================] - 30s 480ms/step - loss: 0.0718 - Accuracy: 0.9469 - false_negatives: 107.0000 - false_positives: 99.0000 - true_negatives: 5889.0000 - true_positives: 1889.0000 - val_loss: 0.0927 - val_Accuracy: 0.9331 - val_false_negatives: 34.0000 - val_false_positives: 33.0000 - val_true_negatives: 1491.0000 - val_true_positives: 474.0000\n",
            "Epoch 15/50\n",
            "63/63 [==============================] - 30s 486ms/step - loss: 0.0707 - Accuracy: 0.9454 - false_negatives: 110.0000 - false_positives: 106.0000 - true_negatives: 5882.0000 - true_positives: 1886.0000 - val_loss: 0.0832 - val_Accuracy: 0.9311 - val_false_negatives: 35.0000 - val_false_positives: 34.0000 - val_true_negatives: 1490.0000 - val_true_positives: 473.0000\n",
            "Epoch 16/50\n",
            "63/63 [==============================] - 30s 471ms/step - loss: 0.0654 - Accuracy: 0.9519 - false_negatives: 100.0000 - false_positives: 95.0000 - true_negatives: 5893.0000 - true_positives: 1896.0000 - val_loss: 0.0913 - val_Accuracy: 0.9429 - val_false_negatives: 30.0000 - val_false_positives: 29.0000 - val_true_negatives: 1495.0000 - val_true_positives: 478.0000\n",
            "Epoch 17/50\n",
            "63/63 [==============================] - 30s 480ms/step - loss: 0.0366 - Accuracy: 0.9714 - false_negatives: 58.0000 - false_positives: 57.0000 - true_negatives: 5931.0000 - true_positives: 1938.0000 - val_loss: 0.0544 - val_Accuracy: 0.9626 - val_false_negatives: 19.0000 - val_false_positives: 18.0000 - val_true_negatives: 1506.0000 - val_true_positives: 489.0000\n",
            "Epoch 18/50\n",
            "63/63 [==============================] - 30s 469ms/step - loss: 0.0505 - Accuracy: 0.9654 - false_negatives: 70.0000 - false_positives: 69.0000 - true_negatives: 5919.0000 - true_positives: 1926.0000 - val_loss: 0.1000 - val_Accuracy: 0.9173 - val_false_negatives: 44.0000 - val_false_positives: 40.0000 - val_true_negatives: 1484.0000 - val_true_positives: 464.0000\n",
            "Epoch 19/50\n",
            "63/63 [==============================] - 30s 469ms/step - loss: 0.0475 - Accuracy: 0.9669 - false_negatives: 66.0000 - false_positives: 65.0000 - true_negatives: 5923.0000 - true_positives: 1930.0000 - val_loss: 0.1730 - val_Accuracy: 0.9075 - val_false_negatives: 47.0000 - val_false_positives: 47.0000 - val_true_negatives: 1477.0000 - val_true_positives: 461.0000\n",
            "Epoch 20/50\n",
            "63/63 [==============================] - 29s 462ms/step - loss: 0.0352 - Accuracy: 0.9749 - false_negatives: 50.0000 - false_positives: 48.0000 - true_negatives: 5940.0000 - true_positives: 1946.0000 - val_loss: 0.0873 - val_Accuracy: 0.9449 - val_false_negatives: 28.0000 - val_false_positives: 27.0000 - val_true_negatives: 1497.0000 - val_true_positives: 480.0000\n",
            "Epoch 21/50\n",
            "63/63 [==============================] - 29s 456ms/step - loss: 0.0369 - Accuracy: 0.9734 - false_negatives: 53.0000 - false_positives: 53.0000 - true_negatives: 5935.0000 - true_positives: 1943.0000 - val_loss: 0.0715 - val_Accuracy: 0.9665 - val_false_negatives: 17.0000 - val_false_positives: 17.0000 - val_true_negatives: 1507.0000 - val_true_positives: 491.0000\n",
            "Epoch 22/50\n",
            "63/63 [==============================] - 29s 467ms/step - loss: 0.0446 - Accuracy: 0.9679 - false_negatives: 64.0000 - false_positives: 64.0000 - true_negatives: 5924.0000 - true_positives: 1932.0000 - val_loss: 0.1190 - val_Accuracy: 0.9449 - val_false_negatives: 28.0000 - val_false_positives: 27.0000 - val_true_negatives: 1497.0000 - val_true_positives: 480.0000\n",
            "Epoch 23/50\n",
            "63/63 [==============================] - 30s 477ms/step - loss: 0.0346 - Accuracy: 0.9729 - false_negatives: 54.0000 - false_positives: 54.0000 - true_negatives: 5934.0000 - true_positives: 1942.0000 - val_loss: 0.0462 - val_Accuracy: 0.9665 - val_false_negatives: 17.0000 - val_false_positives: 17.0000 - val_true_negatives: 1507.0000 - val_true_positives: 491.0000\n",
            "Epoch 24/50\n",
            "63/63 [==============================] - 29s 461ms/step - loss: 0.0349 - Accuracy: 0.9724 - false_negatives: 55.0000 - false_positives: 55.0000 - true_negatives: 5933.0000 - true_positives: 1941.0000 - val_loss: 0.1372 - val_Accuracy: 0.9291 - val_false_negatives: 36.0000 - val_false_positives: 36.0000 - val_true_negatives: 1488.0000 - val_true_positives: 472.0000\n",
            "Epoch 25/50\n",
            "63/63 [==============================] - 30s 477ms/step - loss: 0.0252 - Accuracy: 0.9815 - false_negatives: 37.0000 - false_positives: 37.0000 - true_negatives: 5951.0000 - true_positives: 1959.0000 - val_loss: 0.1763 - val_Accuracy: 0.9075 - val_false_negatives: 47.0000 - val_false_positives: 47.0000 - val_true_negatives: 1477.0000 - val_true_positives: 461.0000\n",
            "Epoch 26/50\n",
            "63/63 [==============================] - 29s 465ms/step - loss: 0.0500 - Accuracy: 0.9659 - false_negatives: 69.0000 - false_positives: 68.0000 - true_negatives: 5920.0000 - true_positives: 1927.0000 - val_loss: 0.0924 - val_Accuracy: 0.9390 - val_false_negatives: 31.0000 - val_false_positives: 31.0000 - val_true_negatives: 1493.0000 - val_true_positives: 477.0000\n",
            "Epoch 27/50\n",
            "63/63 [==============================] - 30s 471ms/step - loss: 0.0250 - Accuracy: 0.9780 - false_negatives: 44.0000 - false_positives: 43.0000 - true_negatives: 5945.0000 - true_positives: 1952.0000 - val_loss: 0.0631 - val_Accuracy: 0.9567 - val_false_negatives: 22.0000 - val_false_positives: 22.0000 - val_true_negatives: 1502.0000 - val_true_positives: 486.0000\n",
            "Epoch 28/50\n",
            "63/63 [==============================] - 30s 472ms/step - loss: 0.0362 - Accuracy: 0.9709 - false_negatives: 58.0000 - false_positives: 58.0000 - true_negatives: 5930.0000 - true_positives: 1938.0000 - val_loss: 0.0532 - val_Accuracy: 0.9665 - val_false_negatives: 17.0000 - val_false_positives: 17.0000 - val_true_negatives: 1507.0000 - val_true_positives: 491.0000\n",
            "Epoch 29/50\n",
            "63/63 [==============================] - 29s 467ms/step - loss: 0.0297 - Accuracy: 0.9815 - false_negatives: 37.0000 - false_positives: 37.0000 - true_negatives: 5951.0000 - true_positives: 1959.0000 - val_loss: 0.0652 - val_Accuracy: 0.9685 - val_false_negatives: 16.0000 - val_false_positives: 16.0000 - val_true_negatives: 1508.0000 - val_true_positives: 492.0000\n",
            "Epoch 30/50\n",
            "63/63 [==============================] - 29s 459ms/step - loss: 0.0178 - Accuracy: 0.9900 - false_negatives: 21.0000 - false_positives: 20.0000 - true_negatives: 5968.0000 - true_positives: 1975.0000 - val_loss: 0.0525 - val_Accuracy: 0.9646 - val_false_negatives: 18.0000 - val_false_positives: 18.0000 - val_true_negatives: 1506.0000 - val_true_positives: 490.0000\n",
            "Epoch 31/50\n",
            "63/63 [==============================] - 30s 471ms/step - loss: 0.0292 - Accuracy: 0.9800 - false_negatives: 40.0000 - false_positives: 40.0000 - true_negatives: 5948.0000 - true_positives: 1956.0000 - val_loss: 0.0716 - val_Accuracy: 0.9646 - val_false_negatives: 18.0000 - val_false_positives: 18.0000 - val_true_negatives: 1506.0000 - val_true_positives: 490.0000\n",
            "Epoch 32/50\n",
            "63/63 [==============================] - 30s 480ms/step - loss: 0.0258 - Accuracy: 0.9810 - false_negatives: 38.0000 - false_positives: 38.0000 - true_negatives: 5950.0000 - true_positives: 1958.0000 - val_loss: 0.0481 - val_Accuracy: 0.9665 - val_false_negatives: 17.0000 - val_false_positives: 17.0000 - val_true_negatives: 1507.0000 - val_true_positives: 491.0000\n",
            "Epoch 33/50\n",
            "63/63 [==============================] - 31s 489ms/step - loss: 0.0214 - Accuracy: 0.9850 - false_negatives: 31.0000 - false_positives: 30.0000 - true_negatives: 5958.0000 - true_positives: 1965.0000 - val_loss: 0.0452 - val_Accuracy: 0.9724 - val_false_negatives: 14.0000 - val_false_positives: 14.0000 - val_true_negatives: 1510.0000 - val_true_positives: 494.0000\n",
            "Epoch 34/50\n",
            "63/63 [==============================] - 30s 481ms/step - loss: 0.0206 - Accuracy: 0.9870 - false_negatives: 26.0000 - false_positives: 26.0000 - true_negatives: 5962.0000 - true_positives: 1970.0000 - val_loss: 0.0379 - val_Accuracy: 0.9783 - val_false_negatives: 11.0000 - val_false_positives: 11.0000 - val_true_negatives: 1513.0000 - val_true_positives: 497.0000\n",
            "Epoch 35/50\n",
            "63/63 [==============================] - 30s 480ms/step - loss: 0.0266 - Accuracy: 0.9805 - false_negatives: 39.0000 - false_positives: 39.0000 - true_negatives: 5949.0000 - true_positives: 1957.0000 - val_loss: 0.0462 - val_Accuracy: 0.9764 - val_false_negatives: 12.0000 - val_false_positives: 12.0000 - val_true_negatives: 1512.0000 - val_true_positives: 496.0000\n",
            "Epoch 36/50\n",
            "63/63 [==============================] - 30s 481ms/step - loss: 0.0174 - Accuracy: 0.9900 - false_negatives: 20.0000 - false_positives: 20.0000 - true_negatives: 5968.0000 - true_positives: 1976.0000 - val_loss: 0.0453 - val_Accuracy: 0.9783 - val_false_negatives: 11.0000 - val_false_positives: 11.0000 - val_true_negatives: 1513.0000 - val_true_positives: 497.0000\n",
            "Epoch 37/50\n",
            "63/63 [==============================] - 30s 477ms/step - loss: 0.0290 - Accuracy: 0.9785 - false_negatives: 43.0000 - false_positives: 42.0000 - true_negatives: 5946.0000 - true_positives: 1953.0000 - val_loss: 0.0491 - val_Accuracy: 0.9724 - val_false_negatives: 14.0000 - val_false_positives: 14.0000 - val_true_negatives: 1510.0000 - val_true_positives: 494.0000\n",
            "Epoch 38/50\n",
            "63/63 [==============================] - 30s 481ms/step - loss: 0.0261 - Accuracy: 0.9815 - false_negatives: 37.0000 - false_positives: 36.0000 - true_negatives: 5952.0000 - true_positives: 1959.0000 - val_loss: 0.1034 - val_Accuracy: 0.9469 - val_false_negatives: 28.0000 - val_false_positives: 27.0000 - val_true_negatives: 1497.0000 - val_true_positives: 480.0000\n",
            "Epoch 39/50\n",
            "63/63 [==============================] - 31s 490ms/step - loss: 0.0124 - Accuracy: 0.9915 - false_negatives: 18.0000 - false_positives: 17.0000 - true_negatives: 5971.0000 - true_positives: 1978.0000 - val_loss: 0.0374 - val_Accuracy: 0.9783 - val_false_negatives: 11.0000 - val_false_positives: 11.0000 - val_true_negatives: 1513.0000 - val_true_positives: 497.0000\n",
            "Epoch 40/50\n",
            "63/63 [==============================] - 30s 482ms/step - loss: 0.0184 - Accuracy: 0.9895 - false_negatives: 21.0000 - false_positives: 21.0000 - true_negatives: 5967.0000 - true_positives: 1975.0000 - val_loss: 0.0795 - val_Accuracy: 0.9587 - val_false_negatives: 21.0000 - val_false_positives: 21.0000 - val_true_negatives: 1503.0000 - val_true_positives: 487.0000\n",
            "Epoch 41/50\n",
            "63/63 [==============================] - 30s 478ms/step - loss: 0.0147 - Accuracy: 0.9885 - false_negatives: 23.0000 - false_positives: 23.0000 - true_negatives: 5965.0000 - true_positives: 1973.0000 - val_loss: 0.0547 - val_Accuracy: 0.9744 - val_false_negatives: 13.0000 - val_false_positives: 13.0000 - val_true_negatives: 1511.0000 - val_true_positives: 495.0000\n",
            "Epoch 42/50\n",
            "63/63 [==============================] - 31s 488ms/step - loss: 0.0125 - Accuracy: 0.9915 - false_negatives: 17.0000 - false_positives: 17.0000 - true_negatives: 5971.0000 - true_positives: 1979.0000 - val_loss: 0.1695 - val_Accuracy: 0.9173 - val_false_negatives: 42.0000 - val_false_positives: 41.0000 - val_true_negatives: 1483.0000 - val_true_positives: 466.0000\n",
            "Epoch 43/50\n",
            "63/63 [==============================] - 30s 469ms/step - loss: 0.0463 - Accuracy: 0.9684 - false_negatives: 63.0000 - false_positives: 60.0000 - true_negatives: 5928.0000 - true_positives: 1933.0000 - val_loss: 0.3062 - val_Accuracy: 0.8760 - val_false_negatives: 64.0000 - val_false_positives: 63.0000 - val_true_negatives: 1461.0000 - val_true_positives: 444.0000\n",
            "Epoch 44/50\n",
            "63/63 [==============================] - 31s 487ms/step - loss: 0.0255 - Accuracy: 0.9815 - false_negatives: 38.0000 - false_positives: 37.0000 - true_negatives: 5951.0000 - true_positives: 1958.0000 - val_loss: 0.0473 - val_Accuracy: 0.9665 - val_false_negatives: 17.0000 - val_false_positives: 17.0000 - val_true_negatives: 1507.0000 - val_true_positives: 491.0000\n",
            "Epoch 45/50\n",
            "63/63 [==============================] - 31s 485ms/step - loss: 0.0113 - Accuracy: 0.9940 - false_negatives: 12.0000 - false_positives: 11.0000 - true_negatives: 6037.0000 - true_positives: 2004.0000 - val_loss: 0.0304 - val_Accuracy: 0.9843 - val_false_negatives: 8.0000 - val_false_positives: 8.0000 - val_true_negatives: 1516.0000 - val_true_positives: 500.0000\n",
            "Epoch 46/50\n",
            "63/63 [==============================] - 30s 479ms/step - loss: 0.0186 - Accuracy: 0.9875 - false_negatives: 26.0000 - false_positives: 24.0000 - true_negatives: 5964.0000 - true_positives: 1970.0000 - val_loss: 0.3673 - val_Accuracy: 0.8898 - val_false_negatives: 56.0000 - val_false_positives: 56.0000 - val_true_negatives: 1468.0000 - val_true_positives: 452.0000\n",
            "Epoch 47/50\n",
            "63/63 [==============================] - 31s 489ms/step - loss: 0.0404 - Accuracy: 0.9719 - false_negatives: 58.0000 - false_positives: 56.0000 - true_negatives: 5932.0000 - true_positives: 1938.0000 - val_loss: 0.0387 - val_Accuracy: 0.9803 - val_false_negatives: 10.0000 - val_false_positives: 10.0000 - val_true_negatives: 1514.0000 - val_true_positives: 498.0000\n",
            "Epoch 48/50\n",
            "63/63 [==============================] - 31s 488ms/step - loss: 0.0134 - Accuracy: 0.9905 - false_negatives: 20.0000 - false_positives: 18.0000 - true_negatives: 5970.0000 - true_positives: 1976.0000 - val_loss: 0.0338 - val_Accuracy: 0.9803 - val_false_negatives: 10.0000 - val_false_positives: 10.0000 - val_true_negatives: 1514.0000 - val_true_positives: 498.0000\n",
            "Epoch 49/50\n",
            "63/63 [==============================] - 30s 483ms/step - loss: 0.0199 - Accuracy: 0.9860 - false_negatives: 29.0000 - false_positives: 28.0000 - true_negatives: 5960.0000 - true_positives: 1967.0000 - val_loss: 0.0830 - val_Accuracy: 0.9547 - val_false_negatives: 24.0000 - val_false_positives: 23.0000 - val_true_negatives: 1501.0000 - val_true_positives: 484.0000\n",
            "Epoch 50/50\n",
            "63/63 [==============================] - 30s 469ms/step - loss: 0.0252 - Accuracy: 0.9830 - false_negatives: 36.0000 - false_positives: 33.0000 - true_negatives: 5955.0000 - true_positives: 1960.0000 - val_loss: 0.0301 - val_Accuracy: 0.9823 - val_false_negatives: 9.0000 - val_false_positives: 9.0000 - val_true_negatives: 1515.0000 - val_true_positives: 499.0000\n"
          ]
        }
      ]
    },
    {
      "cell_type": "markdown",
      "source": [
        "Plotting Traning Result"
      ],
      "metadata": {
        "id": "XZSFG8fXqz7c"
      }
    },
    {
      "cell_type": "code",
      "source": [
        "  #plotting\n",
        "  epochs = range(1, len(history.history['loss'])+1)\n",
        "  plt.title(f\"Grafik loss training iterasi {iterasi}\")\n",
        "  plt.plot(epochs, history.history['loss'], 'r', label='Training Loss')\n",
        "  plt.plot(epochs, history.history['val_loss'], 'b', label='Validation Loss')    \n",
        "  plt.xlabel(\"Epoch\")\n",
        "  plt.ylabel(\"Loss\")\n",
        "  plt.legend()\n",
        "  plt.show()\n"
      ],
      "metadata": {
        "id": "3dXbDrJpY1NK",
        "colab": {
          "base_uri": "https://localhost:8080/",
          "height": 295
        },
        "outputId": "6d3f994e-77fe-49cc-928a-4ac2f8003cb1"
      },
      "execution_count": 11,
      "outputs": [
        {
          "output_type": "display_data",
          "data": {
            "image/png": "[encoded data removed]",
            "text/plain": [
              "<Figure size 432x288 with 1 Axes>"
            ]
          },
          "metadata": {
            "needs_background": "light"
          }
        }
      ]
    },
    {
      "cell_type": "code",
      "source": [
        "  #plotting\n",
        "  epochs = range(1, len(history.history['loss'])+1)\n",
        "  plt.title(f\"Grafik Akurasi training iterasi {iterasi}\")\n",
        "  plt.plot(epochs, history.history['Accuracy'], 'r', label='Training Accuracy')\n",
        "  plt.plot(epochs, history.history['val_Accuracy'], 'b', label='Validation Accuracy')    \n",
        "  plt.xlabel(\"Epoch\")\n",
        "  plt.ylabel(\"Accuracy\")\n",
        "  plt.legend()\n",
        "  plt.show()"
      ],
      "metadata": {
        "colab": {
          "base_uri": "https://localhost:8080/",
          "height": 295
        },
        "id": "j3xigprPwlSX",
        "outputId": "743e362d-f09f-40da-fc18-cc9ea6839083"
      },
      "execution_count": 12,
      "outputs": [
        {
          "output_type": "display_data",
          "data": {
            "image/png": "[encoded data removed]",
            "text/plain": [
              "<Figure size 432x288 with 1 Axes>"
            ]
          },
          "metadata": {
            "needs_background": "light"
          }
        }
      ]
    },
    {
      "cell_type": "markdown",
      "metadata": {
        "id": "bTgk1-sdzmgy"
      },
      "source": [
        "**Validating** Network"
      ]
    },
    {
      "cell_type": "code",
      "source": [
        "import matplotlib.pyplot as plt\n",
        "from sklearn.datasets import make_classification\n",
        "from numpy import mean\n",
        "from sklearn.metrics import confusion_matrix, ConfusionMatrixDisplay, accuracy_score, classification_report, recall_score\n",
        "\n",
        "validation = model.predict(np_image_list_validation)\n",
        "\n",
        "predicted_labels = []\n",
        "correct_labels = []\n",
        "for i in range (len(validation)):\n",
        "  predicted_labels.append(np.argmax(validation[i]))\n",
        "\n",
        "for i in range (len(image_labels_validation)):\n",
        "  correct_labels.append(np.argmax(image_labels_validation[i]))\n",
        "\n",
        "\n",
        "confusion_matrix = confusion_matrix(correct_labels, predicted_labels)\n",
        "disp = ConfusionMatrixDisplay(confusion_matrix=confusion_matrix)  \n",
        "disp.plot()\n",
        "plt.show()\n",
        "print('--------')\n",
        "FP = confusion_matrix.sum(axis=0) - np.diag(confusion_matrix)  \n",
        "FN = confusion_matrix.sum(axis=1) - np.diag(confusion_matrix)\n",
        "TP = np.diag(confusion_matrix)\n",
        "TN = confusion_matrix.sum() - (FP + FN + TP)\n",
        "\n",
        "# Sensitivity, hit rate, recall, or true positive rate\n",
        "TPR = TP/(TP+FN)\n",
        "# Specificity or true negative rate\n",
        "TNR = TN/(TN+FP) \n",
        "# Overall accuracy\n",
        "ACC = (TP+TN)/(TP+FP+FN+TN)\n",
        "\n",
        "print(TP)\n",
        "print(TN)\n",
        "print(FP)\n",
        "print(FN)\n",
        "print('--------')\n",
        "print(ACC)\n",
        "print(TPR)\n",
        "print(TNR)\n",
        "print('--------')\n",
        "\n",
        "TP = sum(TP)\n",
        "TN = sum(TN)\n",
        "FP = sum(FP)\n",
        "FN = sum(FN)\n",
        "\n",
        "# Sensitivity, hit rate, recall, or true positive rate\n",
        "TPR = TP/(TP+FN)\n",
        "# Specificity or true negative rate\n",
        "TNR = TN/(TN+FP) \n",
        "# Overall accuracy\n",
        "ACC = (TP+TN)/(TP+FP+FN+TN)\n",
        "\n",
        "print(TP)\n",
        "print(TN)\n",
        "print(FP)\n",
        "print(FN)\n",
        "print('--------')\n",
        "print(ACC)\n",
        "print(TPR)\n",
        "print(TNR)\n"
      ],
      "metadata": {
        "colab": {
          "base_uri": "https://localhost:8080/",
          "height": 591
        },
        "id": "z9NBaYvZ61d7",
        "outputId": "ed63362b-773f-4226-8448-8966cbdf8fe0"
      },
      "execution_count": 13,
      "outputs": [
        {
          "output_type": "display_data",
          "data": {
            "image/png": "[encoded data removed]",
            "text/plain": [
              "<Figure size 432x288 with 2 Axes>"
            ]
          },
          "metadata": {
            "needs_background": "light"
          }
        },
        {
          "output_type": "stream",
          "name": "stdout",
          "text": [
            "--------\n",
            "[ 93  99  44 263]\n",
            "[407 407 464 237]\n",
            "[1 1 0 7]\n",
            "[7 1 0 1]\n",
            "--------\n",
            "[0.98425197 0.99606299 1.         0.98425197]\n",
            "[0.93       0.99       1.         0.99621212]\n",
            "[0.99754902 0.99754902 1.         0.97131148]\n",
            "--------\n",
            "499\n",
            "1515\n",
            "9\n",
            "9\n",
            "--------\n",
            "0.9911417322834646\n",
            "0.9822834645669292\n",
            "0.9940944881889764\n"
          ]
        }
      ]
    },
    {
      "cell_type": "markdown",
      "source": [
        "**Testing** Network"
      ],
      "metadata": {
        "id": "saJYjKqX9tRL"
      }
    },
    {
      "cell_type": "code",
      "source": [
        "import matplotlib.pyplot as plt\n",
        "from sklearn.datasets import make_classification\n",
        "from numpy import mean\n",
        "from sklearn.metrics import confusion_matrix, ConfusionMatrixDisplay, accuracy_score, classification_report, recall_score\n",
        "\n",
        "test = model.predict(np_image_list_test)\n",
        "\n",
        "predicted_labels = []\n",
        "correct_labels = []\n",
        "for i in range (len(test)):\n",
        "  predicted_labels.append(np.argmax(test[i]))\n",
        "\n",
        "for i in range (len(image_labels_test)):\n",
        "  correct_labels.append(np.argmax(image_labels_test[i]))\n",
        "\n",
        "\n",
        "confusion_matrix = confusion_matrix(correct_labels, predicted_labels)\n",
        "disp = ConfusionMatrixDisplay(confusion_matrix=confusion_matrix)  \n",
        "disp.plot()\n",
        "plt.show()\n",
        "print('--------')\n",
        "FP = confusion_matrix.sum(axis=0) - np.diag(confusion_matrix)  \n",
        "FN = confusion_matrix.sum(axis=1) - np.diag(confusion_matrix)\n",
        "TP = np.diag(confusion_matrix)\n",
        "TN = confusion_matrix.sum() - (FP + FN + TP)\n",
        "\n",
        "# Sensitivity, hit rate, recall, or true positive rate\n",
        "TPR = TP/(TP+FN)\n",
        "# Specificity or true negative rate\n",
        "TNR = TN/(TN+FP) \n",
        "# Overall accuracy\n",
        "ACC = (TP+TN)/(TP+FP+FN+TN)\n",
        "\n",
        "print(TP)\n",
        "print(TN)\n",
        "print(FP)\n",
        "print(FN)\n",
        "print('--------')\n",
        "print(ACC)\n",
        "print(TPR)\n",
        "print(TNR)\n",
        "print('--------')\n",
        "\n",
        "TP = sum(TP)\n",
        "TN = sum(TN)\n",
        "FP = sum(FP)\n",
        "FN = sum(FN)\n",
        "\n",
        "# Sensitivity, hit rate, recall, or true positive rate\n",
        "TPR = TP/(TP+FN)\n",
        "# Specificity or true negative rate\n",
        "TNR = TN/(TN+FP) \n",
        "# Overall accuracy\n",
        "ACC = (TP+TN)/(TP+FP+FN+TN)\n",
        "\n",
        "print(TP)\n",
        "print(TN)\n",
        "print(FP)\n",
        "print(FN)\n",
        "print('--------')\n",
        "print(ACC)\n",
        "print(TPR)\n",
        "print(TNR)"
      ],
      "metadata": {
        "colab": {
          "base_uri": "https://localhost:8080/",
          "height": 591
        },
        "id": "3a1AYdsF4FoY",
        "outputId": "2e1f7200-f7ff-482e-ef2a-c25af4d5292e"
      },
      "execution_count": 14,
      "outputs": [
        {
          "output_type": "display_data",
          "data": {
            "image/png": "[encoded data removed]",
            "text/plain": [
              "<Figure size 432x288 with 2 Axes>"
            ]
          },
          "metadata": {
            "needs_background": "light"
          }
        },
        {
          "output_type": "stream",
          "name": "stdout",
          "text": [
            "--------\n",
            "[115 124  54 327]\n",
            "[506 508 579 295]\n",
            "[ 2  2  0 10]\n",
            "[11  0  1  2]\n",
            "--------\n",
            "[0.97949527 0.99684543 0.99842271 0.98107256]\n",
            "[0.91269841 1.         0.98181818 0.99392097]\n",
            "[0.99606299 0.99607843 1.         0.96721311]\n",
            "--------\n",
            "620\n",
            "1888\n",
            "14\n",
            "14\n",
            "--------\n",
            "0.9889589905362776\n",
            "0.9779179810725552\n",
            "0.9926393270241851\n"
          ]
        }
      ]
    },
    {
      "cell_type": "code",
      "metadata": {
        "id": "AKd6Tu7mzmg2"
      },
      "source": [
        "# save the model to disk\n",
        "#print(\"[INFO] Saving model...\")\n",
        "# pickle.dump(model,open('cnn_model.pkl', 'wb'))\n",
        "model.save('/content/fold5.h5')    "
      ],
      "execution_count": 15,
      "outputs": []
    },
    {
      "cell_type": "code",
      "metadata": {
        "id": "O6iIKa7Jzmg7"
      },
      "source": [
        "#test_img = cv2.imread('/content/datasets/Apple/Apple___Black_rot/0139bc6d-391c-4fd1-bcae-cc74dabfddd7___JR_FrgE.S 2734.JPG')\n",
        "\n",
        "#plt.imshow(test_img)\n",
        "#test_img = test_img / 255\n",
        "#test_img = np.expand_dims(test_img, axis=0)\n",
        "#pr=model.predict(test_img)\n",
        "\n",
        "#print(pr)\n",
        "#output = label_binarizer.inverse_transform(pr)\n",
        "#print(output)\n"
      ],
      "execution_count": 16,
      "outputs": []
    }
  ]
}